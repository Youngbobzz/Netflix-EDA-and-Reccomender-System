{
 "cells": [
  {
   "cell_type": "markdown",
   "metadata": {},
   "source": [
    "# Netflix EDA and Reccomender System"
   ]
  },
  {
   "cell_type": "markdown",
   "metadata": {},
   "source": [
    "## Importing Libraries"
   ]
  },
  {
   "cell_type": "code",
   "execution_count": 1,
   "metadata": {},
   "outputs": [],
   "source": [
    "import pandas as pd\n",
    "import numpy as np\n",
    "import matplotlib.pyplot as plt\n",
    "import seaborn as sns\n",
    "from collections import Counter\n",
    "import plotly.express as px\n",
    "import plotly.graph_objs as go\n",
    "from sklearn.feature_extraction.text import CountVectorizer\n",
    "from sklearn.preprocessing import StandardScaler\n",
    "from sklearn.metrics.pairwise import cosine_similarity\n",
    "import pickle"
   ]
  },
  {
   "cell_type": "markdown",
   "metadata": {},
   "source": [
    "## Data Retriving"
   ]
  },
  {
   "cell_type": "code",
   "execution_count": 2,
   "metadata": {},
   "outputs": [
    {
     "data": {
      "text/html": [
       "<div>\n",
       "<style scoped>\n",
       "    .dataframe tbody tr th:only-of-type {\n",
       "        vertical-align: middle;\n",
       "    }\n",
       "\n",
       "    .dataframe tbody tr th {\n",
       "        vertical-align: top;\n",
       "    }\n",
       "\n",
       "    .dataframe thead th {\n",
       "        text-align: right;\n",
       "    }\n",
       "</style>\n",
       "<table border=\"1\" class=\"dataframe\">\n",
       "  <thead>\n",
       "    <tr style=\"text-align: right;\">\n",
       "      <th></th>\n",
       "      <th>show_id</th>\n",
       "      <th>type</th>\n",
       "      <th>title</th>\n",
       "      <th>director</th>\n",
       "      <th>cast</th>\n",
       "      <th>country</th>\n",
       "      <th>date_added</th>\n",
       "      <th>release_year</th>\n",
       "      <th>rating</th>\n",
       "      <th>duration</th>\n",
       "      <th>listed_in</th>\n",
       "      <th>description</th>\n",
       "    </tr>\n",
       "  </thead>\n",
       "  <tbody>\n",
       "    <tr>\n",
       "      <th>0</th>\n",
       "      <td>s1</td>\n",
       "      <td>Movie</td>\n",
       "      <td>Dick Johnson Is Dead</td>\n",
       "      <td>Kirsten Johnson</td>\n",
       "      <td>NaN</td>\n",
       "      <td>United States</td>\n",
       "      <td>September 25, 2021</td>\n",
       "      <td>2020</td>\n",
       "      <td>PG-13</td>\n",
       "      <td>90 min</td>\n",
       "      <td>Documentaries</td>\n",
       "      <td>As her father nears the end of his life, filmm...</td>\n",
       "    </tr>\n",
       "    <tr>\n",
       "      <th>1</th>\n",
       "      <td>s2</td>\n",
       "      <td>TV Show</td>\n",
       "      <td>Blood &amp; Water</td>\n",
       "      <td>NaN</td>\n",
       "      <td>Ama Qamata, Khosi Ngema, Gail Mabalane, Thaban...</td>\n",
       "      <td>South Africa</td>\n",
       "      <td>September 24, 2021</td>\n",
       "      <td>2021</td>\n",
       "      <td>TV-MA</td>\n",
       "      <td>2 Seasons</td>\n",
       "      <td>International TV Shows, TV Dramas, TV Mysteries</td>\n",
       "      <td>After crossing paths at a party, a Cape Town t...</td>\n",
       "    </tr>\n",
       "    <tr>\n",
       "      <th>2</th>\n",
       "      <td>s3</td>\n",
       "      <td>TV Show</td>\n",
       "      <td>Ganglands</td>\n",
       "      <td>Julien Leclercq</td>\n",
       "      <td>Sami Bouajila, Tracy Gotoas, Samuel Jouy, Nabi...</td>\n",
       "      <td>NaN</td>\n",
       "      <td>September 24, 2021</td>\n",
       "      <td>2021</td>\n",
       "      <td>TV-MA</td>\n",
       "      <td>1 Season</td>\n",
       "      <td>Crime TV Shows, International TV Shows, TV Act...</td>\n",
       "      <td>To protect his family from a powerful drug lor...</td>\n",
       "    </tr>\n",
       "    <tr>\n",
       "      <th>3</th>\n",
       "      <td>s4</td>\n",
       "      <td>TV Show</td>\n",
       "      <td>Jailbirds New Orleans</td>\n",
       "      <td>NaN</td>\n",
       "      <td>NaN</td>\n",
       "      <td>NaN</td>\n",
       "      <td>September 24, 2021</td>\n",
       "      <td>2021</td>\n",
       "      <td>TV-MA</td>\n",
       "      <td>1 Season</td>\n",
       "      <td>Docuseries, Reality TV</td>\n",
       "      <td>Feuds, flirtations and toilet talk go down amo...</td>\n",
       "    </tr>\n",
       "    <tr>\n",
       "      <th>4</th>\n",
       "      <td>s5</td>\n",
       "      <td>TV Show</td>\n",
       "      <td>Kota Factory</td>\n",
       "      <td>NaN</td>\n",
       "      <td>Mayur More, Jitendra Kumar, Ranjan Raj, Alam K...</td>\n",
       "      <td>India</td>\n",
       "      <td>September 24, 2021</td>\n",
       "      <td>2021</td>\n",
       "      <td>TV-MA</td>\n",
       "      <td>2 Seasons</td>\n",
       "      <td>International TV Shows, Romantic TV Shows, TV ...</td>\n",
       "      <td>In a city of coaching centers known to train I...</td>\n",
       "    </tr>\n",
       "  </tbody>\n",
       "</table>\n",
       "</div>"
      ],
      "text/plain": [
       "  show_id     type                  title         director  \\\n",
       "0      s1    Movie   Dick Johnson Is Dead  Kirsten Johnson   \n",
       "1      s2  TV Show          Blood & Water              NaN   \n",
       "2      s3  TV Show              Ganglands  Julien Leclercq   \n",
       "3      s4  TV Show  Jailbirds New Orleans              NaN   \n",
       "4      s5  TV Show           Kota Factory              NaN   \n",
       "\n",
       "                                                cast        country  \\\n",
       "0                                                NaN  United States   \n",
       "1  Ama Qamata, Khosi Ngema, Gail Mabalane, Thaban...   South Africa   \n",
       "2  Sami Bouajila, Tracy Gotoas, Samuel Jouy, Nabi...            NaN   \n",
       "3                                                NaN            NaN   \n",
       "4  Mayur More, Jitendra Kumar, Ranjan Raj, Alam K...          India   \n",
       "\n",
       "           date_added  release_year rating   duration  \\\n",
       "0  September 25, 2021          2020  PG-13     90 min   \n",
       "1  September 24, 2021          2021  TV-MA  2 Seasons   \n",
       "2  September 24, 2021          2021  TV-MA   1 Season   \n",
       "3  September 24, 2021          2021  TV-MA   1 Season   \n",
       "4  September 24, 2021          2021  TV-MA  2 Seasons   \n",
       "\n",
       "                                           listed_in  \\\n",
       "0                                      Documentaries   \n",
       "1    International TV Shows, TV Dramas, TV Mysteries   \n",
       "2  Crime TV Shows, International TV Shows, TV Act...   \n",
       "3                             Docuseries, Reality TV   \n",
       "4  International TV Shows, Romantic TV Shows, TV ...   \n",
       "\n",
       "                                         description  \n",
       "0  As her father nears the end of his life, filmm...  \n",
       "1  After crossing paths at a party, a Cape Town t...  \n",
       "2  To protect his family from a powerful drug lor...  \n",
       "3  Feuds, flirtations and toilet talk go down amo...  \n",
       "4  In a city of coaching centers known to train I...  "
      ]
     },
     "execution_count": 2,
     "metadata": {},
     "output_type": "execute_result"
    }
   ],
   "source": [
    "df = pd.read_csv('netflix_titles.csv')\n",
    "df.head()"
   ]
  },
  {
   "cell_type": "markdown",
   "metadata": {},
   "source": [
    "## Data Wragling"
   ]
  },
  {
   "cell_type": "markdown",
   "metadata": {},
   "source": [
    "### Cleaning Data"
   ]
  },
  {
   "cell_type": "markdown",
   "metadata": {},
   "source": [
    "#### Handling missing values"
   ]
  },
  {
   "cell_type": "code",
   "execution_count": 3,
   "metadata": {},
   "outputs": [
    {
     "data": {
      "text/plain": [
       "show_id            0\n",
       "type               0\n",
       "title              0\n",
       "director        2634\n",
       "cast             825\n",
       "country          831\n",
       "date_added        10\n",
       "release_year       0\n",
       "rating             4\n",
       "duration           3\n",
       "listed_in          0\n",
       "description        0\n",
       "dtype: int64"
      ]
     },
     "execution_count": 3,
     "metadata": {},
     "output_type": "execute_result"
    }
   ],
   "source": [
    "df.isna().sum()"
   ]
  },
  {
   "cell_type": "markdown",
   "metadata": {},
   "source": [
    "berdasarkan informasi diatas, terdapat:\n",
    "- 2634 missing values pada kolom 'director'\n",
    "- 825 missing values pada kolom 'cast'\n",
    "- 831 missing values pada kolom 'country'\n",
    "- 10 missing values pada kolom 'date_added'\n",
    "- 4 missing values pada kolom 'rating'\n",
    "- dan 3 missing values pada kolom  'duration'\n",
    "\n",
    "jiika diperhatikan terdapat banyak sekali missing values. jika kita hilangkan semua kolom yang memiliki missing values, maka banyak sekali informasi yang terbuang.\n",
    "maka untuk kolom yang memiliki banyak missing values, kami akan mengganti missing values tersebut dengan nilai yang paling sering muncul dengan menggunakan metode .fillna(). untuk kolom yang memiiliki sedikit missing values maka kami akan menghilangkan kolom tersebut dengan metoder .drop()."
   ]
  },
  {
   "cell_type": "code",
   "execution_count": 4,
   "metadata": {},
   "outputs": [],
   "source": [
    "# kolom dengan banyak missing values\n",
    "df[\"director\"].fillna(df[\"director\"].mode()[0],inplace=True)\n",
    "df[\"cast\"].fillna(df[\"cast\"].mode()[0],inplace=True)\n",
    "df[\"country\"].fillna(df[\"country\"].mode()[0],inplace=True)"
   ]
  },
  {
   "cell_type": "code",
   "execution_count": 5,
   "metadata": {},
   "outputs": [],
   "source": [
    "# kolom dengan sedikit missing values\n",
    "df.dropna(subset=['date_added','rating','duration'],inplace=True)"
   ]
  },
  {
   "cell_type": "code",
   "execution_count": 6,
   "metadata": {},
   "outputs": [
    {
     "data": {
      "text/plain": [
       "show_id         0\n",
       "type            0\n",
       "title           0\n",
       "director        0\n",
       "cast            0\n",
       "country         0\n",
       "date_added      0\n",
       "release_year    0\n",
       "rating          0\n",
       "duration        0\n",
       "listed_in       0\n",
       "description     0\n",
       "dtype: int64"
      ]
     },
     "execution_count": 6,
     "metadata": {},
     "output_type": "execute_result"
    }
   ],
   "source": [
    "df.isna().sum()"
   ]
  },
  {
   "cell_type": "markdown",
   "metadata": {},
   "source": [
    "sekarang sudah tidak terdapat missing values"
   ]
  },
  {
   "cell_type": "markdown",
   "metadata": {},
   "source": [
    "#### Handling Duplicated Data"
   ]
  },
  {
   "cell_type": "code",
   "execution_count": 7,
   "metadata": {},
   "outputs": [
    {
     "data": {
      "text/plain": [
       "0"
      ]
     },
     "execution_count": 7,
     "metadata": {},
     "output_type": "execute_result"
    }
   ],
   "source": [
    "df.duplicated().sum()"
   ]
  },
  {
   "cell_type": "markdown",
   "metadata": {},
   "source": [
    "dari informasi diatas, tidak terdapat data yang berduplikat"
   ]
  },
  {
   "cell_type": "markdown",
   "metadata": {},
   "source": [
    "### Integration Data"
   ]
  },
  {
   "cell_type": "markdown",
   "metadata": {},
   "source": [
    "#### Handling Data Type"
   ]
  },
  {
   "cell_type": "markdown",
   "metadata": {},
   "source": [
    "pada tahap ini kami akan memeriksa apakah ada perbedaan dalam tipe data"
   ]
  },
  {
   "cell_type": "code",
   "execution_count": 8,
   "metadata": {},
   "outputs": [
    {
     "name": "stdout",
     "output_type": "stream",
     "text": [
      "<class 'pandas.core.frame.DataFrame'>\n",
      "Int64Index: 8790 entries, 0 to 8806\n",
      "Data columns (total 12 columns):\n",
      " #   Column        Non-Null Count  Dtype \n",
      "---  ------        --------------  ----- \n",
      " 0   show_id       8790 non-null   object\n",
      " 1   type          8790 non-null   object\n",
      " 2   title         8790 non-null   object\n",
      " 3   director      8790 non-null   object\n",
      " 4   cast          8790 non-null   object\n",
      " 5   country       8790 non-null   object\n",
      " 6   date_added    8790 non-null   object\n",
      " 7   release_year  8790 non-null   int64 \n",
      " 8   rating        8790 non-null   object\n",
      " 9   duration      8790 non-null   object\n",
      " 10  listed_in     8790 non-null   object\n",
      " 11  description   8790 non-null   object\n",
      "dtypes: int64(1), object(11)\n",
      "memory usage: 892.7+ KB\n"
     ]
    }
   ],
   "source": [
    "df.info()"
   ]
  },
  {
   "cell_type": "markdown",
   "metadata": {},
   "source": [
    "dari informasi diatas, kami menemukan kejanggalan yaitu:\n",
    "- pada kolom 'date_added' memiliki tipe data object. agar lebih spesifik dan akurat, kami akan mengganti tipe data tersebut menjadi 'date_time'"
   ]
  },
  {
   "cell_type": "code",
   "execution_count": 9,
   "metadata": {},
   "outputs": [
    {
     "name": "stdout",
     "output_type": "stream",
     "text": [
      "<class 'pandas.core.frame.DataFrame'>\n",
      "Int64Index: 8790 entries, 0 to 8806\n",
      "Data columns (total 12 columns):\n",
      " #   Column        Non-Null Count  Dtype         \n",
      "---  ------        --------------  -----         \n",
      " 0   show_id       8790 non-null   object        \n",
      " 1   type          8790 non-null   object        \n",
      " 2   title         8790 non-null   object        \n",
      " 3   director      8790 non-null   object        \n",
      " 4   cast          8790 non-null   object        \n",
      " 5   country       8790 non-null   object        \n",
      " 6   date_added    8790 non-null   datetime64[ns]\n",
      " 7   release_year  8790 non-null   int64         \n",
      " 8   rating        8790 non-null   object        \n",
      " 9   duration      8790 non-null   object        \n",
      " 10  listed_in     8790 non-null   object        \n",
      " 11  description   8790 non-null   object        \n",
      "dtypes: datetime64[ns](1), int64(1), object(10)\n",
      "memory usage: 892.7+ KB\n"
     ]
    }
   ],
   "source": [
    "datetime_column = ['date_added']\n",
    "for column in datetime_column:\n",
    "    df[column] = pd.to_datetime(df[column])\n",
    "df.info()"
   ]
  },
  {
   "cell_type": "markdown",
   "metadata": {},
   "source": [
    "\n",
    "## EDA dan Data Visualization"
   ]
  },
  {
   "cell_type": "markdown",
   "metadata": {},
   "source": [
    "pada tahap ini kami akan melakukan EDA (Exploratory Data Analysis) untuk memahami karakteristik data dan menemukan insight dari dataframe kami"
   ]
  },
  {
   "cell_type": "code",
   "execution_count": 10,
   "metadata": {},
   "outputs": [
    {
     "name": "stderr",
     "output_type": "stream",
     "text": [
      "C:\\Users\\Nafi Kareem\\AppData\\Local\\Temp\\ipykernel_7824\\2884002236.py:1: FutureWarning: Treating datetime data as categorical rather than numeric in `.describe` is deprecated and will be removed in a future version of pandas. Specify `datetime_is_numeric=True` to silence this warning and adopt the future behavior now.\n",
      "  df.describe(include='all')\n"
     ]
    },
    {
     "data": {
      "text/html": [
       "<div>\n",
       "<style scoped>\n",
       "    .dataframe tbody tr th:only-of-type {\n",
       "        vertical-align: middle;\n",
       "    }\n",
       "\n",
       "    .dataframe tbody tr th {\n",
       "        vertical-align: top;\n",
       "    }\n",
       "\n",
       "    .dataframe thead th {\n",
       "        text-align: right;\n",
       "    }\n",
       "</style>\n",
       "<table border=\"1\" class=\"dataframe\">\n",
       "  <thead>\n",
       "    <tr style=\"text-align: right;\">\n",
       "      <th></th>\n",
       "      <th>show_id</th>\n",
       "      <th>type</th>\n",
       "      <th>title</th>\n",
       "      <th>director</th>\n",
       "      <th>cast</th>\n",
       "      <th>country</th>\n",
       "      <th>date_added</th>\n",
       "      <th>release_year</th>\n",
       "      <th>rating</th>\n",
       "      <th>duration</th>\n",
       "      <th>listed_in</th>\n",
       "      <th>description</th>\n",
       "    </tr>\n",
       "  </thead>\n",
       "  <tbody>\n",
       "    <tr>\n",
       "      <th>count</th>\n",
       "      <td>8790</td>\n",
       "      <td>8790</td>\n",
       "      <td>8790</td>\n",
       "      <td>8790</td>\n",
       "      <td>8790</td>\n",
       "      <td>8790</td>\n",
       "      <td>8790</td>\n",
       "      <td>8790.000000</td>\n",
       "      <td>8790</td>\n",
       "      <td>8790</td>\n",
       "      <td>8790</td>\n",
       "      <td>8790</td>\n",
       "    </tr>\n",
       "    <tr>\n",
       "      <th>unique</th>\n",
       "      <td>8790</td>\n",
       "      <td>2</td>\n",
       "      <td>8790</td>\n",
       "      <td>4526</td>\n",
       "      <td>7678</td>\n",
       "      <td>748</td>\n",
       "      <td>1713</td>\n",
       "      <td>NaN</td>\n",
       "      <td>14</td>\n",
       "      <td>220</td>\n",
       "      <td>513</td>\n",
       "      <td>8758</td>\n",
       "    </tr>\n",
       "    <tr>\n",
       "      <th>top</th>\n",
       "      <td>s1</td>\n",
       "      <td>Movie</td>\n",
       "      <td>Dick Johnson Is Dead</td>\n",
       "      <td>Rajiv Chilaka</td>\n",
       "      <td>David Attenborough</td>\n",
       "      <td>United States</td>\n",
       "      <td>2020-01-01 00:00:00</td>\n",
       "      <td>NaN</td>\n",
       "      <td>TV-MA</td>\n",
       "      <td>1 Season</td>\n",
       "      <td>Dramas, International Movies</td>\n",
       "      <td>Paranormal activity at a lush, abandoned prope...</td>\n",
       "    </tr>\n",
       "    <tr>\n",
       "      <th>freq</th>\n",
       "      <td>1</td>\n",
       "      <td>6126</td>\n",
       "      <td>1</td>\n",
       "      <td>2640</td>\n",
       "      <td>844</td>\n",
       "      <td>3638</td>\n",
       "      <td>110</td>\n",
       "      <td>NaN</td>\n",
       "      <td>3205</td>\n",
       "      <td>1791</td>\n",
       "      <td>362</td>\n",
       "      <td>4</td>\n",
       "    </tr>\n",
       "    <tr>\n",
       "      <th>first</th>\n",
       "      <td>NaN</td>\n",
       "      <td>NaN</td>\n",
       "      <td>NaN</td>\n",
       "      <td>NaN</td>\n",
       "      <td>NaN</td>\n",
       "      <td>NaN</td>\n",
       "      <td>2008-01-01 00:00:00</td>\n",
       "      <td>NaN</td>\n",
       "      <td>NaN</td>\n",
       "      <td>NaN</td>\n",
       "      <td>NaN</td>\n",
       "      <td>NaN</td>\n",
       "    </tr>\n",
       "    <tr>\n",
       "      <th>last</th>\n",
       "      <td>NaN</td>\n",
       "      <td>NaN</td>\n",
       "      <td>NaN</td>\n",
       "      <td>NaN</td>\n",
       "      <td>NaN</td>\n",
       "      <td>NaN</td>\n",
       "      <td>2021-09-25 00:00:00</td>\n",
       "      <td>NaN</td>\n",
       "      <td>NaN</td>\n",
       "      <td>NaN</td>\n",
       "      <td>NaN</td>\n",
       "      <td>NaN</td>\n",
       "    </tr>\n",
       "    <tr>\n",
       "      <th>mean</th>\n",
       "      <td>NaN</td>\n",
       "      <td>NaN</td>\n",
       "      <td>NaN</td>\n",
       "      <td>NaN</td>\n",
       "      <td>NaN</td>\n",
       "      <td>NaN</td>\n",
       "      <td>NaN</td>\n",
       "      <td>2014.183163</td>\n",
       "      <td>NaN</td>\n",
       "      <td>NaN</td>\n",
       "      <td>NaN</td>\n",
       "      <td>NaN</td>\n",
       "    </tr>\n",
       "    <tr>\n",
       "      <th>std</th>\n",
       "      <td>NaN</td>\n",
       "      <td>NaN</td>\n",
       "      <td>NaN</td>\n",
       "      <td>NaN</td>\n",
       "      <td>NaN</td>\n",
       "      <td>NaN</td>\n",
       "      <td>NaN</td>\n",
       "      <td>8.825466</td>\n",
       "      <td>NaN</td>\n",
       "      <td>NaN</td>\n",
       "      <td>NaN</td>\n",
       "      <td>NaN</td>\n",
       "    </tr>\n",
       "    <tr>\n",
       "      <th>min</th>\n",
       "      <td>NaN</td>\n",
       "      <td>NaN</td>\n",
       "      <td>NaN</td>\n",
       "      <td>NaN</td>\n",
       "      <td>NaN</td>\n",
       "      <td>NaN</td>\n",
       "      <td>NaN</td>\n",
       "      <td>1925.000000</td>\n",
       "      <td>NaN</td>\n",
       "      <td>NaN</td>\n",
       "      <td>NaN</td>\n",
       "      <td>NaN</td>\n",
       "    </tr>\n",
       "    <tr>\n",
       "      <th>25%</th>\n",
       "      <td>NaN</td>\n",
       "      <td>NaN</td>\n",
       "      <td>NaN</td>\n",
       "      <td>NaN</td>\n",
       "      <td>NaN</td>\n",
       "      <td>NaN</td>\n",
       "      <td>NaN</td>\n",
       "      <td>2013.000000</td>\n",
       "      <td>NaN</td>\n",
       "      <td>NaN</td>\n",
       "      <td>NaN</td>\n",
       "      <td>NaN</td>\n",
       "    </tr>\n",
       "    <tr>\n",
       "      <th>50%</th>\n",
       "      <td>NaN</td>\n",
       "      <td>NaN</td>\n",
       "      <td>NaN</td>\n",
       "      <td>NaN</td>\n",
       "      <td>NaN</td>\n",
       "      <td>NaN</td>\n",
       "      <td>NaN</td>\n",
       "      <td>2017.000000</td>\n",
       "      <td>NaN</td>\n",
       "      <td>NaN</td>\n",
       "      <td>NaN</td>\n",
       "      <td>NaN</td>\n",
       "    </tr>\n",
       "    <tr>\n",
       "      <th>75%</th>\n",
       "      <td>NaN</td>\n",
       "      <td>NaN</td>\n",
       "      <td>NaN</td>\n",
       "      <td>NaN</td>\n",
       "      <td>NaN</td>\n",
       "      <td>NaN</td>\n",
       "      <td>NaN</td>\n",
       "      <td>2019.000000</td>\n",
       "      <td>NaN</td>\n",
       "      <td>NaN</td>\n",
       "      <td>NaN</td>\n",
       "      <td>NaN</td>\n",
       "    </tr>\n",
       "    <tr>\n",
       "      <th>max</th>\n",
       "      <td>NaN</td>\n",
       "      <td>NaN</td>\n",
       "      <td>NaN</td>\n",
       "      <td>NaN</td>\n",
       "      <td>NaN</td>\n",
       "      <td>NaN</td>\n",
       "      <td>NaN</td>\n",
       "      <td>2021.000000</td>\n",
       "      <td>NaN</td>\n",
       "      <td>NaN</td>\n",
       "      <td>NaN</td>\n",
       "      <td>NaN</td>\n",
       "    </tr>\n",
       "  </tbody>\n",
       "</table>\n",
       "</div>"
      ],
      "text/plain": [
       "       show_id   type                 title       director  \\\n",
       "count     8790   8790                  8790           8790   \n",
       "unique    8790      2                  8790           4526   \n",
       "top         s1  Movie  Dick Johnson Is Dead  Rajiv Chilaka   \n",
       "freq         1   6126                     1           2640   \n",
       "first      NaN    NaN                   NaN            NaN   \n",
       "last       NaN    NaN                   NaN            NaN   \n",
       "mean       NaN    NaN                   NaN            NaN   \n",
       "std        NaN    NaN                   NaN            NaN   \n",
       "min        NaN    NaN                   NaN            NaN   \n",
       "25%        NaN    NaN                   NaN            NaN   \n",
       "50%        NaN    NaN                   NaN            NaN   \n",
       "75%        NaN    NaN                   NaN            NaN   \n",
       "max        NaN    NaN                   NaN            NaN   \n",
       "\n",
       "                      cast        country           date_added  release_year  \\\n",
       "count                 8790           8790                 8790   8790.000000   \n",
       "unique                7678            748                 1713           NaN   \n",
       "top     David Attenborough  United States  2020-01-01 00:00:00           NaN   \n",
       "freq                   844           3638                  110           NaN   \n",
       "first                  NaN            NaN  2008-01-01 00:00:00           NaN   \n",
       "last                   NaN            NaN  2021-09-25 00:00:00           NaN   \n",
       "mean                   NaN            NaN                  NaN   2014.183163   \n",
       "std                    NaN            NaN                  NaN      8.825466   \n",
       "min                    NaN            NaN                  NaN   1925.000000   \n",
       "25%                    NaN            NaN                  NaN   2013.000000   \n",
       "50%                    NaN            NaN                  NaN   2017.000000   \n",
       "75%                    NaN            NaN                  NaN   2019.000000   \n",
       "max                    NaN            NaN                  NaN   2021.000000   \n",
       "\n",
       "       rating  duration                     listed_in  \\\n",
       "count    8790      8790                          8790   \n",
       "unique     14       220                           513   \n",
       "top     TV-MA  1 Season  Dramas, International Movies   \n",
       "freq     3205      1791                           362   \n",
       "first     NaN       NaN                           NaN   \n",
       "last      NaN       NaN                           NaN   \n",
       "mean      NaN       NaN                           NaN   \n",
       "std       NaN       NaN                           NaN   \n",
       "min       NaN       NaN                           NaN   \n",
       "25%       NaN       NaN                           NaN   \n",
       "50%       NaN       NaN                           NaN   \n",
       "75%       NaN       NaN                           NaN   \n",
       "max       NaN       NaN                           NaN   \n",
       "\n",
       "                                              description  \n",
       "count                                                8790  \n",
       "unique                                               8758  \n",
       "top     Paranormal activity at a lush, abandoned prope...  \n",
       "freq                                                    4  \n",
       "first                                                 NaN  \n",
       "last                                                  NaN  \n",
       "mean                                                  NaN  \n",
       "std                                                   NaN  \n",
       "min                                                   NaN  \n",
       "25%                                                   NaN  \n",
       "50%                                                   NaN  \n",
       "75%                                                   NaN  \n",
       "max                                                   NaN  "
      ]
     },
     "execution_count": 10,
     "metadata": {},
     "output_type": "execute_result"
    }
   ],
   "source": [
    "df.describe(include='all')"
   ]
  },
  {
   "cell_type": "markdown",
   "metadata": {},
   "source": [
    "berdasarkan informasi diata, didapatkan infomasi:\n",
    "- terdapat 8790 jumlah konten yang terdapat dalam dataframe.\n",
    "- terdapat 2 jenis tipe konten dalam dataframe.\n",
    "- konten netflix ditambahkan paling tertua yaitu pada tahun 1925, dan terbaru yaitu pada tahun 2021.\n",
    "- konten netflix ditambahkan rata-rata pada tahun 2014."
   ]
  },
  {
   "cell_type": "markdown",
   "metadata": {},
   "source": [
    "untuk mendapatkan insight data lebih lanjut, kami akan mengekplorasi data berdasarkan beberapa poin, seperti :\n",
    "- analisis konten tahunan\n",
    "- Genre, rirector,cast yang paling populer\n",
    "- Tipe konten yang paling sering Muncul\n",
    "- Analisis Tipe Konten"
   ]
  },
  {
   "cell_type": "markdown",
   "metadata": {},
   "source": [
    "### Analisis Konten Tahunan"
   ]
  },
  {
   "cell_type": "code",
   "execution_count": 11,
   "metadata": {},
   "outputs": [
    {
     "data": {
      "text/html": [
       "<div>\n",
       "<style scoped>\n",
       "    .dataframe tbody tr th:only-of-type {\n",
       "        vertical-align: middle;\n",
       "    }\n",
       "\n",
       "    .dataframe tbody tr th {\n",
       "        vertical-align: top;\n",
       "    }\n",
       "\n",
       "    .dataframe thead th {\n",
       "        text-align: right;\n",
       "    }\n",
       "</style>\n",
       "<table border=\"1\" class=\"dataframe\">\n",
       "  <thead>\n",
       "    <tr style=\"text-align: right;\">\n",
       "      <th></th>\n",
       "      <th>release_year</th>\n",
       "      <th>type</th>\n",
       "    </tr>\n",
       "  </thead>\n",
       "  <tbody>\n",
       "    <tr>\n",
       "      <th>0</th>\n",
       "      <td>2018</td>\n",
       "      <td>1146</td>\n",
       "    </tr>\n",
       "    <tr>\n",
       "      <th>1</th>\n",
       "      <td>2019</td>\n",
       "      <td>1030</td>\n",
       "    </tr>\n",
       "    <tr>\n",
       "      <th>2</th>\n",
       "      <td>2017</td>\n",
       "      <td>1030</td>\n",
       "    </tr>\n",
       "    <tr>\n",
       "      <th>3</th>\n",
       "      <td>2020</td>\n",
       "      <td>953</td>\n",
       "    </tr>\n",
       "    <tr>\n",
       "      <th>4</th>\n",
       "      <td>2016</td>\n",
       "      <td>901</td>\n",
       "    </tr>\n",
       "    <tr>\n",
       "      <th>5</th>\n",
       "      <td>2021</td>\n",
       "      <td>592</td>\n",
       "    </tr>\n",
       "    <tr>\n",
       "      <th>6</th>\n",
       "      <td>2015</td>\n",
       "      <td>555</td>\n",
       "    </tr>\n",
       "    <tr>\n",
       "      <th>7</th>\n",
       "      <td>2014</td>\n",
       "      <td>352</td>\n",
       "    </tr>\n",
       "    <tr>\n",
       "      <th>8</th>\n",
       "      <td>2013</td>\n",
       "      <td>286</td>\n",
       "    </tr>\n",
       "    <tr>\n",
       "      <th>9</th>\n",
       "      <td>2012</td>\n",
       "      <td>236</td>\n",
       "    </tr>\n",
       "    <tr>\n",
       "      <th>10</th>\n",
       "      <td>2010</td>\n",
       "      <td>192</td>\n",
       "    </tr>\n",
       "    <tr>\n",
       "      <th>11</th>\n",
       "      <td>2011</td>\n",
       "      <td>185</td>\n",
       "    </tr>\n",
       "    <tr>\n",
       "      <th>12</th>\n",
       "      <td>2009</td>\n",
       "      <td>152</td>\n",
       "    </tr>\n",
       "    <tr>\n",
       "      <th>13</th>\n",
       "      <td>2008</td>\n",
       "      <td>135</td>\n",
       "    </tr>\n",
       "    <tr>\n",
       "      <th>14</th>\n",
       "      <td>2006</td>\n",
       "      <td>96</td>\n",
       "    </tr>\n",
       "  </tbody>\n",
       "</table>\n",
       "</div>"
      ],
      "text/plain": [
       "    release_year  type\n",
       "0           2018  1146\n",
       "1           2019  1030\n",
       "2           2017  1030\n",
       "3           2020   953\n",
       "4           2016   901\n",
       "5           2021   592\n",
       "6           2015   555\n",
       "7           2014   352\n",
       "8           2013   286\n",
       "9           2012   236\n",
       "10          2010   192\n",
       "11          2011   185\n",
       "12          2009   152\n",
       "13          2008   135\n",
       "14          2006    96"
      ]
     },
     "execution_count": 11,
     "metadata": {},
     "output_type": "execute_result"
    }
   ],
   "source": [
    "df.groupby(by='release_year').type.count().sort_values(ascending=False).reset_index().head(15)"
   ]
  },
  {
   "cell_type": "code",
   "execution_count": 12,
   "metadata": {},
   "outputs": [
    {
     "data": {
      "text/plain": [
       "Text(0, 0.5, 'Year')"
      ]
     },
     "execution_count": 12,
     "metadata": {},
     "output_type": "execute_result"
    },
    {
     "data": {
      "image/png": "[encoded data removed]",
      "text/plain": [
       "<Figure size 1200x1000 with 1 Axes>"
      ]
     },
     "metadata": {},
     "output_type": "display_data"
    }
   ],
   "source": [
    "plt.figure(figsize=(12,10))\n",
    "sns.set(style=\"darkgrid\")\n",
    "sns.countplot(y=\"release_year\", data= df, palette=\"cool\", order= df['release_year'].value_counts().index[0:15],hue=df['type'])\n",
    "plt.title('Annual Content')\n",
    "plt.xlabel('Total')\n",
    "plt.ylabel('Year')"
   ]
  },
  {
   "cell_type": "markdown",
   "metadata": {},
   "source": [
    "berdasarkan infomrasi diatas, dapat disimpulkan bahwa:\n",
    "- Netflix merilis konten terbanyak pada tahun 2018.\n",
    "- Pertumbuhan signifikan terjadi mulai pada tahun 2015."
   ]
  },
  {
   "cell_type": "markdown",
   "metadata": {},
   "source": [
    "### Genre, Director, dan Cast Paling Populer"
   ]
  },
  {
   "cell_type": "markdown",
   "metadata": {},
   "source": [
    "#### genre yang paling populer"
   ]
  },
  {
   "cell_type": "code",
   "execution_count": 13,
   "metadata": {},
   "outputs": [
    {
     "data": {
      "text/html": [
       "<div>\n",
       "<style scoped>\n",
       "    .dataframe tbody tr th:only-of-type {\n",
       "        vertical-align: middle;\n",
       "    }\n",
       "\n",
       "    .dataframe tbody tr th {\n",
       "        vertical-align: top;\n",
       "    }\n",
       "\n",
       "    .dataframe thead th {\n",
       "        text-align: right;\n",
       "    }\n",
       "</style>\n",
       "<table border=\"1\" class=\"dataframe\">\n",
       "  <thead>\n",
       "    <tr style=\"text-align: right;\">\n",
       "      <th></th>\n",
       "      <th>Genre</th>\n",
       "      <th>Total</th>\n",
       "    </tr>\n",
       "  </thead>\n",
       "  <tbody>\n",
       "    <tr>\n",
       "      <th>41</th>\n",
       "      <td>InternationalMovies</td>\n",
       "      <td>2752</td>\n",
       "    </tr>\n",
       "    <tr>\n",
       "      <th>40</th>\n",
       "      <td>Dramas</td>\n",
       "      <td>2426</td>\n",
       "    </tr>\n",
       "    <tr>\n",
       "      <th>39</th>\n",
       "      <td>Comedies</td>\n",
       "      <td>1674</td>\n",
       "    </tr>\n",
       "    <tr>\n",
       "      <th>38</th>\n",
       "      <td>InternationalTVShows</td>\n",
       "      <td>1349</td>\n",
       "    </tr>\n",
       "    <tr>\n",
       "      <th>37</th>\n",
       "      <td>Documentaries</td>\n",
       "      <td>869</td>\n",
       "    </tr>\n",
       "    <tr>\n",
       "      <th>36</th>\n",
       "      <td>Action&amp;Adventure</td>\n",
       "      <td>859</td>\n",
       "    </tr>\n",
       "    <tr>\n",
       "      <th>35</th>\n",
       "      <td>TVDramas</td>\n",
       "      <td>762</td>\n",
       "    </tr>\n",
       "    <tr>\n",
       "      <th>34</th>\n",
       "      <td>IndependentMovies</td>\n",
       "      <td>756</td>\n",
       "    </tr>\n",
       "    <tr>\n",
       "      <th>33</th>\n",
       "      <td>Children&amp;FamilyMovies</td>\n",
       "      <td>641</td>\n",
       "    </tr>\n",
       "    <tr>\n",
       "      <th>32</th>\n",
       "      <td>RomanticMovies</td>\n",
       "      <td>616</td>\n",
       "    </tr>\n",
       "  </tbody>\n",
       "</table>\n",
       "</div>"
      ],
      "text/plain": [
       "                    Genre  Total\n",
       "41    InternationalMovies   2752\n",
       "40                 Dramas   2426\n",
       "39               Comedies   1674\n",
       "38   InternationalTVShows   1349\n",
       "37          Documentaries    869\n",
       "36       Action&Adventure    859\n",
       "35               TVDramas    762\n",
       "34      IndependentMovies    756\n",
       "33  Children&FamilyMovies    641\n",
       "32         RomanticMovies    616"
      ]
     },
     "execution_count": 13,
     "metadata": {},
     "output_type": "execute_result"
    }
   ],
   "source": [
    "# memisahkan tiap value\n",
    "genres=list(df['listed_in'])\n",
    "gen=[]\n",
    "\n",
    "for i in genres:\n",
    "    i=list(i.split(','))\n",
    "    for j in i:\n",
    "        gen.append(j.replace(' ',\"\"))\n",
    "   \n",
    "g=Counter(gen)\n",
    "\n",
    "genres=list(df['listed_in'])\n",
    "gen=[]\n",
    "\n",
    "for i in genres:\n",
    "    i=list(i.split(','))\n",
    "    for j in i:\n",
    "        gen.append(j.replace(' ',\"\"))\n",
    "\n",
    "\n",
    "dic_order = dict(sorted(g.items(), key=lambda item: item[1]))\n",
    "dic_order\n",
    "\n",
    "data1 = {\n",
    "    'Genre': list(dic_order.keys()),\n",
    "    'Total': list(dic_order.values())\n",
    "}\n",
    "\n",
    "popular_genre_df = pd.DataFrame(data1).sort_values(by='Total', ascending=False)\n",
    "popular_genre_df.head(10)\n"
   ]
  },
  {
   "cell_type": "code",
   "execution_count": 14,
   "metadata": {},
   "outputs": [
    {
     "data": {
      "application/vnd.plotly.v1+json": {
       "config": {
        "plotlyServerURL": "https://plot.ly"
       },
       "data": [
        {
         "branchvalues": "total",
         "domain": {
          "x": [
           0,
           1
          ],
          "y": [
           0,
           1
          ]
         },
         "hovertemplate": "labels=%{label}<br>Total=%{value}<br>parent=%{parent}<br>id=%{id}<extra></extra>",
         "ids": [
          "Action&Adventure",
          "Children&FamilyMovies",
          "Comedies",
          "Documentaries",
          "Dramas",
          "IndependentMovies",
          "InternationalMovies",
          "InternationalTVShows",
          "RomanticMovies",
          "TVDramas"
         ],
         "labels": [
          "Action&Adventure",
          "Children&FamilyMovies",
          "Comedies",
          "Documentaries",
          "Dramas",
          "IndependentMovies",
          "InternationalMovies",
          "InternationalTVShows",
          "RomanticMovies",
          "TVDramas"
         ],
         "name": "",
         "parents": [
          "",
          "",
          "",
          "",
          "",
          "",
          "",
          "",
          "",
          ""
         ],
         "type": "sunburst",
         "values": [
          859,
          641,
          1674,
          869,
          2426,
          756,
          2752,
          1349,
          616,
          762
         ]
        }
       ],
       "layout": {
        "legend": {
         "tracegroupgap": 0
        },
        "margin": {
         "t": 60
        },
        "sunburstcolorway": [
         "#660000",
         "#990000",
         "#CC0000",
         "#FF0000",
         "#FF3333"
        ],
        "template": {
         "data": {
          "bar": [
           {
            "error_x": {
             "color": "#2a3f5f"
            },
            "error_y": {
             "color": "#2a3f5f"
            },
            "marker": {
             "line": {
              "color": "#E5ECF6",
              "width": 0.5
             },
             "pattern": {
              "fillmode": "overlay",
              "size": 10,
              "solidity": 0.2
             }
            },
            "type": "bar"
           }
          ],
          "barpolar": [
           {
            "marker": {
             "line": {
              "color": "#E5ECF6",
              "width": 0.5
             },
             "pattern": {
              "fillmode": "overlay",
              "size": 10,
              "solidity": 0.2
             }
            },
            "type": "barpolar"
           }
          ],
          "carpet": [
           {
            "aaxis": {
             "endlinecolor": "#2a3f5f",
             "gridcolor": "white",
             "linecolor": "white",
             "minorgridcolor": "white",
             "startlinecolor": "#2a3f5f"
            },
            "baxis": {
             "endlinecolor": "#2a3f5f",
             "gridcolor": "white",
             "linecolor": "white",
             "minorgridcolor": "white",
             "startlinecolor": "#2a3f5f"
            },
            "type": "carpet"
           }
          ],
          "choropleth": [
           {
            "colorbar": {
             "outlinewidth": 0,
             "ticks": ""
            },
            "type": "choropleth"
           }
          ],
          "contour": [
           {
            "colorbar": {
             "outlinewidth": 0,
             "ticks": ""
            },
            "colorscale": [
             [
              0,
              "#0d0887"
             ],
             [
              0.1111111111111111,
              "#46039f"
             ],
             [
              0.2222222222222222,
              "#7201a8"
             ],
             [
              0.3333333333333333,
              "#9c179e"
             ],
             [
              0.4444444444444444,
              "#bd3786"
             ],
             [
              0.5555555555555556,
              "#d8576b"
             ],
             [
              0.6666666666666666,
              "#ed7953"
             ],
             [
              0.7777777777777778,
              "#fb9f3a"
             ],
             [
              0.8888888888888888,
              "#fdca26"
             ],
             [
              1,
              "#f0f921"
             ]
            ],
            "type": "contour"
           }
          ],
          "contourcarpet": [
           {
            "colorbar": {
             "outlinewidth": 0,
             "ticks": ""
            },
            "type": "contourcarpet"
           }
          ],
          "heatmap": [
           {
            "colorbar": {
             "outlinewidth": 0,
             "ticks": ""
            },
            "colorscale": [
             [
              0,
              "#0d0887"
             ],
             [
              0.1111111111111111,
              "#46039f"
             ],
             [
              0.2222222222222222,
              "#7201a8"
             ],
             [
              0.3333333333333333,
              "#9c179e"
             ],
             [
              0.4444444444444444,
              "#bd3786"
             ],
             [
              0.5555555555555556,
              "#d8576b"
             ],
             [
              0.6666666666666666,
              "#ed7953"
             ],
             [
              0.7777777777777778,
              "#fb9f3a"
             ],
             [
              0.8888888888888888,
              "#fdca26"
             ],
             [
              1,
              "#f0f921"
             ]
            ],
            "type": "heatmap"
           }
          ],
          "heatmapgl": [
           {
            "colorbar": {
             "outlinewidth": 0,
             "ticks": ""
            },
            "colorscale": [
             [
              0,
              "#0d0887"
             ],
             [
              0.1111111111111111,
              "#46039f"
             ],
             [
              0.2222222222222222,
              "#7201a8"
             ],
             [
              0.3333333333333333,
              "#9c179e"
             ],
             [
              0.4444444444444444,
              "#bd3786"
             ],
             [
              0.5555555555555556,
              "#d8576b"
             ],
             [
              0.6666666666666666,
              "#ed7953"
             ],
             [
              0.7777777777777778,
              "#fb9f3a"
             ],
             [
              0.8888888888888888,
              "#fdca26"
             ],
             [
              1,
              "#f0f921"
             ]
            ],
            "type": "heatmapgl"
           }
          ],
          "histogram": [
           {
            "marker": {
             "pattern": {
              "fillmode": "overlay",
              "size": 10,
              "solidity": 0.2
             }
            },
            "type": "histogram"
           }
          ],
          "histogram2d": [
           {
            "colorbar": {
             "outlinewidth": 0,
             "ticks": ""
            },
            "colorscale": [
             [
              0,
              "#0d0887"
             ],
             [
              0.1111111111111111,
              "#46039f"
             ],
             [
              0.2222222222222222,
              "#7201a8"
             ],
             [
              0.3333333333333333,
              "#9c179e"
             ],
             [
              0.4444444444444444,
              "#bd3786"
             ],
             [
              0.5555555555555556,
              "#d8576b"
             ],
             [
              0.6666666666666666,
              "#ed7953"
             ],
             [
              0.7777777777777778,
              "#fb9f3a"
             ],
             [
              0.8888888888888888,
              "#fdca26"
             ],
             [
              1,
              "#f0f921"
             ]
            ],
            "type": "histogram2d"
           }
          ],
          "histogram2dcontour": [
           {
            "colorbar": {
             "outlinewidth": 0,
             "ticks": ""
            },
            "colorscale": [
             [
              0,
              "#0d0887"
             ],
             [
              0.1111111111111111,
              "#46039f"
             ],
             [
              0.2222222222222222,
              "#7201a8"
             ],
             [
              0.3333333333333333,
              "#9c179e"
             ],
             [
              0.4444444444444444,
              "#bd3786"
             ],
             [
              0.5555555555555556,
              "#d8576b"
             ],
             [
              0.6666666666666666,
              "#ed7953"
             ],
             [
              0.7777777777777778,
              "#fb9f3a"
             ],
             [
              0.8888888888888888,
              "#fdca26"
             ],
             [
              1,
              "#f0f921"
             ]
            ],
            "type": "histogram2dcontour"
           }
          ],
          "mesh3d": [
           {
            "colorbar": {
             "outlinewidth": 0,
             "ticks": ""
            },
            "type": "mesh3d"
           }
          ],
          "parcoords": [
           {
            "line": {
             "colorbar": {
              "outlinewidth": 0,
              "ticks": ""
             }
            },
            "type": "parcoords"
           }
          ],
          "pie": [
           {
            "automargin": true,
            "type": "pie"
           }
          ],
          "scatter": [
           {
            "fillpattern": {
             "fillmode": "overlay",
             "size": 10,
             "solidity": 0.2
            },
            "type": "scatter"
           }
          ],
          "scatter3d": [
           {
            "line": {
             "colorbar": {
              "outlinewidth": 0,
              "ticks": ""
             }
            },
            "marker": {
             "colorbar": {
              "outlinewidth": 0,
              "ticks": ""
             }
            },
            "type": "scatter3d"
           }
          ],
          "scattercarpet": [
           {
            "marker": {
             "colorbar": {
              "outlinewidth": 0,
              "ticks": ""
             }
            },
            "type": "scattercarpet"
           }
          ],
          "scattergeo": [
           {
            "marker": {
             "colorbar": {
              "outlinewidth": 0,
              "ticks": ""
             }
            },
            "type": "scattergeo"
           }
          ],
          "scattergl": [
           {
            "marker": {
             "colorbar": {
              "outlinewidth": 0,
              "ticks": ""
             }
            },
            "type": "scattergl"
           }
          ],
          "scattermapbox": [
           {
            "marker": {
             "colorbar": {
              "outlinewidth": 0,
              "ticks": ""
             }
            },
            "type": "scattermapbox"
           }
          ],
          "scatterpolar": [
           {
            "marker": {
             "colorbar": {
              "outlinewidth": 0,
              "ticks": ""
             }
            },
            "type": "scatterpolar"
           }
          ],
          "scatterpolargl": [
           {
            "marker": {
             "colorbar": {
              "outlinewidth": 0,
              "ticks": ""
             }
            },
            "type": "scatterpolargl"
           }
          ],
          "scatterternary": [
           {
            "marker": {
             "colorbar": {
              "outlinewidth": 0,
              "ticks": ""
             }
            },
            "type": "scatterternary"
           }
          ],
          "surface": [
           {
            "colorbar": {
             "outlinewidth": 0,
             "ticks": ""
            },
            "colorscale": [
             [
              0,
              "#0d0887"
             ],
             [
              0.1111111111111111,
              "#46039f"
             ],
             [
              0.2222222222222222,
              "#7201a8"
             ],
             [
              0.3333333333333333,
              "#9c179e"
             ],
             [
              0.4444444444444444,
              "#bd3786"
             ],
             [
              0.5555555555555556,
              "#d8576b"
             ],
             [
              0.6666666666666666,
              "#ed7953"
             ],
             [
              0.7777777777777778,
              "#fb9f3a"
             ],
             [
              0.8888888888888888,
              "#fdca26"
             ],
             [
              1,
              "#f0f921"
             ]
            ],
            "type": "surface"
           }
          ],
          "table": [
           {
            "cells": {
             "fill": {
              "color": "#EBF0F8"
             },
             "line": {
              "color": "white"
             }
            },
            "header": {
             "fill": {
              "color": "#C8D4E3"
             },
             "line": {
              "color": "white"
             }
            },
            "type": "table"
           }
          ]
         },
         "layout": {
          "annotationdefaults": {
           "arrowcolor": "#2a3f5f",
           "arrowhead": 0,
           "arrowwidth": 1
          },
          "autotypenumbers": "strict",
          "coloraxis": {
           "colorbar": {
            "outlinewidth": 0,
            "ticks": ""
           }
          },
          "colorscale": {
           "diverging": [
            [
             0,
             "#8e0152"
            ],
            [
             0.1,
             "#c51b7d"
            ],
            [
             0.2,
             "#de77ae"
            ],
            [
             0.3,
             "#f1b6da"
            ],
            [
             0.4,
             "#fde0ef"
            ],
            [
             0.5,
             "#f7f7f7"
            ],
            [
             0.6,
             "#e6f5d0"
            ],
            [
             0.7,
             "#b8e186"
            ],
            [
             0.8,
             "#7fbc41"
            ],
            [
             0.9,
             "#4d9221"
            ],
            [
             1,
             "#276419"
            ]
           ],
           "sequential": [
            [
             0,
             "#0d0887"
            ],
            [
             0.1111111111111111,
             "#46039f"
            ],
            [
             0.2222222222222222,
             "#7201a8"
            ],
            [
             0.3333333333333333,
             "#9c179e"
            ],
            [
             0.4444444444444444,
             "#bd3786"
            ],
            [
             0.5555555555555556,
             "#d8576b"
            ],
            [
             0.6666666666666666,
             "#ed7953"
            ],
            [
             0.7777777777777778,
             "#fb9f3a"
            ],
            [
             0.8888888888888888,
             "#fdca26"
            ],
            [
             1,
             "#f0f921"
            ]
           ],
           "sequentialminus": [
            [
             0,
             "#0d0887"
            ],
            [
             0.1111111111111111,
             "#46039f"
            ],
            [
             0.2222222222222222,
             "#7201a8"
            ],
            [
             0.3333333333333333,
             "#9c179e"
            ],
            [
             0.4444444444444444,
             "#bd3786"
            ],
            [
             0.5555555555555556,
             "#d8576b"
            ],
            [
             0.6666666666666666,
             "#ed7953"
            ],
            [
             0.7777777777777778,
             "#fb9f3a"
            ],
            [
             0.8888888888888888,
             "#fdca26"
            ],
            [
             1,
             "#f0f921"
            ]
           ]
          },
          "colorway": [
           "#636efa",
           "#EF553B",
           "#00cc96",
           "#ab63fa",
           "#FFA15A",
           "#19d3f3",
           "#FF6692",
           "#B6E880",
           "#FF97FF",
           "#FECB52"
          ],
          "font": {
           "color": "#2a3f5f"
          },
          "geo": {
           "bgcolor": "white",
           "lakecolor": "white",
           "landcolor": "#E5ECF6",
           "showlakes": true,
           "showland": true,
           "subunitcolor": "white"
          },
          "hoverlabel": {
           "align": "left"
          },
          "hovermode": "closest",
          "mapbox": {
           "style": "light"
          },
          "paper_bgcolor": "white",
          "plot_bgcolor": "#E5ECF6",
          "polar": {
           "angularaxis": {
            "gridcolor": "white",
            "linecolor": "white",
            "ticks": ""
           },
           "bgcolor": "#E5ECF6",
           "radialaxis": {
            "gridcolor": "white",
            "linecolor": "white",
            "ticks": ""
           }
          },
          "scene": {
           "xaxis": {
            "backgroundcolor": "#E5ECF6",
            "gridcolor": "white",
            "gridwidth": 2,
            "linecolor": "white",
            "showbackground": true,
            "ticks": "",
            "zerolinecolor": "white"
           },
           "yaxis": {
            "backgroundcolor": "#E5ECF6",
            "gridcolor": "white",
            "gridwidth": 2,
            "linecolor": "white",
            "showbackground": true,
            "ticks": "",
            "zerolinecolor": "white"
           },
           "zaxis": {
            "backgroundcolor": "#E5ECF6",
            "gridcolor": "white",
            "gridwidth": 2,
            "linecolor": "white",
            "showbackground": true,
            "ticks": "",
            "zerolinecolor": "white"
           }
          },
          "shapedefaults": {
           "line": {
            "color": "#2a3f5f"
           }
          },
          "ternary": {
           "aaxis": {
            "gridcolor": "white",
            "linecolor": "white",
            "ticks": ""
           },
           "baxis": {
            "gridcolor": "white",
            "linecolor": "white",
            "ticks": ""
           },
           "bgcolor": "#E5ECF6",
           "caxis": {
            "gridcolor": "white",
            "linecolor": "white",
            "ticks": ""
           }
          },
          "title": {
           "x": 0.05
          },
          "xaxis": {
           "automargin": true,
           "gridcolor": "white",
           "linecolor": "white",
           "ticks": "",
           "title": {
            "standoff": 15
           },
           "zerolinecolor": "white",
           "zerolinewidth": 2
          },
          "yaxis": {
           "automargin": true,
           "gridcolor": "white",
           "linecolor": "white",
           "ticks": "",
           "title": {
            "standoff": 15
           },
           "zerolinecolor": "white",
           "zerolinewidth": 2
          }
         }
        },
        "title": {
         "text": "Most Popular Genre"
        }
       }
      }
     },
     "metadata": {},
     "output_type": "display_data"
    }
   ],
   "source": [
    "colors =  ['#660000', '#990000', '#CC0000', '#FF0000', '#FF3333']\n",
    "\n",
    "fig = px.sunburst(popular_genre_df.head(10), path=['Genre'], values='Total', color_discrete_sequence=colors)\n",
    "fig.update_layout(title_text=\"Most Popular Genre\")\n",
    "fig.show()"
   ]
  },
  {
   "cell_type": "markdown",
   "metadata": {},
   "source": [
    "dari informasi diatas dapat disimpulkan bahwa InternationalMovies\tmerupakan genre yang paling populer dengan jumlah 2752"
   ]
  },
  {
   "cell_type": "markdown",
   "metadata": {},
   "source": [
    "#### Director yang paling populer"
   ]
  },
  {
   "cell_type": "code",
   "execution_count": 15,
   "metadata": {},
   "outputs": [
    {
     "data": {
      "text/html": [
       "<div>\n",
       "<style scoped>\n",
       "    .dataframe tbody tr th:only-of-type {\n",
       "        vertical-align: middle;\n",
       "    }\n",
       "\n",
       "    .dataframe tbody tr th {\n",
       "        vertical-align: top;\n",
       "    }\n",
       "\n",
       "    .dataframe thead th {\n",
       "        text-align: right;\n",
       "    }\n",
       "</style>\n",
       "<table border=\"1\" class=\"dataframe\">\n",
       "  <thead>\n",
       "    <tr style=\"text-align: right;\">\n",
       "      <th></th>\n",
       "      <th>director</th>\n",
       "      <th>total_shows</th>\n",
       "    </tr>\n",
       "  </thead>\n",
       "  <tbody>\n",
       "    <tr>\n",
       "      <th>0</th>\n",
       "      <td>Rajiv Chilaka</td>\n",
       "      <td>2640</td>\n",
       "    </tr>\n",
       "    <tr>\n",
       "      <th>1</th>\n",
       "      <td>Raúl Campos, Jan Suter</td>\n",
       "      <td>18</td>\n",
       "    </tr>\n",
       "    <tr>\n",
       "      <th>2</th>\n",
       "      <td>Suhas Kadav</td>\n",
       "      <td>16</td>\n",
       "    </tr>\n",
       "    <tr>\n",
       "      <th>3</th>\n",
       "      <td>Marcus Raboy</td>\n",
       "      <td>16</td>\n",
       "    </tr>\n",
       "    <tr>\n",
       "      <th>4</th>\n",
       "      <td>Jay Karas</td>\n",
       "      <td>14</td>\n",
       "    </tr>\n",
       "    <tr>\n",
       "      <th>5</th>\n",
       "      <td>Cathy Garcia-Molina</td>\n",
       "      <td>13</td>\n",
       "    </tr>\n",
       "    <tr>\n",
       "      <th>6</th>\n",
       "      <td>Jay Chapman</td>\n",
       "      <td>12</td>\n",
       "    </tr>\n",
       "    <tr>\n",
       "      <th>7</th>\n",
       "      <td>Youssef Chahine</td>\n",
       "      <td>12</td>\n",
       "    </tr>\n",
       "    <tr>\n",
       "      <th>8</th>\n",
       "      <td>Martin Scorsese</td>\n",
       "      <td>12</td>\n",
       "    </tr>\n",
       "    <tr>\n",
       "      <th>9</th>\n",
       "      <td>Steven Spielberg</td>\n",
       "      <td>11</td>\n",
       "    </tr>\n",
       "  </tbody>\n",
       "</table>\n",
       "</div>"
      ],
      "text/plain": [
       "                 director  total_shows\n",
       "0           Rajiv Chilaka         2640\n",
       "1  Raúl Campos, Jan Suter           18\n",
       "2             Suhas Kadav           16\n",
       "3            Marcus Raboy           16\n",
       "4               Jay Karas           14\n",
       "5     Cathy Garcia-Molina           13\n",
       "6             Jay Chapman           12\n",
       "7         Youssef Chahine           12\n",
       "8         Martin Scorsese           12\n",
       "9        Steven Spielberg           11"
      ]
     },
     "execution_count": 15,
     "metadata": {},
     "output_type": "execute_result"
    }
   ],
   "source": [
    "df.groupby(by='director').show_id.nunique().sort_values(ascending=False).reset_index().rename(columns={\n",
    "    'show_id':'total_shows'\n",
    "}).head(10)"
   ]
  },
  {
   "cell_type": "code",
   "execution_count": 16,
   "metadata": {},
   "outputs": [
    {
     "data": {
      "text/plain": [
       "Text(0, 0.5, 'Directors')"
      ]
     },
     "execution_count": 16,
     "metadata": {},
     "output_type": "execute_result"
    },
    {
     "data": {
      "image/png": "[encoded data removed]",
      "text/plain": [
       "<Figure size 640x480 with 1 Axes>"
      ]
     },
     "metadata": {},
     "output_type": "display_data"
    }
   ],
   "source": [
    "sns.countplot(\n",
    "    y= 'director',\n",
    "    data = df,\n",
    "    order = df['director'].value_counts().index[0:10]\n",
    ")\n",
    "plt.title('Most Popular Director')\n",
    "plt.xlabel('Total Shows')\n",
    "plt.ylabel('Directors')"
   ]
  },
  {
   "cell_type": "markdown",
   "metadata": {},
   "source": [
    "berdasarkan informasi diatas dapat disimpulkan bahwa bahwa Rajiv Chilaka merupakan director paling populer dengan 2640 total show."
   ]
  },
  {
   "cell_type": "markdown",
   "metadata": {},
   "source": [
    "#### Cast paling populer"
   ]
  },
  {
   "cell_type": "code",
   "execution_count": 17,
   "metadata": {},
   "outputs": [
    {
     "data": {
      "text/html": [
       "<div>\n",
       "<style scoped>\n",
       "    .dataframe tbody tr th:only-of-type {\n",
       "        vertical-align: middle;\n",
       "    }\n",
       "\n",
       "    .dataframe tbody tr th {\n",
       "        vertical-align: top;\n",
       "    }\n",
       "\n",
       "    .dataframe thead th {\n",
       "        text-align: right;\n",
       "    }\n",
       "</style>\n",
       "<table border=\"1\" class=\"dataframe\">\n",
       "  <thead>\n",
       "    <tr style=\"text-align: right;\">\n",
       "      <th></th>\n",
       "      <th>cast</th>\n",
       "      <th>total_show</th>\n",
       "    </tr>\n",
       "  </thead>\n",
       "  <tbody>\n",
       "    <tr>\n",
       "      <th>36387</th>\n",
       "      <td>DavidAttenborough</td>\n",
       "      <td>845</td>\n",
       "    </tr>\n",
       "    <tr>\n",
       "      <th>36386</th>\n",
       "      <td>AnupamKher</td>\n",
       "      <td>43</td>\n",
       "    </tr>\n",
       "    <tr>\n",
       "      <th>36385</th>\n",
       "      <td>ShahRukhKhan</td>\n",
       "      <td>35</td>\n",
       "    </tr>\n",
       "    <tr>\n",
       "      <th>36384</th>\n",
       "      <td>JulieTejwani</td>\n",
       "      <td>33</td>\n",
       "    </tr>\n",
       "    <tr>\n",
       "      <th>36383</th>\n",
       "      <td>TakahiroSakurai</td>\n",
       "      <td>32</td>\n",
       "    </tr>\n",
       "    <tr>\n",
       "      <th>36382</th>\n",
       "      <td>NaseeruddinShah</td>\n",
       "      <td>32</td>\n",
       "    </tr>\n",
       "    <tr>\n",
       "      <th>36381</th>\n",
       "      <td>RupaBhimani</td>\n",
       "      <td>31</td>\n",
       "    </tr>\n",
       "    <tr>\n",
       "      <th>36380</th>\n",
       "      <td>OmPuri</td>\n",
       "      <td>30</td>\n",
       "    </tr>\n",
       "    <tr>\n",
       "      <th>36379</th>\n",
       "      <td>AkshayKumar</td>\n",
       "      <td>30</td>\n",
       "    </tr>\n",
       "    <tr>\n",
       "      <th>36378</th>\n",
       "      <td>YukiKaji</td>\n",
       "      <td>29</td>\n",
       "    </tr>\n",
       "  </tbody>\n",
       "</table>\n",
       "</div>"
      ],
      "text/plain": [
       "                    cast  total_show\n",
       "36387  DavidAttenborough         845\n",
       "36386         AnupamKher          43\n",
       "36385       ShahRukhKhan          35\n",
       "36384       JulieTejwani          33\n",
       "36383    TakahiroSakurai          32\n",
       "36382    NaseeruddinShah          32\n",
       "36381        RupaBhimani          31\n",
       "36380             OmPuri          30\n",
       "36379        AkshayKumar          30\n",
       "36378           YukiKaji          29"
      ]
     },
     "execution_count": 17,
     "metadata": {},
     "output_type": "execute_result"
    }
   ],
   "source": [
    "# memisahkan tiap value\n",
    "genres=list(df['cast'])\n",
    "gen=[]\n",
    "\n",
    "for i in genres:\n",
    "    i=list(i.split(','))\n",
    "    for j in i:\n",
    "        gen.append(j.replace(' ',\"\"))\n",
    "   \n",
    "g=Counter(gen)\n",
    "\n",
    "genres=list(df['cast'])\n",
    "gen=[]\n",
    "\n",
    "for i in genres:\n",
    "    i=list(i.split(','))\n",
    "    for j in i:\n",
    "        gen.append(j.replace(' ',\"\"))\n",
    "\n",
    "\n",
    "dic_order = dict(sorted(g.items(), key=lambda item: item[1]))\n",
    "dic_order\n",
    "\n",
    "data1 = {\n",
    "    'cast': list(dic_order.keys()),\n",
    "    'total_show': list(dic_order.values())\n",
    "}\n",
    "\n",
    "popular_cast_df = pd.DataFrame(data1).sort_values(by='total_show', ascending=False)\n",
    "popular_cast_df.head(10)"
   ]
  },
  {
   "cell_type": "code",
   "execution_count": 18,
   "metadata": {},
   "outputs": [
    {
     "data": {
      "application/vnd.plotly.v1+json": {
       "config": {
        "plotlyServerURL": "https://plot.ly"
       },
       "data": [
        {
         "branchvalues": "total",
         "domain": {
          "x": [
           0,
           1
          ],
          "y": [
           0,
           1
          ]
         },
         "hovertemplate": "labels=%{label}<br>total_show=%{value}<br>parent=%{parent}<br>id=%{id}<extra></extra>",
         "ids": [
          "AkshayKumar",
          "AnupamKher",
          "DavidAttenborough",
          "JulieTejwani",
          "NaseeruddinShah",
          "OmPuri",
          "RupaBhimani",
          "ShahRukhKhan",
          "TakahiroSakurai",
          "YukiKaji"
         ],
         "labels": [
          "AkshayKumar",
          "AnupamKher",
          "DavidAttenborough",
          "JulieTejwani",
          "NaseeruddinShah",
          "OmPuri",
          "RupaBhimani",
          "ShahRukhKhan",
          "TakahiroSakurai",
          "YukiKaji"
         ],
         "name": "",
         "parents": [
          "",
          "",
          "",
          "",
          "",
          "",
          "",
          "",
          "",
          ""
         ],
         "type": "sunburst",
         "values": [
          30,
          43,
          845,
          33,
          32,
          30,
          31,
          35,
          32,
          29
         ]
        }
       ],
       "layout": {
        "legend": {
         "tracegroupgap": 0
        },
        "margin": {
         "t": 60
        },
        "sunburstcolorway": [
         "#00A9FF",
         "#89CFF3",
         "#A0E9FF",
         "#CDF5FD"
        ],
        "template": {
         "data": {
          "bar": [
           {
            "error_x": {
             "color": "#2a3f5f"
            },
            "error_y": {
             "color": "#2a3f5f"
            },
            "marker": {
             "line": {
              "color": "#E5ECF6",
              "width": 0.5
             },
             "pattern": {
              "fillmode": "overlay",
              "size": 10,
              "solidity": 0.2
             }
            },
            "type": "bar"
           }
          ],
          "barpolar": [
           {
            "marker": {
             "line": {
              "color": "#E5ECF6",
              "width": 0.5
             },
             "pattern": {
              "fillmode": "overlay",
              "size": 10,
              "solidity": 0.2
             }
            },
            "type": "barpolar"
           }
          ],
          "carpet": [
           {
            "aaxis": {
             "endlinecolor": "#2a3f5f",
             "gridcolor": "white",
             "linecolor": "white",
             "minorgridcolor": "white",
             "startlinecolor": "#2a3f5f"
            },
            "baxis": {
             "endlinecolor": "#2a3f5f",
             "gridcolor": "white",
             "linecolor": "white",
             "minorgridcolor": "white",
             "startlinecolor": "#2a3f5f"
            },
            "type": "carpet"
           }
          ],
          "choropleth": [
           {
            "colorbar": {
             "outlinewidth": 0,
             "ticks": ""
            },
            "type": "choropleth"
           }
          ],
          "contour": [
           {
            "colorbar": {
             "outlinewidth": 0,
             "ticks": ""
            },
            "colorscale": [
             [
              0,
              "#0d0887"
             ],
             [
              0.1111111111111111,
              "#46039f"
             ],
             [
              0.2222222222222222,
              "#7201a8"
             ],
             [
              0.3333333333333333,
              "#9c179e"
             ],
             [
              0.4444444444444444,
              "#bd3786"
             ],
             [
              0.5555555555555556,
              "#d8576b"
             ],
             [
              0.6666666666666666,
              "#ed7953"
             ],
             [
              0.7777777777777778,
              "#fb9f3a"
             ],
             [
              0.8888888888888888,
              "#fdca26"
             ],
             [
              1,
              "#f0f921"
             ]
            ],
            "type": "contour"
           }
          ],
          "contourcarpet": [
           {
            "colorbar": {
             "outlinewidth": 0,
             "ticks": ""
            },
            "type": "contourcarpet"
           }
          ],
          "heatmap": [
           {
            "colorbar": {
             "outlinewidth": 0,
             "ticks": ""
            },
            "colorscale": [
             [
              0,
              "#0d0887"
             ],
             [
              0.1111111111111111,
              "#46039f"
             ],
             [
              0.2222222222222222,
              "#7201a8"
             ],
             [
              0.3333333333333333,
              "#9c179e"
             ],
             [
              0.4444444444444444,
              "#bd3786"
             ],
             [
              0.5555555555555556,
              "#d8576b"
             ],
             [
              0.6666666666666666,
              "#ed7953"
             ],
             [
              0.7777777777777778,
              "#fb9f3a"
             ],
             [
              0.8888888888888888,
              "#fdca26"
             ],
             [
              1,
              "#f0f921"
             ]
            ],
            "type": "heatmap"
           }
          ],
          "heatmapgl": [
           {
            "colorbar": {
             "outlinewidth": 0,
             "ticks": ""
            },
            "colorscale": [
             [
              0,
              "#0d0887"
             ],
             [
              0.1111111111111111,
              "#46039f"
             ],
             [
              0.2222222222222222,
              "#7201a8"
             ],
             [
              0.3333333333333333,
              "#9c179e"
             ],
             [
              0.4444444444444444,
              "#bd3786"
             ],
             [
              0.5555555555555556,
              "#d8576b"
             ],
             [
              0.6666666666666666,
              "#ed7953"
             ],
             [
              0.7777777777777778,
              "#fb9f3a"
             ],
             [
              0.8888888888888888,
              "#fdca26"
             ],
             [
              1,
              "#f0f921"
             ]
            ],
            "type": "heatmapgl"
           }
          ],
          "histogram": [
           {
            "marker": {
             "pattern": {
              "fillmode": "overlay",
              "size": 10,
              "solidity": 0.2
             }
            },
            "type": "histogram"
           }
          ],
          "histogram2d": [
           {
            "colorbar": {
             "outlinewidth": 0,
             "ticks": ""
            },
            "colorscale": [
             [
              0,
              "#0d0887"
             ],
             [
              0.1111111111111111,
              "#46039f"
             ],
             [
              0.2222222222222222,
              "#7201a8"
             ],
             [
              0.3333333333333333,
              "#9c179e"
             ],
             [
              0.4444444444444444,
              "#bd3786"
             ],
             [
              0.5555555555555556,
              "#d8576b"
             ],
             [
              0.6666666666666666,
              "#ed7953"
             ],
             [
              0.7777777777777778,
              "#fb9f3a"
             ],
             [
              0.8888888888888888,
              "#fdca26"
             ],
             [
              1,
              "#f0f921"
             ]
            ],
            "type": "histogram2d"
           }
          ],
          "histogram2dcontour": [
           {
            "colorbar": {
             "outlinewidth": 0,
             "ticks": ""
            },
            "colorscale": [
             [
              0,
              "#0d0887"
             ],
             [
              0.1111111111111111,
              "#46039f"
             ],
             [
              0.2222222222222222,
              "#7201a8"
             ],
             [
              0.3333333333333333,
              "#9c179e"
             ],
             [
              0.4444444444444444,
              "#bd3786"
             ],
             [
              0.5555555555555556,
              "#d8576b"
             ],
             [
              0.6666666666666666,
              "#ed7953"
             ],
             [
              0.7777777777777778,
              "#fb9f3a"
             ],
             [
              0.8888888888888888,
              "#fdca26"
             ],
             [
              1,
              "#f0f921"
             ]
            ],
            "type": "histogram2dcontour"
           }
          ],
          "mesh3d": [
           {
            "colorbar": {
             "outlinewidth": 0,
             "ticks": ""
            },
            "type": "mesh3d"
           }
          ],
          "parcoords": [
           {
            "line": {
             "colorbar": {
              "outlinewidth": 0,
              "ticks": ""
             }
            },
            "type": "parcoords"
           }
          ],
          "pie": [
           {
            "automargin": true,
            "type": "pie"
           }
          ],
          "scatter": [
           {
            "fillpattern": {
             "fillmode": "overlay",
             "size": 10,
             "solidity": 0.2
            },
            "type": "scatter"
           }
          ],
          "scatter3d": [
           {
            "line": {
             "colorbar": {
              "outlinewidth": 0,
              "ticks": ""
             }
            },
            "marker": {
             "colorbar": {
              "outlinewidth": 0,
              "ticks": ""
             }
            },
            "type": "scatter3d"
           }
          ],
          "scattercarpet": [
           {
            "marker": {
             "colorbar": {
              "outlinewidth": 0,
              "ticks": ""
             }
            },
            "type": "scattercarpet"
           }
          ],
          "scattergeo": [
           {
            "marker": {
             "colorbar": {
              "outlinewidth": 0,
              "ticks": ""
             }
            },
            "type": "scattergeo"
           }
          ],
          "scattergl": [
           {
            "marker": {
             "colorbar": {
              "outlinewidth": 0,
              "ticks": ""
             }
            },
            "type": "scattergl"
           }
          ],
          "scattermapbox": [
           {
            "marker": {
             "colorbar": {
              "outlinewidth": 0,
              "ticks": ""
             }
            },
            "type": "scattermapbox"
           }
          ],
          "scatterpolar": [
           {
            "marker": {
             "colorbar": {
              "outlinewidth": 0,
              "ticks": ""
             }
            },
            "type": "scatterpolar"
           }
          ],
          "scatterpolargl": [
           {
            "marker": {
             "colorbar": {
              "outlinewidth": 0,
              "ticks": ""
             }
            },
            "type": "scatterpolargl"
           }
          ],
          "scatterternary": [
           {
            "marker": {
             "colorbar": {
              "outlinewidth": 0,
              "ticks": ""
             }
            },
            "type": "scatterternary"
           }
          ],
          "surface": [
           {
            "colorbar": {
             "outlinewidth": 0,
             "ticks": ""
            },
            "colorscale": [
             [
              0,
              "#0d0887"
             ],
             [
              0.1111111111111111,
              "#46039f"
             ],
             [
              0.2222222222222222,
              "#7201a8"
             ],
             [
              0.3333333333333333,
              "#9c179e"
             ],
             [
              0.4444444444444444,
              "#bd3786"
             ],
             [
              0.5555555555555556,
              "#d8576b"
             ],
             [
              0.6666666666666666,
              "#ed7953"
             ],
             [
              0.7777777777777778,
              "#fb9f3a"
             ],
             [
              0.8888888888888888,
              "#fdca26"
             ],
             [
              1,
              "#f0f921"
             ]
            ],
            "type": "surface"
           }
          ],
          "table": [
           {
            "cells": {
             "fill": {
              "color": "#EBF0F8"
             },
             "line": {
              "color": "white"
             }
            },
            "header": {
             "fill": {
              "color": "#C8D4E3"
             },
             "line": {
              "color": "white"
             }
            },
            "type": "table"
           }
          ]
         },
         "layout": {
          "annotationdefaults": {
           "arrowcolor": "#2a3f5f",
           "arrowhead": 0,
           "arrowwidth": 1
          },
          "autotypenumbers": "strict",
          "coloraxis": {
           "colorbar": {
            "outlinewidth": 0,
            "ticks": ""
           }
          },
          "colorscale": {
           "diverging": [
            [
             0,
             "#8e0152"
            ],
            [
             0.1,
             "#c51b7d"
            ],
            [
             0.2,
             "#de77ae"
            ],
            [
             0.3,
             "#f1b6da"
            ],
            [
             0.4,
             "#fde0ef"
            ],
            [
             0.5,
             "#f7f7f7"
            ],
            [
             0.6,
             "#e6f5d0"
            ],
            [
             0.7,
             "#b8e186"
            ],
            [
             0.8,
             "#7fbc41"
            ],
            [
             0.9,
             "#4d9221"
            ],
            [
             1,
             "#276419"
            ]
           ],
           "sequential": [
            [
             0,
             "#0d0887"
            ],
            [
             0.1111111111111111,
             "#46039f"
            ],
            [
             0.2222222222222222,
             "#7201a8"
            ],
            [
             0.3333333333333333,
             "#9c179e"
            ],
            [
             0.4444444444444444,
             "#bd3786"
            ],
            [
             0.5555555555555556,
             "#d8576b"
            ],
            [
             0.6666666666666666,
             "#ed7953"
            ],
            [
             0.7777777777777778,
             "#fb9f3a"
            ],
            [
             0.8888888888888888,
             "#fdca26"
            ],
            [
             1,
             "#f0f921"
            ]
           ],
           "sequentialminus": [
            [
             0,
             "#0d0887"
            ],
            [
             0.1111111111111111,
             "#46039f"
            ],
            [
             0.2222222222222222,
             "#7201a8"
            ],
            [
             0.3333333333333333,
             "#9c179e"
            ],
            [
             0.4444444444444444,
             "#bd3786"
            ],
            [
             0.5555555555555556,
             "#d8576b"
            ],
            [
             0.6666666666666666,
             "#ed7953"
            ],
            [
             0.7777777777777778,
             "#fb9f3a"
            ],
            [
             0.8888888888888888,
             "#fdca26"
            ],
            [
             1,
             "#f0f921"
            ]
           ]
          },
          "colorway": [
           "#636efa",
           "#EF553B",
           "#00cc96",
           "#ab63fa",
           "#FFA15A",
           "#19d3f3",
           "#FF6692",
           "#B6E880",
           "#FF97FF",
           "#FECB52"
          ],
          "font": {
           "color": "#2a3f5f"
          },
          "geo": {
           "bgcolor": "white",
           "lakecolor": "white",
           "landcolor": "#E5ECF6",
           "showlakes": true,
           "showland": true,
           "subunitcolor": "white"
          },
          "hoverlabel": {
           "align": "left"
          },
          "hovermode": "closest",
          "mapbox": {
           "style": "light"
          },
          "paper_bgcolor": "white",
          "plot_bgcolor": "#E5ECF6",
          "polar": {
           "angularaxis": {
            "gridcolor": "white",
            "linecolor": "white",
            "ticks": ""
           },
           "bgcolor": "#E5ECF6",
           "radialaxis": {
            "gridcolor": "white",
            "linecolor": "white",
            "ticks": ""
           }
          },
          "scene": {
           "xaxis": {
            "backgroundcolor": "#E5ECF6",
            "gridcolor": "white",
            "gridwidth": 2,
            "linecolor": "white",
            "showbackground": true,
            "ticks": "",
            "zerolinecolor": "white"
           },
           "yaxis": {
            "backgroundcolor": "#E5ECF6",
            "gridcolor": "white",
            "gridwidth": 2,
            "linecolor": "white",
            "showbackground": true,
            "ticks": "",
            "zerolinecolor": "white"
           },
           "zaxis": {
            "backgroundcolor": "#E5ECF6",
            "gridcolor": "white",
            "gridwidth": 2,
            "linecolor": "white",
            "showbackground": true,
            "ticks": "",
            "zerolinecolor": "white"
           }
          },
          "shapedefaults": {
           "line": {
            "color": "#2a3f5f"
           }
          },
          "ternary": {
           "aaxis": {
            "gridcolor": "white",
            "linecolor": "white",
            "ticks": ""
           },
           "baxis": {
            "gridcolor": "white",
            "linecolor": "white",
            "ticks": ""
           },
           "bgcolor": "#E5ECF6",
           "caxis": {
            "gridcolor": "white",
            "linecolor": "white",
            "ticks": ""
           }
          },
          "title": {
           "x": 0.05
          },
          "xaxis": {
           "automargin": true,
           "gridcolor": "white",
           "linecolor": "white",
           "ticks": "",
           "title": {
            "standoff": 15
           },
           "zerolinecolor": "white",
           "zerolinewidth": 2
          },
          "yaxis": {
           "automargin": true,
           "gridcolor": "white",
           "linecolor": "white",
           "ticks": "",
           "title": {
            "standoff": 15
           },
           "zerolinecolor": "white",
           "zerolinewidth": 2
          }
         }
        },
        "title": {
         "text": "Most Popular Cast"
        }
       }
      }
     },
     "metadata": {},
     "output_type": "display_data"
    }
   ],
   "source": [
    "colors =  ['#00A9FF','#89CFF3','#A0E9FF','#CDF5FD']\n",
    "\n",
    "fig = px.sunburst(popular_cast_df.head(10), path=['cast'], values='total_show', color_discrete_sequence=colors)\n",
    "fig.update_layout(title_text=\"Most Popular Cast\")\n",
    "fig.show()"
   ]
  },
  {
   "cell_type": "markdown",
   "metadata": {},
   "source": [
    "dari informasi diatas dapat disimpulkan bahwa DavidAttenborough merupakan cast paling popular dengan 845 total show"
   ]
  },
  {
   "cell_type": "markdown",
   "metadata": {},
   "source": [
    "### Rating Paling Sering Muncul"
   ]
  },
  {
   "cell_type": "code",
   "execution_count": 19,
   "metadata": {},
   "outputs": [
    {
     "data": {
      "text/html": [
       "<div>\n",
       "<style scoped>\n",
       "    .dataframe tbody tr th:only-of-type {\n",
       "        vertical-align: middle;\n",
       "    }\n",
       "\n",
       "    .dataframe tbody tr th {\n",
       "        vertical-align: top;\n",
       "    }\n",
       "\n",
       "    .dataframe thead th {\n",
       "        text-align: right;\n",
       "    }\n",
       "</style>\n",
       "<table border=\"1\" class=\"dataframe\">\n",
       "  <thead>\n",
       "    <tr style=\"text-align: right;\">\n",
       "      <th></th>\n",
       "      <th>index</th>\n",
       "      <th>rating</th>\n",
       "    </tr>\n",
       "  </thead>\n",
       "  <tbody>\n",
       "    <tr>\n",
       "      <th>0</th>\n",
       "      <td>TV-MA</td>\n",
       "      <td>3205</td>\n",
       "    </tr>\n",
       "    <tr>\n",
       "      <th>1</th>\n",
       "      <td>TV-14</td>\n",
       "      <td>2157</td>\n",
       "    </tr>\n",
       "    <tr>\n",
       "      <th>2</th>\n",
       "      <td>TV-PG</td>\n",
       "      <td>861</td>\n",
       "    </tr>\n",
       "    <tr>\n",
       "      <th>3</th>\n",
       "      <td>R</td>\n",
       "      <td>799</td>\n",
       "    </tr>\n",
       "    <tr>\n",
       "      <th>4</th>\n",
       "      <td>PG-13</td>\n",
       "      <td>490</td>\n",
       "    </tr>\n",
       "    <tr>\n",
       "      <th>5</th>\n",
       "      <td>TV-Y7</td>\n",
       "      <td>333</td>\n",
       "    </tr>\n",
       "    <tr>\n",
       "      <th>6</th>\n",
       "      <td>TV-Y</td>\n",
       "      <td>306</td>\n",
       "    </tr>\n",
       "    <tr>\n",
       "      <th>7</th>\n",
       "      <td>PG</td>\n",
       "      <td>287</td>\n",
       "    </tr>\n",
       "    <tr>\n",
       "      <th>8</th>\n",
       "      <td>TV-G</td>\n",
       "      <td>220</td>\n",
       "    </tr>\n",
       "    <tr>\n",
       "      <th>9</th>\n",
       "      <td>NR</td>\n",
       "      <td>79</td>\n",
       "    </tr>\n",
       "    <tr>\n",
       "      <th>10</th>\n",
       "      <td>G</td>\n",
       "      <td>41</td>\n",
       "    </tr>\n",
       "    <tr>\n",
       "      <th>11</th>\n",
       "      <td>TV-Y7-FV</td>\n",
       "      <td>6</td>\n",
       "    </tr>\n",
       "    <tr>\n",
       "      <th>12</th>\n",
       "      <td>NC-17</td>\n",
       "      <td>3</td>\n",
       "    </tr>\n",
       "    <tr>\n",
       "      <th>13</th>\n",
       "      <td>UR</td>\n",
       "      <td>3</td>\n",
       "    </tr>\n",
       "  </tbody>\n",
       "</table>\n",
       "</div>"
      ],
      "text/plain": [
       "       index  rating\n",
       "0      TV-MA    3205\n",
       "1      TV-14    2157\n",
       "2      TV-PG     861\n",
       "3          R     799\n",
       "4      PG-13     490\n",
       "5      TV-Y7     333\n",
       "6       TV-Y     306\n",
       "7         PG     287\n",
       "8       TV-G     220\n",
       "9         NR      79\n",
       "10         G      41\n",
       "11  TV-Y7-FV       6\n",
       "12     NC-17       3\n",
       "13        UR       3"
      ]
     },
     "execution_count": 19,
     "metadata": {},
     "output_type": "execute_result"
    }
   ],
   "source": [
    "df['rating'].value_counts().reset_index()"
   ]
  },
  {
   "cell_type": "code",
   "execution_count": 20,
   "metadata": {},
   "outputs": [
    {
     "data": {
      "text/plain": [
       "Text(0, 0.5, 'Total')"
      ]
     },
     "execution_count": 20,
     "metadata": {},
     "output_type": "execute_result"
    },
    {
     "data": {
      "image/png": "[encoded data removed]",
      "text/plain": [
       "<Figure size 1200x1000 with 1 Axes>"
      ]
     },
     "metadata": {},
     "output_type": "display_data"
    }
   ],
   "source": [
    "plt.figure(figsize=(12,10))\n",
    "sns.set(style=\"darkgrid\")\n",
    "sns.countplot(x=\"rating\", data= df, palette=\"Set2\", order=df['rating'].value_counts().index[0:15])\n",
    "plt.title('Rating Distribution in Movie Reviews')\n",
    "plt.xlabel('Rating')\n",
    "plt.ylabel('Total')"
   ]
  },
  {
   "cell_type": "markdown",
   "metadata": {},
   "source": [
    "berdasarkan informasi diatas dapat disimpukan:\n",
    "- Jumlah film terbanyak dibuat dengan rating 'TV-MA'. \"TV-MA\" adalah rating yang diberikan oleh Pedoman Orang Tua TV untuk program televisi yang dirancang untuk penonton dewasa saja.\n",
    "- Yang terbesar kedua adalah 'TV-14' yang berarti konten yang mungkin tidak pantas untuk anak-anak di bawah usia 14 tahun."
   ]
  },
  {
   "cell_type": "markdown",
   "metadata": {},
   "source": [
    "### Tipe Konten Paling Sering Muncul"
   ]
  },
  {
   "cell_type": "code",
   "execution_count": 21,
   "metadata": {},
   "outputs": [
    {
     "data": {
      "text/html": [
       "<div>\n",
       "<style scoped>\n",
       "    .dataframe tbody tr th:only-of-type {\n",
       "        vertical-align: middle;\n",
       "    }\n",
       "\n",
       "    .dataframe tbody tr th {\n",
       "        vertical-align: top;\n",
       "    }\n",
       "\n",
       "    .dataframe thead th {\n",
       "        text-align: right;\n",
       "    }\n",
       "</style>\n",
       "<table border=\"1\" class=\"dataframe\">\n",
       "  <thead>\n",
       "    <tr style=\"text-align: right;\">\n",
       "      <th></th>\n",
       "      <th>type</th>\n",
       "      <th>total</th>\n",
       "    </tr>\n",
       "  </thead>\n",
       "  <tbody>\n",
       "    <tr>\n",
       "      <th>0</th>\n",
       "      <td>Movie</td>\n",
       "      <td>6126</td>\n",
       "    </tr>\n",
       "    <tr>\n",
       "      <th>1</th>\n",
       "      <td>TV Show</td>\n",
       "      <td>2664</td>\n",
       "    </tr>\n",
       "  </tbody>\n",
       "</table>\n",
       "</div>"
      ],
      "text/plain": [
       "      type  total\n",
       "0    Movie   6126\n",
       "1  TV Show   2664"
      ]
     },
     "execution_count": 21,
     "metadata": {},
     "output_type": "execute_result"
    }
   ],
   "source": [
    "type_df = df.groupby(by='type').show_id.nunique().sort_values(ascending=False).reset_index()\n",
    "type_df.rename(columns={\n",
    "    'show_id':'total'\n",
    "},inplace=True)\n",
    "type_df.head()"
   ]
  },
  {
   "cell_type": "code",
   "execution_count": 22,
   "metadata": {},
   "outputs": [
    {
     "data": {
      "image/png": "[encoded data removed]",
      "text/plain": [
       "<Figure size 640x480 with 1 Axes>"
      ]
     },
     "metadata": {},
     "output_type": "display_data"
    }
   ],
   "source": [
    "plt.bar(\n",
    "    x= 'type',\n",
    "    height = 'total',\n",
    "    width=0.3,\n",
    "    data= type_df,\n",
    "    color=['#1640D6','#BE3144']\n",
    ")\n",
    "plt.title('Most Frequently Appearing Content Types')\n",
    "plt.xlabel('Type')\n",
    "plt.ylabel('Total')\n",
    "plt.show()"
   ]
  },
  {
   "cell_type": "markdown",
   "metadata": {},
   "source": [
    "berdasarkan informasi diatas, dapat disimpulkan bahwa tipe konten Movie merupakan tipe konten yang paling sering muncul dengan total 6162"
   ]
  },
  {
   "cell_type": "markdown",
   "metadata": {},
   "source": [
    "### Analisis Tipe Konten"
   ]
  },
  {
   "cell_type": "markdown",
   "metadata": {},
   "source": [
    "untuk menganalisis tipe konten, pertama-tama kami akan membuat dataframe baru berdasarkan tipe kontennya"
   ]
  },
  {
   "cell_type": "code",
   "execution_count": 23,
   "metadata": {},
   "outputs": [],
   "source": [
    "movie_df = df[df['type'] == 'Movie']\n",
    "tv_df = df[df['type'] == 'TV Show']"
   ]
  },
  {
   "cell_type": "code",
   "execution_count": 24,
   "metadata": {},
   "outputs": [
    {
     "data": {
      "text/html": [
       "<div>\n",
       "<style scoped>\n",
       "    .dataframe tbody tr th:only-of-type {\n",
       "        vertical-align: middle;\n",
       "    }\n",
       "\n",
       "    .dataframe tbody tr th {\n",
       "        vertical-align: top;\n",
       "    }\n",
       "\n",
       "    .dataframe thead th {\n",
       "        text-align: right;\n",
       "    }\n",
       "</style>\n",
       "<table border=\"1\" class=\"dataframe\">\n",
       "  <thead>\n",
       "    <tr style=\"text-align: right;\">\n",
       "      <th></th>\n",
       "      <th>show_id</th>\n",
       "      <th>type</th>\n",
       "      <th>title</th>\n",
       "      <th>director</th>\n",
       "      <th>cast</th>\n",
       "      <th>country</th>\n",
       "      <th>date_added</th>\n",
       "      <th>release_year</th>\n",
       "      <th>rating</th>\n",
       "      <th>duration</th>\n",
       "      <th>listed_in</th>\n",
       "      <th>description</th>\n",
       "    </tr>\n",
       "  </thead>\n",
       "  <tbody>\n",
       "    <tr>\n",
       "      <th>0</th>\n",
       "      <td>s1</td>\n",
       "      <td>Movie</td>\n",
       "      <td>Dick Johnson Is Dead</td>\n",
       "      <td>Kirsten Johnson</td>\n",
       "      <td>David Attenborough</td>\n",
       "      <td>United States</td>\n",
       "      <td>2021-09-25</td>\n",
       "      <td>2020</td>\n",
       "      <td>PG-13</td>\n",
       "      <td>90 min</td>\n",
       "      <td>Documentaries</td>\n",
       "      <td>As her father nears the end of his life, filmm...</td>\n",
       "    </tr>\n",
       "    <tr>\n",
       "      <th>6</th>\n",
       "      <td>s7</td>\n",
       "      <td>Movie</td>\n",
       "      <td>My Little Pony: A New Generation</td>\n",
       "      <td>Robert Cullen, José Luis Ucha</td>\n",
       "      <td>Vanessa Hudgens, Kimiko Glenn, James Marsden, ...</td>\n",
       "      <td>United States</td>\n",
       "      <td>2021-09-24</td>\n",
       "      <td>2021</td>\n",
       "      <td>PG</td>\n",
       "      <td>91 min</td>\n",
       "      <td>Children &amp; Family Movies</td>\n",
       "      <td>Equestria's divided. But a bright-eyed hero be...</td>\n",
       "    </tr>\n",
       "    <tr>\n",
       "      <th>7</th>\n",
       "      <td>s8</td>\n",
       "      <td>Movie</td>\n",
       "      <td>Sankofa</td>\n",
       "      <td>Haile Gerima</td>\n",
       "      <td>Kofi Ghanaba, Oyafunmike Ogunlano, Alexandra D...</td>\n",
       "      <td>United States, Ghana, Burkina Faso, United Kin...</td>\n",
       "      <td>2021-09-24</td>\n",
       "      <td>1993</td>\n",
       "      <td>TV-MA</td>\n",
       "      <td>125 min</td>\n",
       "      <td>Dramas, Independent Movies, International Movies</td>\n",
       "      <td>On a photo shoot in Ghana, an American model s...</td>\n",
       "    </tr>\n",
       "  </tbody>\n",
       "</table>\n",
       "</div>"
      ],
      "text/plain": [
       "  show_id   type                             title  \\\n",
       "0      s1  Movie              Dick Johnson Is Dead   \n",
       "6      s7  Movie  My Little Pony: A New Generation   \n",
       "7      s8  Movie                           Sankofa   \n",
       "\n",
       "                        director  \\\n",
       "0                Kirsten Johnson   \n",
       "6  Robert Cullen, José Luis Ucha   \n",
       "7                   Haile Gerima   \n",
       "\n",
       "                                                cast  \\\n",
       "0                                 David Attenborough   \n",
       "6  Vanessa Hudgens, Kimiko Glenn, James Marsden, ...   \n",
       "7  Kofi Ghanaba, Oyafunmike Ogunlano, Alexandra D...   \n",
       "\n",
       "                                             country date_added  release_year  \\\n",
       "0                                      United States 2021-09-25          2020   \n",
       "6                                      United States 2021-09-24          2021   \n",
       "7  United States, Ghana, Burkina Faso, United Kin... 2021-09-24          1993   \n",
       "\n",
       "  rating duration                                         listed_in  \\\n",
       "0  PG-13   90 min                                     Documentaries   \n",
       "6     PG   91 min                          Children & Family Movies   \n",
       "7  TV-MA  125 min  Dramas, Independent Movies, International Movies   \n",
       "\n",
       "                                         description  \n",
       "0  As her father nears the end of his life, filmm...  \n",
       "6  Equestria's divided. But a bright-eyed hero be...  \n",
       "7  On a photo shoot in Ghana, an American model s...  "
      ]
     },
     "execution_count": 24,
     "metadata": {},
     "output_type": "execute_result"
    }
   ],
   "source": [
    "movie_df.head(3)"
   ]
  },
  {
   "cell_type": "code",
   "execution_count": 25,
   "metadata": {},
   "outputs": [
    {
     "data": {
      "text/html": [
       "<div>\n",
       "<style scoped>\n",
       "    .dataframe tbody tr th:only-of-type {\n",
       "        vertical-align: middle;\n",
       "    }\n",
       "\n",
       "    .dataframe tbody tr th {\n",
       "        vertical-align: top;\n",
       "    }\n",
       "\n",
       "    .dataframe thead th {\n",
       "        text-align: right;\n",
       "    }\n",
       "</style>\n",
       "<table border=\"1\" class=\"dataframe\">\n",
       "  <thead>\n",
       "    <tr style=\"text-align: right;\">\n",
       "      <th></th>\n",
       "      <th>show_id</th>\n",
       "      <th>type</th>\n",
       "      <th>title</th>\n",
       "      <th>director</th>\n",
       "      <th>cast</th>\n",
       "      <th>country</th>\n",
       "      <th>date_added</th>\n",
       "      <th>release_year</th>\n",
       "      <th>rating</th>\n",
       "      <th>duration</th>\n",
       "      <th>listed_in</th>\n",
       "      <th>description</th>\n",
       "    </tr>\n",
       "  </thead>\n",
       "  <tbody>\n",
       "    <tr>\n",
       "      <th>1</th>\n",
       "      <td>s2</td>\n",
       "      <td>TV Show</td>\n",
       "      <td>Blood &amp; Water</td>\n",
       "      <td>Rajiv Chilaka</td>\n",
       "      <td>Ama Qamata, Khosi Ngema, Gail Mabalane, Thaban...</td>\n",
       "      <td>South Africa</td>\n",
       "      <td>2021-09-24</td>\n",
       "      <td>2021</td>\n",
       "      <td>TV-MA</td>\n",
       "      <td>2 Seasons</td>\n",
       "      <td>International TV Shows, TV Dramas, TV Mysteries</td>\n",
       "      <td>After crossing paths at a party, a Cape Town t...</td>\n",
       "    </tr>\n",
       "    <tr>\n",
       "      <th>2</th>\n",
       "      <td>s3</td>\n",
       "      <td>TV Show</td>\n",
       "      <td>Ganglands</td>\n",
       "      <td>Julien Leclercq</td>\n",
       "      <td>Sami Bouajila, Tracy Gotoas, Samuel Jouy, Nabi...</td>\n",
       "      <td>United States</td>\n",
       "      <td>2021-09-24</td>\n",
       "      <td>2021</td>\n",
       "      <td>TV-MA</td>\n",
       "      <td>1 Season</td>\n",
       "      <td>Crime TV Shows, International TV Shows, TV Act...</td>\n",
       "      <td>To protect his family from a powerful drug lor...</td>\n",
       "    </tr>\n",
       "    <tr>\n",
       "      <th>3</th>\n",
       "      <td>s4</td>\n",
       "      <td>TV Show</td>\n",
       "      <td>Jailbirds New Orleans</td>\n",
       "      <td>Rajiv Chilaka</td>\n",
       "      <td>David Attenborough</td>\n",
       "      <td>United States</td>\n",
       "      <td>2021-09-24</td>\n",
       "      <td>2021</td>\n",
       "      <td>TV-MA</td>\n",
       "      <td>1 Season</td>\n",
       "      <td>Docuseries, Reality TV</td>\n",
       "      <td>Feuds, flirtations and toilet talk go down amo...</td>\n",
       "    </tr>\n",
       "  </tbody>\n",
       "</table>\n",
       "</div>"
      ],
      "text/plain": [
       "  show_id     type                  title         director  \\\n",
       "1      s2  TV Show          Blood & Water    Rajiv Chilaka   \n",
       "2      s3  TV Show              Ganglands  Julien Leclercq   \n",
       "3      s4  TV Show  Jailbirds New Orleans    Rajiv Chilaka   \n",
       "\n",
       "                                                cast        country  \\\n",
       "1  Ama Qamata, Khosi Ngema, Gail Mabalane, Thaban...   South Africa   \n",
       "2  Sami Bouajila, Tracy Gotoas, Samuel Jouy, Nabi...  United States   \n",
       "3                                 David Attenborough  United States   \n",
       "\n",
       "  date_added  release_year rating   duration  \\\n",
       "1 2021-09-24          2021  TV-MA  2 Seasons   \n",
       "2 2021-09-24          2021  TV-MA   1 Season   \n",
       "3 2021-09-24          2021  TV-MA   1 Season   \n",
       "\n",
       "                                           listed_in  \\\n",
       "1    International TV Shows, TV Dramas, TV Mysteries   \n",
       "2  Crime TV Shows, International TV Shows, TV Act...   \n",
       "3                             Docuseries, Reality TV   \n",
       "\n",
       "                                         description  \n",
       "1  After crossing paths at a party, a Cape Town t...  \n",
       "2  To protect his family from a powerful drug lor...  \n",
       "3  Feuds, flirtations and toilet talk go down amo...  "
      ]
     },
     "execution_count": 25,
     "metadata": {},
     "output_type": "execute_result"
    }
   ],
   "source": [
    "tv_df.head(3)"
   ]
  },
  {
   "cell_type": "markdown",
   "metadata": {},
   "source": [
    "dari 2 dataframe baru tersebut kita bisa:\n",
    "- Melihat Kepadatan distribusi dari durasi movie\n",
    "- Melihat Tren dari durasi movie\n",
    "- Melihat TV show dengan season paling banyak\n",
    "- Melihat pembagian TV show berdasarkan seasonnya"
   ]
  },
  {
   "cell_type": "markdown",
   "metadata": {},
   "source": [
    "#### Kepadatan Distribusi Durasi Movie"
   ]
  },
  {
   "cell_type": "code",
   "execution_count": 26,
   "metadata": {},
   "outputs": [
    {
     "name": "stderr",
     "output_type": "stream",
     "text": [
      "C:\\Users\\Nafi Kareem\\AppData\\Local\\Temp\\ipykernel_7824\\4065627269.py:1: SettingWithCopyWarning:\n",
      "\n",
      "\n",
      "A value is trying to be set on a copy of a slice from a DataFrame.\n",
      "Try using .loc[row_indexer,col_indexer] = value instead\n",
      "\n",
      "See the caveats in the documentation: https://pandas.pydata.org/pandas-docs/stable/user_guide/indexing.html#returning-a-view-versus-a-copy\n",
      "\n",
      "C:\\Users\\Nafi Kareem\\AppData\\Local\\Temp\\ipykernel_7824\\4065627269.py:2: SettingWithCopyWarning:\n",
      "\n",
      "\n",
      "A value is trying to be set on a copy of a slice from a DataFrame.\n",
      "Try using .loc[row_indexer,col_indexer] = value instead\n",
      "\n",
      "See the caveats in the documentation: https://pandas.pydata.org/pandas-docs/stable/user_guide/indexing.html#returning-a-view-versus-a-copy\n",
      "\n"
     ]
    },
    {
     "data": {
      "text/html": [
       "<div>\n",
       "<style scoped>\n",
       "    .dataframe tbody tr th:only-of-type {\n",
       "        vertical-align: middle;\n",
       "    }\n",
       "\n",
       "    .dataframe tbody tr th {\n",
       "        vertical-align: top;\n",
       "    }\n",
       "\n",
       "    .dataframe thead th {\n",
       "        text-align: right;\n",
       "    }\n",
       "</style>\n",
       "<table border=\"1\" class=\"dataframe\">\n",
       "  <thead>\n",
       "    <tr style=\"text-align: right;\">\n",
       "      <th></th>\n",
       "      <th>index</th>\n",
       "      <th>duration</th>\n",
       "    </tr>\n",
       "  </thead>\n",
       "  <tbody>\n",
       "    <tr>\n",
       "      <th>0</th>\n",
       "      <td>0</td>\n",
       "      <td>90</td>\n",
       "    </tr>\n",
       "    <tr>\n",
       "      <th>1</th>\n",
       "      <td>6</td>\n",
       "      <td>91</td>\n",
       "    </tr>\n",
       "    <tr>\n",
       "      <th>2</th>\n",
       "      <td>7</td>\n",
       "      <td>125</td>\n",
       "    </tr>\n",
       "    <tr>\n",
       "      <th>3</th>\n",
       "      <td>9</td>\n",
       "      <td>104</td>\n",
       "    </tr>\n",
       "    <tr>\n",
       "      <th>4</th>\n",
       "      <td>12</td>\n",
       "      <td>127</td>\n",
       "    </tr>\n",
       "    <tr>\n",
       "      <th>...</th>\n",
       "      <td>...</td>\n",
       "      <td>...</td>\n",
       "    </tr>\n",
       "    <tr>\n",
       "      <th>6121</th>\n",
       "      <td>8801</td>\n",
       "      <td>96</td>\n",
       "    </tr>\n",
       "    <tr>\n",
       "      <th>6122</th>\n",
       "      <td>8802</td>\n",
       "      <td>158</td>\n",
       "    </tr>\n",
       "    <tr>\n",
       "      <th>6123</th>\n",
       "      <td>8804</td>\n",
       "      <td>88</td>\n",
       "    </tr>\n",
       "    <tr>\n",
       "      <th>6124</th>\n",
       "      <td>8805</td>\n",
       "      <td>88</td>\n",
       "    </tr>\n",
       "    <tr>\n",
       "      <th>6125</th>\n",
       "      <td>8806</td>\n",
       "      <td>111</td>\n",
       "    </tr>\n",
       "  </tbody>\n",
       "</table>\n",
       "<p>6126 rows × 2 columns</p>\n",
       "</div>"
      ],
      "text/plain": [
       "      index  duration\n",
       "0         0        90\n",
       "1         6        91\n",
       "2         7       125\n",
       "3         9       104\n",
       "4        12       127\n",
       "...     ...       ...\n",
       "6121   8801        96\n",
       "6122   8802       158\n",
       "6123   8804        88\n",
       "6124   8805        88\n",
       "6125   8806       111\n",
       "\n",
       "[6126 rows x 2 columns]"
      ]
     },
     "execution_count": 26,
     "metadata": {},
     "output_type": "execute_result"
    }
   ],
   "source": [
    "movie_df['duration']=movie_df['duration'].str.replace(' min','')\n",
    "movie_df['duration']=movie_df['duration'].astype(str).astype(int)\n",
    "movie_df['duration'].reset_index()"
   ]
  },
  {
   "cell_type": "code",
   "execution_count": 27,
   "metadata": {},
   "outputs": [
    {
     "data": {
      "text/plain": [
       "Text(0, 0.5, 'Density')"
      ]
     },
     "execution_count": 27,
     "metadata": {},
     "output_type": "execute_result"
    },
    {
     "data": {
      "image/png": "[encoded data removed]",
      "text/plain": [
       "<Figure size 640x480 with 1 Axes>"
      ]
     },
     "metadata": {},
     "output_type": "display_data"
    }
   ],
   "source": [
    "sns.set(style=\"darkgrid\")\n",
    "sns.kdeplot(data=movie_df['duration'])\n",
    "plt.title('Distribution Density of Movie Duration')\n",
    "plt.xlabel('Duration')\n",
    "plt.ylabel('Density')"
   ]
  },
  {
   "cell_type": "markdown",
   "metadata": {},
   "source": [
    "dapat disimpulkan bahwa sebagian besar film di Netflix berdurasi antara 75-120 menit."
   ]
  },
  {
   "cell_type": "markdown",
   "metadata": {},
   "source": [
    "#### Tren Durasi Movie"
   ]
  },
  {
   "cell_type": "code",
   "execution_count": 28,
   "metadata": {},
   "outputs": [
    {
     "name": "stderr",
     "output_type": "stream",
     "text": [
      "C:\\Users\\Nafi Kareem\\AppData\\Local\\Temp\\ipykernel_7824\\42638668.py:1: FutureWarning:\n",
      "\n",
      "The default value of numeric_only in DataFrameGroupBy.mean is deprecated. In a future version, numeric_only will default to False. Either specify numeric_only or select only columns which should be valid for the function.\n",
      "\n"
     ]
    },
    {
     "data": {
      "text/html": [
       "<div>\n",
       "<style scoped>\n",
       "    .dataframe tbody tr th:only-of-type {\n",
       "        vertical-align: middle;\n",
       "    }\n",
       "\n",
       "    .dataframe tbody tr th {\n",
       "        vertical-align: top;\n",
       "    }\n",
       "\n",
       "    .dataframe thead th {\n",
       "        text-align: right;\n",
       "    }\n",
       "</style>\n",
       "<table border=\"1\" class=\"dataframe\">\n",
       "  <thead>\n",
       "    <tr style=\"text-align: right;\">\n",
       "      <th></th>\n",
       "      <th>duration</th>\n",
       "    </tr>\n",
       "    <tr>\n",
       "      <th>release_year</th>\n",
       "      <th></th>\n",
       "    </tr>\n",
       "  </thead>\n",
       "  <tbody>\n",
       "    <tr>\n",
       "      <th>1942</th>\n",
       "      <td>35.000000</td>\n",
       "    </tr>\n",
       "    <tr>\n",
       "      <th>1943</th>\n",
       "      <td>62.666667</td>\n",
       "    </tr>\n",
       "    <tr>\n",
       "      <th>1944</th>\n",
       "      <td>52.000000</td>\n",
       "    </tr>\n",
       "    <tr>\n",
       "      <th>1945</th>\n",
       "      <td>51.333333</td>\n",
       "    </tr>\n",
       "    <tr>\n",
       "      <th>1946</th>\n",
       "      <td>58.000000</td>\n",
       "    </tr>\n",
       "    <tr>\n",
       "      <th>1947</th>\n",
       "      <td>42.000000</td>\n",
       "    </tr>\n",
       "    <tr>\n",
       "      <th>1954</th>\n",
       "      <td>118.000000</td>\n",
       "    </tr>\n",
       "    <tr>\n",
       "      <th>1955</th>\n",
       "      <td>100.333333</td>\n",
       "    </tr>\n",
       "    <tr>\n",
       "      <th>1956</th>\n",
       "      <td>101.000000</td>\n",
       "    </tr>\n",
       "    <tr>\n",
       "      <th>1958</th>\n",
       "      <td>98.666667</td>\n",
       "    </tr>\n",
       "  </tbody>\n",
       "</table>\n",
       "</div>"
      ],
      "text/plain": [
       "                duration\n",
       "release_year            \n",
       "1942           35.000000\n",
       "1943           62.666667\n",
       "1944           52.000000\n",
       "1945           51.333333\n",
       "1946           58.000000\n",
       "1947           42.000000\n",
       "1954          118.000000\n",
       "1955          100.333333\n",
       "1956          101.000000\n",
       "1958           98.666667"
      ]
     },
     "execution_count": 28,
     "metadata": {},
     "output_type": "execute_result"
    }
   ],
   "source": [
    "duration_year = movie_df.groupby(['release_year']).mean()\n",
    "duration_year = duration_year.sort_index()\n",
    "duration_year.head(10)"
   ]
  },
  {
   "cell_type": "code",
   "execution_count": 29,
   "metadata": {},
   "outputs": [
    {
     "data": {
      "text/plain": [
       "Text(0.5, 1.0, \"Trends of Movie's Duration over the Years\")"
      ]
     },
     "execution_count": 29,
     "metadata": {},
     "output_type": "execute_result"
    },
    {
     "data": {
      "image/png": "[encoded data removed]",
      "text/plain": [
       "<Figure size 1500x600 with 1 Axes>"
      ]
     },
     "metadata": {},
     "output_type": "display_data"
    }
   ],
   "source": [
    "plt.figure(figsize=(15,6))\n",
    "sns.lineplot(x=duration_year.index, y=duration_year.duration.values)\n",
    "plt.box(on=None)\n",
    "plt.ylabel('Movie duration in minutes')\n",
    "plt.xlabel('Year of released')\n",
    "plt.title(\"Trends of Movie's Duration over the Years\", fontsize=20, color='Red')"
   ]
  },
  {
   "cell_type": "markdown",
   "metadata": {},
   "source": [
    "Berdasarkan informasi diatas dapat disimpulkan :\n",
    "- Pada tahun 1960 hingga 1965, durasi film lebih dari 200 menit, setelah tahun 1965 durasinya menjadi relatif lebih pendek.\n",
    "- Sejak tahun 1980, kita dapat melihat tren durasi film yang konsisten, dengan durasi berkisar antara 100-150 menit."
   ]
  },
  {
   "cell_type": "markdown",
   "metadata": {},
   "source": [
    "#### TV show dengan Season Paling Banyak"
   ]
  },
  {
   "cell_type": "code",
   "execution_count": 30,
   "metadata": {},
   "outputs": [
    {
     "name": "stderr",
     "output_type": "stream",
     "text": [
      "C:\\Users\\Nafi Kareem\\AppData\\Local\\Temp\\ipykernel_7824\\2836404651.py:1: SettingWithCopyWarning:\n",
      "\n",
      "\n",
      "A value is trying to be set on a copy of a slice from a DataFrame.\n",
      "Try using .loc[row_indexer,col_indexer] = value instead\n",
      "\n",
      "See the caveats in the documentation: https://pandas.pydata.org/pandas-docs/stable/user_guide/indexing.html#returning-a-view-versus-a-copy\n",
      "\n",
      "C:\\Users\\Nafi Kareem\\AppData\\Local\\Temp\\ipykernel_7824\\2836404651.py:2: SettingWithCopyWarning:\n",
      "\n",
      "\n",
      "A value is trying to be set on a copy of a slice from a DataFrame.\n",
      "Try using .loc[row_indexer,col_indexer] = value instead\n",
      "\n",
      "See the caveats in the documentation: https://pandas.pydata.org/pandas-docs/stable/user_guide/indexing.html#returning-a-view-versus-a-copy\n",
      "\n",
      "C:\\Users\\Nafi Kareem\\AppData\\Local\\Temp\\ipykernel_7824\\2836404651.py:3: SettingWithCopyWarning:\n",
      "\n",
      "\n",
      "A value is trying to be set on a copy of a slice from a DataFrame.\n",
      "Try using .loc[row_indexer,col_indexer] = value instead\n",
      "\n",
      "See the caveats in the documentation: https://pandas.pydata.org/pandas-docs/stable/user_guide/indexing.html#returning-a-view-versus-a-copy\n",
      "\n"
     ]
    },
    {
     "data": {
      "text/html": [
       "<div>\n",
       "<style scoped>\n",
       "    .dataframe tbody tr th:only-of-type {\n",
       "        vertical-align: middle;\n",
       "    }\n",
       "\n",
       "    .dataframe tbody tr th {\n",
       "        vertical-align: top;\n",
       "    }\n",
       "\n",
       "    .dataframe thead th {\n",
       "        text-align: right;\n",
       "    }\n",
       "</style>\n",
       "<table border=\"1\" class=\"dataframe\">\n",
       "  <thead>\n",
       "    <tr style=\"text-align: right;\">\n",
       "      <th></th>\n",
       "      <th>index</th>\n",
       "      <th>duration</th>\n",
       "    </tr>\n",
       "  </thead>\n",
       "  <tbody>\n",
       "    <tr>\n",
       "      <th>0</th>\n",
       "      <td>1</td>\n",
       "      <td>2</td>\n",
       "    </tr>\n",
       "    <tr>\n",
       "      <th>1</th>\n",
       "      <td>2</td>\n",
       "      <td>1</td>\n",
       "    </tr>\n",
       "    <tr>\n",
       "      <th>2</th>\n",
       "      <td>3</td>\n",
       "      <td>1</td>\n",
       "    </tr>\n",
       "    <tr>\n",
       "      <th>3</th>\n",
       "      <td>4</td>\n",
       "      <td>2</td>\n",
       "    </tr>\n",
       "    <tr>\n",
       "      <th>4</th>\n",
       "      <td>5</td>\n",
       "      <td>1</td>\n",
       "    </tr>\n",
       "    <tr>\n",
       "      <th>...</th>\n",
       "      <td>...</td>\n",
       "      <td>...</td>\n",
       "    </tr>\n",
       "    <tr>\n",
       "      <th>2659</th>\n",
       "      <td>8795</td>\n",
       "      <td>2</td>\n",
       "    </tr>\n",
       "    <tr>\n",
       "      <th>2660</th>\n",
       "      <td>8796</td>\n",
       "      <td>2</td>\n",
       "    </tr>\n",
       "    <tr>\n",
       "      <th>2661</th>\n",
       "      <td>8797</td>\n",
       "      <td>3</td>\n",
       "    </tr>\n",
       "    <tr>\n",
       "      <th>2662</th>\n",
       "      <td>8800</td>\n",
       "      <td>1</td>\n",
       "    </tr>\n",
       "    <tr>\n",
       "      <th>2663</th>\n",
       "      <td>8803</td>\n",
       "      <td>2</td>\n",
       "    </tr>\n",
       "  </tbody>\n",
       "</table>\n",
       "<p>2664 rows × 2 columns</p>\n",
       "</div>"
      ],
      "text/plain": [
       "      index  duration\n",
       "0         1         2\n",
       "1         2         1\n",
       "2         3         1\n",
       "3         4         2\n",
       "4         5         1\n",
       "...     ...       ...\n",
       "2659   8795         2\n",
       "2660   8796         2\n",
       "2661   8797         3\n",
       "2662   8800         1\n",
       "2663   8803         2\n",
       "\n",
       "[2664 rows x 2 columns]"
      ]
     },
     "execution_count": 30,
     "metadata": {},
     "output_type": "execute_result"
    }
   ],
   "source": [
    "tv_df['duration']=tv_df['duration'].str.replace(' Season','')\n",
    "tv_df['duration']=tv_df['duration'].str.replace('s','')\n",
    "tv_df['duration']=tv_df['duration'].astype(str).astype(int)\n",
    "tv_df['duration'].reset_index()"
   ]
  },
  {
   "cell_type": "code",
   "execution_count": 31,
   "metadata": {},
   "outputs": [
    {
     "data": {
      "text/html": [
       "<div>\n",
       "<style scoped>\n",
       "    .dataframe tbody tr th:only-of-type {\n",
       "        vertical-align: middle;\n",
       "    }\n",
       "\n",
       "    .dataframe tbody tr th {\n",
       "        vertical-align: top;\n",
       "    }\n",
       "\n",
       "    .dataframe thead th {\n",
       "        text-align: right;\n",
       "    }\n",
       "</style>\n",
       "<table border=\"1\" class=\"dataframe\">\n",
       "  <thead>\n",
       "    <tr style=\"text-align: right;\">\n",
       "      <th></th>\n",
       "      <th>title</th>\n",
       "      <th>duration</th>\n",
       "    </tr>\n",
       "  </thead>\n",
       "  <tbody>\n",
       "    <tr>\n",
       "      <th>548</th>\n",
       "      <td>Grey's Anatomy</td>\n",
       "      <td>17</td>\n",
       "    </tr>\n",
       "    <tr>\n",
       "      <th>2423</th>\n",
       "      <td>Supernatural</td>\n",
       "      <td>15</td>\n",
       "    </tr>\n",
       "    <tr>\n",
       "      <th>4798</th>\n",
       "      <td>NCIS</td>\n",
       "      <td>15</td>\n",
       "    </tr>\n",
       "    <tr>\n",
       "      <th>4220</th>\n",
       "      <td>COMEDIANS of the world</td>\n",
       "      <td>13</td>\n",
       "    </tr>\n",
       "    <tr>\n",
       "      <th>1354</th>\n",
       "      <td>Heartland</td>\n",
       "      <td>13</td>\n",
       "    </tr>\n",
       "    <tr>\n",
       "      <th>4964</th>\n",
       "      <td>Trailer Park Boys</td>\n",
       "      <td>12</td>\n",
       "    </tr>\n",
       "    <tr>\n",
       "      <th>5412</th>\n",
       "      <td>Criminal Minds</td>\n",
       "      <td>12</td>\n",
       "    </tr>\n",
       "    <tr>\n",
       "      <th>6456</th>\n",
       "      <td>Cheers</td>\n",
       "      <td>11</td>\n",
       "    </tr>\n",
       "    <tr>\n",
       "      <th>390</th>\n",
       "      <td>The Walking Dead</td>\n",
       "      <td>10</td>\n",
       "    </tr>\n",
       "    <tr>\n",
       "      <th>1622</th>\n",
       "      <td>Stargate SG-1</td>\n",
       "      <td>10</td>\n",
       "    </tr>\n",
       "  </tbody>\n",
       "</table>\n",
       "</div>"
      ],
      "text/plain": [
       "                       title  duration\n",
       "548           Grey's Anatomy        17\n",
       "2423            Supernatural        15\n",
       "4798                    NCIS        15\n",
       "4220  COMEDIANS of the world        13\n",
       "1354               Heartland        13\n",
       "4964       Trailer Park Boys        12\n",
       "5412          Criminal Minds        12\n",
       "6456                  Cheers        11\n",
       "390         The Walking Dead        10\n",
       "1622           Stargate SG-1        10"
      ]
     },
     "execution_count": 31,
     "metadata": {},
     "output_type": "execute_result"
    }
   ],
   "source": [
    "columns=['title','duration']\n",
    "tv_shows = tv_df[columns]\n",
    "tv_shows = tv_shows.sort_values(by='duration',ascending=False)\n",
    "tv_shows.head(10)"
   ]
  },
  {
   "cell_type": "code",
   "execution_count": 32,
   "metadata": {},
   "outputs": [
    {
     "data": {
      "text/plain": [
       "(array([0, 1, 2, 3, 4, 5, 6, 7, 8, 9]),\n",
       " [Text(0, 0, \"Grey's Anatomy\"),\n",
       "  Text(1, 0, 'Supernatural'),\n",
       "  Text(2, 0, 'NCIS'),\n",
       "  Text(3, 0, 'COMEDIANS of the world'),\n",
       "  Text(4, 0, 'Heartland'),\n",
       "  Text(5, 0, 'Trailer Park Boys'),\n",
       "  Text(6, 0, 'Criminal Minds'),\n",
       "  Text(7, 0, 'Cheers'),\n",
       "  Text(8, 0, 'The Walking Dead'),\n",
       "  Text(9, 0, 'Stargate SG-1')])"
      ]
     },
     "execution_count": 32,
     "metadata": {},
     "output_type": "execute_result"
    },
    {
     "data": {
      "image/png": "[encoded data removed]",
      "text/plain": [
       "<Figure size 1000x600 with 1 Axes>"
      ]
     },
     "metadata": {},
     "output_type": "display_data"
    }
   ],
   "source": [
    "plt.figure(figsize=(10,6))\n",
    "sns.barplot(x='title',y='duration', color='purple',data=tv_shows.head(10))\n",
    "plt.title('TV show with the most seasons')\n",
    "plt.xlabel('Title')\n",
    "plt.ylabel('Duration')\n",
    "plt.xticks(rotation=45)"
   ]
  },
  {
   "cell_type": "markdown",
   "metadata": {},
   "source": [
    "berdasarkan informasi diatas dapat disimpulkan bahwa Grey's Anatomy memiliki jumlah season terbanyak yaitu sebanyak 17 Season"
   ]
  },
  {
   "cell_type": "markdown",
   "metadata": {},
   "source": [
    "#### Pembagian Season TV Show"
   ]
  },
  {
   "cell_type": "code",
   "execution_count": 33,
   "metadata": {},
   "outputs": [
    {
     "data": {
      "image/png": "[encoded data removed]",
      "text/plain": [
       "<Figure size 800x600 with 1 Axes>"
      ]
     },
     "metadata": {},
     "output_type": "display_data"
    }
   ],
   "source": [
    "plt.figure(figsize=(8, 6))\n",
    "labels=['1 Season', '2 Seasons', '3 Seasons']\n",
    "_, _, texts = plt.pie(df.duration.value_counts()[:3], labels=labels, autopct='%1.2f%%', startangle=90, \n",
    "                      explode=(0.0, 0.1, 0.2), colors=['#003f5c', '#bc5090', '#ffa600'])\n",
    "plt.axis('equal')\n",
    "plt.title('Seasons Available on Netflix', fontsize=20, fontweight='bold');\n",
    "for text in texts:\n",
    "    text.set_color('white')"
   ]
  },
  {
   "cell_type": "markdown",
   "metadata": {},
   "source": [
    "dari informasi diatas dapat disimpulkan bahwa:\n",
    "- 74.32% TV show hanya memiliki 1 season\n",
    "- 17.47% TV show memiliki 2 seasons\n",
    "-  8.22% TV show memiliki 3 seasons"
   ]
  },
  {
   "cell_type": "markdown",
   "metadata": {},
   "source": [
    "## Data Preprocessing"
   ]
  },
  {
   "cell_type": "markdown",
   "metadata": {},
   "source": [
    "pada tahap ini kami akan melakukan preprocessing sebelum membuat model machine learning. kami akan menggunakan beberapa fitur untuk mengukur kemiripan, diantaranya :\n",
    "- type\n",
    "- title\n",
    "- listed in\n",
    "- director\n",
    "- description"
   ]
  },
  {
   "cell_type": "code",
   "execution_count": 34,
   "metadata": {},
   "outputs": [],
   "source": [
    "def bag_of_words(df):\n",
    "    features = df['type']+' '+df['title']+' '+df['listed_in']+' '+df['director']+' '+df['description']\n",
    "    return features.str.lower()"
   ]
  },
  {
   "cell_type": "code",
   "execution_count": 35,
   "metadata": {},
   "outputs": [],
   "source": [
    "features = bag_of_words(df)"
   ]
  },
  {
   "cell_type": "code",
   "execution_count": 36,
   "metadata": {},
   "outputs": [
    {
     "data": {
      "text/plain": [
       "0    movie dick johnson is dead documentaries kirst...\n",
       "1    tv show blood & water international tv shows, ...\n",
       "2    tv show ganglands crime tv shows, internationa...\n",
       "3    tv show jailbirds new orleans docuseries, real...\n",
       "4    tv show kota factory international tv shows, r...\n",
       "5    tv show midnight mass tv dramas, tv horror, tv...\n",
       "6    movie my little pony: a new generation childre...\n",
       "7    movie sankofa dramas, independent movies, inte...\n",
       "8    tv show the great british baking show british ...\n",
       "9    movie the starling comedies, dramas theodore m...\n",
       "dtype: object"
      ]
     },
     "execution_count": 36,
     "metadata": {},
     "output_type": "execute_result"
    }
   ],
   "source": [
    "features.head(10)"
   ]
  },
  {
   "cell_type": "markdown",
   "metadata": {},
   "source": [
    "### mengubah data kategorik menjadi data numerik"
   ]
  },
  {
   "cell_type": "markdown",
   "metadata": {},
   "source": [
    "karena tipe data kami bertipe kategorik, maka kami perlu mengubah data kategorik menjadi numerik. karena kita akan menggunakan model CSM (Cosine Similarity Metric) maka kita akan menggunakan fungsi CountVectorizer. CountVectorizer simple nya akan mengubah data kategorik menjadi sebuah vektor yang berisi frekuensi kemunculan setiap kata dalam data tersebut."
   ]
  },
  {
   "cell_type": "code",
   "execution_count": 37,
   "metadata": {},
   "outputs": [
    {
     "data": {
      "text/html": [
       "<style>#sk-container-id-1 {color: black;}#sk-container-id-1 pre{padding: 0;}#sk-container-id-1 div.sk-toggleable {background-color: white;}#sk-container-id-1 label.sk-toggleable__label {cursor: pointer;display: block;width: 100%;margin-bottom: 0;padding: 0.3em;box-sizing: border-box;text-align: center;}#sk-container-id-1 label.sk-toggleable__label-arrow:before {content: \"▸\";float: left;margin-right: 0.25em;color: #696969;}#sk-container-id-1 label.sk-toggleable__label-arrow:hover:before {color: black;}#sk-container-id-1 div.sk-estimator:hover label.sk-toggleable__label-arrow:before {color: black;}#sk-container-id-1 div.sk-toggleable__content {max-height: 0;max-width: 0;overflow: hidden;text-align: left;background-color: #f0f8ff;}#sk-container-id-1 div.sk-toggleable__content pre {margin: 0.2em;color: black;border-radius: 0.25em;background-color: #f0f8ff;}#sk-container-id-1 input.sk-toggleable__control:checked~div.sk-toggleable__content {max-height: 200px;max-width: 100%;overflow: auto;}#sk-container-id-1 input.sk-toggleable__control:checked~label.sk-toggleable__label-arrow:before {content: \"▾\";}#sk-container-id-1 div.sk-estimator input.sk-toggleable__control:checked~label.sk-toggleable__label {background-color: #d4ebff;}#sk-container-id-1 div.sk-label input.sk-toggleable__control:checked~label.sk-toggleable__label {background-color: #d4ebff;}#sk-container-id-1 input.sk-hidden--visually {border: 0;clip: rect(1px 1px 1px 1px);clip: rect(1px, 1px, 1px, 1px);height: 1px;margin: -1px;overflow: hidden;padding: 0;position: absolute;width: 1px;}#sk-container-id-1 div.sk-estimator {font-family: monospace;background-color: #f0f8ff;border: 1px dotted black;border-radius: 0.25em;box-sizing: border-box;margin-bottom: 0.5em;}#sk-container-id-1 div.sk-estimator:hover {background-color: #d4ebff;}#sk-container-id-1 div.sk-parallel-item::after {content: \"\";width: 100%;border-bottom: 1px solid gray;flex-grow: 1;}#sk-container-id-1 div.sk-label:hover label.sk-toggleable__label {background-color: #d4ebff;}#sk-container-id-1 div.sk-serial::before {content: \"\";position: absolute;border-left: 1px solid gray;box-sizing: border-box;top: 0;bottom: 0;left: 50%;z-index: 0;}#sk-container-id-1 div.sk-serial {display: flex;flex-direction: column;align-items: center;background-color: white;padding-right: 0.2em;padding-left: 0.2em;position: relative;}#sk-container-id-1 div.sk-item {position: relative;z-index: 1;}#sk-container-id-1 div.sk-parallel {display: flex;align-items: stretch;justify-content: center;background-color: white;position: relative;}#sk-container-id-1 div.sk-item::before, #sk-container-id-1 div.sk-parallel-item::before {content: \"\";position: absolute;border-left: 1px solid gray;box-sizing: border-box;top: 0;bottom: 0;left: 50%;z-index: -1;}#sk-container-id-1 div.sk-parallel-item {display: flex;flex-direction: column;z-index: 1;position: relative;background-color: white;}#sk-container-id-1 div.sk-parallel-item:first-child::after {align-self: flex-end;width: 50%;}#sk-container-id-1 div.sk-parallel-item:last-child::after {align-self: flex-start;width: 50%;}#sk-container-id-1 div.sk-parallel-item:only-child::after {width: 0;}#sk-container-id-1 div.sk-dashed-wrapped {border: 1px dashed gray;margin: 0 0.4em 0.5em 0.4em;box-sizing: border-box;padding-bottom: 0.4em;background-color: white;}#sk-container-id-1 div.sk-label label {font-family: monospace;font-weight: bold;display: inline-block;line-height: 1.2em;}#sk-container-id-1 div.sk-label-container {text-align: center;}#sk-container-id-1 div.sk-container {/* jupyter's `normalize.less` sets `[hidden] { display: none; }` but bootstrap.min.css set `[hidden] { display: none !important; }` so we also need the `!important` here to be able to override the default hidden behavior on the sphinx rendered scikit-learn.org. See: https://github.com/scikit-learn/scikit-learn/issues/21755 */display: inline-block !important;position: relative;}#sk-container-id-1 div.sk-text-repr-fallback {display: none;}</style><div id=\"sk-container-id-1\" class=\"sk-top-container\"><div class=\"sk-text-repr-fallback\"><pre>CountVectorizer(stop_words=&#x27;english&#x27;)</pre><b>In a Jupyter environment, please rerun this cell to show the HTML representation or trust the notebook. <br />On GitHub, the HTML representation is unable to render, please try loading this page with nbviewer.org.</b></div><div class=\"sk-container\" hidden><div class=\"sk-item\"><div class=\"sk-estimator sk-toggleable\"><input class=\"sk-toggleable__control sk-hidden--visually\" id=\"sk-estimator-id-1\" type=\"checkbox\" checked><label for=\"sk-estimator-id-1\" class=\"sk-toggleable__label sk-toggleable__label-arrow\">CountVectorizer</label><div class=\"sk-toggleable__content\"><pre>CountVectorizer(stop_words=&#x27;english&#x27;)</pre></div></div></div></div></div>"
      ],
      "text/plain": [
       "CountVectorizer(stop_words='english')"
      ]
     },
     "execution_count": 37,
     "metadata": {},
     "output_type": "execute_result"
    }
   ],
   "source": [
    "countvec = CountVectorizer(stop_words='english')\n",
    "countvec"
   ]
  },
  {
   "cell_type": "code",
   "execution_count": 38,
   "metadata": {},
   "outputs": [],
   "source": [
    "count_matrix = countvec.fit_transform(features)"
   ]
  },
  {
   "cell_type": "code",
   "execution_count": 39,
   "metadata": {},
   "outputs": [
    {
     "data": {
      "text/plain": [
       "(8790, 27232)"
      ]
     },
     "execution_count": 39,
     "metadata": {},
     "output_type": "execute_result"
    }
   ],
   "source": [
    "count_matrix.shape"
   ]
  },
  {
   "cell_type": "markdown",
   "metadata": {},
   "source": [
    "### standarisadi data"
   ]
  },
  {
   "cell_type": "markdown",
   "metadata": {},
   "source": [
    "karena fitur yang digunakan untuk mengukur kemiripan film berbentuk teks, maka kami perlu menstandarisasi data karena fitur teks memiliki skala yang berbeda-beda, tergantung pada frekuensi kemunculan kata dalam teks. kali ini kami akan menggunakan standardcaler karena algoritma CSM tidak terlalu sensitif pada skala data"
   ]
  },
  {
   "cell_type": "code",
   "execution_count": 40,
   "metadata": {},
   "outputs": [
    {
     "data": {
      "text/html": [
       "<style>#sk-container-id-2 {color: black;}#sk-container-id-2 pre{padding: 0;}#sk-container-id-2 div.sk-toggleable {background-color: white;}#sk-container-id-2 label.sk-toggleable__label {cursor: pointer;display: block;width: 100%;margin-bottom: 0;padding: 0.3em;box-sizing: border-box;text-align: center;}#sk-container-id-2 label.sk-toggleable__label-arrow:before {content: \"▸\";float: left;margin-right: 0.25em;color: #696969;}#sk-container-id-2 label.sk-toggleable__label-arrow:hover:before {color: black;}#sk-container-id-2 div.sk-estimator:hover label.sk-toggleable__label-arrow:before {color: black;}#sk-container-id-2 div.sk-toggleable__content {max-height: 0;max-width: 0;overflow: hidden;text-align: left;background-color: #f0f8ff;}#sk-container-id-2 div.sk-toggleable__content pre {margin: 0.2em;color: black;border-radius: 0.25em;background-color: #f0f8ff;}#sk-container-id-2 input.sk-toggleable__control:checked~div.sk-toggleable__content {max-height: 200px;max-width: 100%;overflow: auto;}#sk-container-id-2 input.sk-toggleable__control:checked~label.sk-toggleable__label-arrow:before {content: \"▾\";}#sk-container-id-2 div.sk-estimator input.sk-toggleable__control:checked~label.sk-toggleable__label {background-color: #d4ebff;}#sk-container-id-2 div.sk-label input.sk-toggleable__control:checked~label.sk-toggleable__label {background-color: #d4ebff;}#sk-container-id-2 input.sk-hidden--visually {border: 0;clip: rect(1px 1px 1px 1px);clip: rect(1px, 1px, 1px, 1px);height: 1px;margin: -1px;overflow: hidden;padding: 0;position: absolute;width: 1px;}#sk-container-id-2 div.sk-estimator {font-family: monospace;background-color: #f0f8ff;border: 1px dotted black;border-radius: 0.25em;box-sizing: border-box;margin-bottom: 0.5em;}#sk-container-id-2 div.sk-estimator:hover {background-color: #d4ebff;}#sk-container-id-2 div.sk-parallel-item::after {content: \"\";width: 100%;border-bottom: 1px solid gray;flex-grow: 1;}#sk-container-id-2 div.sk-label:hover label.sk-toggleable__label {background-color: #d4ebff;}#sk-container-id-2 div.sk-serial::before {content: \"\";position: absolute;border-left: 1px solid gray;box-sizing: border-box;top: 0;bottom: 0;left: 50%;z-index: 0;}#sk-container-id-2 div.sk-serial {display: flex;flex-direction: column;align-items: center;background-color: white;padding-right: 0.2em;padding-left: 0.2em;position: relative;}#sk-container-id-2 div.sk-item {position: relative;z-index: 1;}#sk-container-id-2 div.sk-parallel {display: flex;align-items: stretch;justify-content: center;background-color: white;position: relative;}#sk-container-id-2 div.sk-item::before, #sk-container-id-2 div.sk-parallel-item::before {content: \"\";position: absolute;border-left: 1px solid gray;box-sizing: border-box;top: 0;bottom: 0;left: 50%;z-index: -1;}#sk-container-id-2 div.sk-parallel-item {display: flex;flex-direction: column;z-index: 1;position: relative;background-color: white;}#sk-container-id-2 div.sk-parallel-item:first-child::after {align-self: flex-end;width: 50%;}#sk-container-id-2 div.sk-parallel-item:last-child::after {align-self: flex-start;width: 50%;}#sk-container-id-2 div.sk-parallel-item:only-child::after {width: 0;}#sk-container-id-2 div.sk-dashed-wrapped {border: 1px dashed gray;margin: 0 0.4em 0.5em 0.4em;box-sizing: border-box;padding-bottom: 0.4em;background-color: white;}#sk-container-id-2 div.sk-label label {font-family: monospace;font-weight: bold;display: inline-block;line-height: 1.2em;}#sk-container-id-2 div.sk-label-container {text-align: center;}#sk-container-id-2 div.sk-container {/* jupyter's `normalize.less` sets `[hidden] { display: none; }` but bootstrap.min.css set `[hidden] { display: none !important; }` so we also need the `!important` here to be able to override the default hidden behavior on the sphinx rendered scikit-learn.org. See: https://github.com/scikit-learn/scikit-learn/issues/21755 */display: inline-block !important;position: relative;}#sk-container-id-2 div.sk-text-repr-fallback {display: none;}</style><div id=\"sk-container-id-2\" class=\"sk-top-container\"><div class=\"sk-text-repr-fallback\"><pre>StandardScaler(with_mean=False)</pre><b>In a Jupyter environment, please rerun this cell to show the HTML representation or trust the notebook. <br />On GitHub, the HTML representation is unable to render, please try loading this page with nbviewer.org.</b></div><div class=\"sk-container\" hidden><div class=\"sk-item\"><div class=\"sk-estimator sk-toggleable\"><input class=\"sk-toggleable__control sk-hidden--visually\" id=\"sk-estimator-id-2\" type=\"checkbox\" checked><label for=\"sk-estimator-id-2\" class=\"sk-toggleable__label sk-toggleable__label-arrow\">StandardScaler</label><div class=\"sk-toggleable__content\"><pre>StandardScaler(with_mean=False)</pre></div></div></div></div></div>"
      ],
      "text/plain": [
       "StandardScaler(with_mean=False)"
      ]
     },
     "execution_count": 40,
     "metadata": {},
     "output_type": "execute_result"
    }
   ],
   "source": [
    "scaler = StandardScaler(with_mean=False)\n",
    "scaler"
   ]
  },
  {
   "cell_type": "code",
   "execution_count": 41,
   "metadata": {},
   "outputs": [],
   "source": [
    "scaled_data = scaler.fit_transform(count_matrix)"
   ]
  },
  {
   "cell_type": "code",
   "execution_count": 42,
   "metadata": {},
   "outputs": [
    {
     "data": {
      "text/plain": [
       "(8790, 27232)"
      ]
     },
     "execution_count": 42,
     "metadata": {},
     "output_type": "execute_result"
    }
   ],
   "source": [
    "scaled_data.shape"
   ]
  },
  {
   "cell_type": "markdown",
   "metadata": {},
   "source": [
    "## Modelling"
   ]
  },
  {
   "cell_type": "markdown",
   "metadata": {},
   "source": [
    "pada tahap ini kami akanmembuat model dengan menggunakan metode Cosine Similarity Metric (CSM). simplenya CSM akan mengukur kesamaan antara dua vektor. Nilai cosine similarity metric berkisar antara 0 dan 1. Nilai 0 menunjukkan bahwa kedua vektor sangat berbeda, sedangkan nilai 1 menunjukkan bahwa kedua vektor sangat mirip."
   ]
  },
  {
   "cell_type": "code",
   "execution_count": 43,
   "metadata": {},
   "outputs": [
    {
     "data": {
      "text/plain": [
       "array([[1.00000000e+00, 0.00000000e+00, 0.00000000e+00, ...,\n",
       "        1.43681498e-04, 5.42608522e-04, 1.87111356e-04],\n",
       "       [0.00000000e+00, 1.00000000e+00, 1.21039410e-03, ...,\n",
       "        0.00000000e+00, 0.00000000e+00, 6.26544479e-04],\n",
       "       [0.00000000e+00, 1.21039410e-03, 1.00000000e+00, ...,\n",
       "        0.00000000e+00, 2.72151024e-04, 4.88255231e-04],\n",
       "       ...,\n",
       "       [1.43681498e-04, 0.00000000e+00, 0.00000000e+00, ...,\n",
       "        1.00000000e+00, 3.28378673e-04, 2.03568796e-04],\n",
       "       [5.42608522e-04, 0.00000000e+00, 2.72151024e-04, ...,\n",
       "        3.28378673e-04, 1.00000000e+00, 4.86354977e-04],\n",
       "       [1.87111356e-04, 6.26544479e-04, 4.88255231e-04, ...,\n",
       "        2.03568796e-04, 4.86354977e-04, 1.00000000e+00]])"
      ]
     },
     "execution_count": 43,
     "metadata": {},
     "output_type": "execute_result"
    }
   ],
   "source": [
    "cosine_sim = cosine_similarity(scaled_data)\n",
    "cosine_sim"
   ]
  },
  {
   "cell_type": "markdown",
   "metadata": {},
   "source": [
    "mengubah kolom title dari data menjadi list."
   ]
  },
  {
   "cell_type": "code",
   "execution_count": 44,
   "metadata": {},
   "outputs": [
    {
     "data": {
      "text/plain": [
       "['Dick Johnson Is Dead',\n",
       " 'Blood & Water',\n",
       " 'Ganglands',\n",
       " 'Jailbirds New Orleans',\n",
       " 'Kota Factory',\n",
       " 'Midnight Mass',\n",
       " 'My Little Pony: A New Generation',\n",
       " 'Sankofa',\n",
       " 'The Great British Baking Show',\n",
       " 'The Starling',\n",
       " 'Vendetta: Truth, Lies and The Mafia',\n",
       " 'Bangkok Breaking',\n",
       " 'Je Suis Karl',\n",
       " 'Confessions of an Invisible Girl',\n",
       " 'Crime Stories: India Detectives',\n",
       " 'Dear White People',\n",
       " \"Europe's Most Dangerous Man: Otto Skorzeny in Spain\",\n",
       " 'Falsa identidad',\n",
       " 'Intrusion',\n",
       " 'Jaguar',\n",
       " 'Monsters Inside: The 24 Faces of Billy Milligan',\n",
       " 'Resurrection: Ertugrul',\n",
       " 'Avvai Shanmughi',\n",
       " 'Go! Go! Cory Carson: Chrissy Takes the Wheel',\n",
       " 'Jeans',\n",
       " 'Love on the Spectrum',\n",
       " 'Minsara Kanavu',\n",
       " 'Grown Ups',\n",
       " 'Dark Skies',\n",
       " 'Paranoia',\n",
       " 'Ankahi Kahaniya',\n",
       " 'Chicago Party Aunt',\n",
       " 'Sex Education',\n",
       " 'Squid Game',\n",
       " 'Tayo and Little Wizards',\n",
       " 'The Father Who Moves Mountains',\n",
       " 'The Stronghold',\n",
       " 'Angry Birds',\n",
       " 'Birth of the Dragon',\n",
       " 'Chhota Bheem',\n",
       " 'He-Man and the Masters of the Universe',\n",
       " 'Jaws',\n",
       " 'Jaws 2',\n",
       " 'Jaws 3',\n",
       " 'Jaws: The Revenge',\n",
       " 'My Heroes Were Cowboys',\n",
       " 'Safe House',\n",
       " 'The Smart Money Woman',\n",
       " 'Training Day',\n",
       " 'Castle and Castle',\n",
       " 'Dharmakshetra',\n",
       " 'InuYasha the Movie 2: The Castle Beyond the Looking Glass',\n",
       " 'InuYasha the Movie 3: Swords of an Honorable Ruler',\n",
       " 'InuYasha the Movie 4: Fire on the Mystic Island',\n",
       " 'InuYasha the Movie: Affections Touching Across Time',\n",
       " 'Nailed It',\n",
       " 'Naruto Shippuden the Movie: Blood Prison',\n",
       " 'Naruto Shippûden the Movie: Bonds',\n",
       " 'Naruto Shippûden the Movie: The Will of Fire',\n",
       " 'Naruto Shippuden: The Movie',\n",
       " 'Naruto Shippuden: The Movie: The Lost Tower',\n",
       " 'Naruto the Movie 2: Legend of the Stone of Gelel',\n",
       " 'Naruto the Movie 3: Guardians of the Crescent Moon Kingdom',\n",
       " 'Naruto the Movie: Ninja Clash in the Land of Snow',\n",
       " 'Nightbooks',\n",
       " 'Numberblocks',\n",
       " 'Raja Rasoi Aur Anya Kahaniyan',\n",
       " 'Saved by the Bell',\n",
       " 'Schumacher',\n",
       " 'Stories by Rabindranath Tagore',\n",
       " 'Too Hot To Handle: Latino',\n",
       " 'A StoryBots Space Adventure',\n",
       " 'Jack Whitehall: Travels with My Father',\n",
       " 'King of Boys',\n",
       " \"The World's Most Amazing Vacation Rentals\",\n",
       " 'You vs. Wild: Out Cold',\n",
       " 'Yowamushi Pedal',\n",
       " 'Little Singham - Black Shadow',\n",
       " 'Tughlaq Durbar',\n",
       " 'Tughlaq Durbar (Telugu)',\n",
       " 'Firedrake the Silver Dragon',\n",
       " 'Kate',\n",
       " 'Lucifer',\n",
       " 'Metal Shop Masters',\n",
       " 'Omo Ghetto: the Saga',\n",
       " 'Pokémon Master Journeys: The Series',\n",
       " 'Prey',\n",
       " 'Titipo Titipo',\n",
       " 'Blood Brothers: Malcolm X & Muhammad Ali',\n",
       " 'Mighty Raju',\n",
       " 'Paradise Hills',\n",
       " 'The Women and the Murderer',\n",
       " 'Into the Night',\n",
       " 'JJ+E',\n",
       " 'Show Dogs',\n",
       " 'The Circle',\n",
       " 'If I Leave Here Tomorrow: A Film About Lynyrd Skynyrd',\n",
       " 'Kid Cosmic',\n",
       " 'Octonauts: Above & Beyond',\n",
       " 'On the Verge',\n",
       " 'Tobot Galaxy Detectives',\n",
       " 'Untold: Breaking Point',\n",
       " 'Countdown: Inspiration4 Mission to Space',\n",
       " 'Shadow Parties',\n",
       " 'Tayo the Little Bus',\n",
       " 'Angamaly Diaries',\n",
       " \"Bunk'd\",\n",
       " 'A Champion Heart',\n",
       " 'Dive Club',\n",
       " 'La casa de papel',\n",
       " 'Money Heist: From Tokyo to Berlin',\n",
       " 'Sharkdog',\n",
       " 'Worth',\n",
       " 'Afterlife of the Party',\n",
       " 'Anjaam',\n",
       " 'Bright Star',\n",
       " 'Dhanak',\n",
       " 'Final Account',\n",
       " 'Gurgaon',\n",
       " 'Here and There',\n",
       " 'Heroes of Goo Jit Zu',\n",
       " 'Hotel Del Luna',\n",
       " 'In the Cut',\n",
       " 'Luv Kushh',\n",
       " 'Pororo - The Little Penguin',\n",
       " 'Q-Force',\n",
       " 'Shikara',\n",
       " 'A Cinderella Story',\n",
       " \"Agatha Christie's Crooked House\",\n",
       " 'An Unfinished Life',\n",
       " 'Barbie Big City Big Dreams',\n",
       " 'Blade Runner: The Final Cut',\n",
       " 'Brave Animated Series',\n",
       " 'Chappie',\n",
       " 'Clear and Present Danger',\n",
       " 'Cliffhanger',\n",
       " 'Cold Mountain',\n",
       " 'Crocodile Dundee in Los Angeles',\n",
       " 'Dear John',\n",
       " 'Do the Right Thing',\n",
       " 'El patrón, radiografía de un crimen',\n",
       " 'Extraction',\n",
       " 'Freedom Writers',\n",
       " 'Green Lantern',\n",
       " 'House Party',\n",
       " 'House Party 2',\n",
       " 'House Party 3',\n",
       " 'How to Be a Cowboy',\n",
       " 'HQ Barbers',\n",
       " 'I Got the Hook Up',\n",
       " 'In Too Deep',\n",
       " 'Initial D',\n",
       " 'Janoskians: Untold and Untrue',\n",
       " 'Kid-E-Cats',\n",
       " \"Kuroko's Basketball\",\n",
       " 'Labyrinth',\n",
       " 'Letters to Juliet',\n",
       " 'Level 16',\n",
       " \"Love Don't Cost a Thing\",\n",
       " 'Love in a Puff',\n",
       " 'Major Dad',\n",
       " 'Mars Attacks!',\n",
       " 'Marshall',\n",
       " \"My Boss's Daughter\",\n",
       " 'Mystery Men',\n",
       " 'Oldsters',\n",
       " 'Once Upon a Time in America',\n",
       " 'Open Season 2',\n",
       " 'Osmosis Jones',\n",
       " 'Poseidon',\n",
       " 'Rhyme & Reason',\n",
       " 'Same Kind of Different as Me',\n",
       " 'School of Rock',\n",
       " 'Snervous Tyler Oakley',\n",
       " 'Tears of the Sun',\n",
       " 'The Blue Lagoon',\n",
       " 'The Golden Child',\n",
       " 'The Guns of Navarone',\n",
       " 'The Interview',\n",
       " 'The Nutty Professor',\n",
       " 'The Nutty Professor II: The Klumps',\n",
       " 'Turning Point: 9/11 and the War on Terror',\n",
       " 'Welcome Home Roscoe Jenkins',\n",
       " 'In the Line of Fire',\n",
       " 'Sparking Joy',\n",
       " 'Untold: Crime & Penalties',\n",
       " 'Hometown Cha-Cha-Cha',\n",
       " 'The Ingenuity of the Househusband',\n",
       " '2 Alone in Paris',\n",
       " 'Bread Barbershop',\n",
       " 'Thimmarusu',\n",
       " 'Wind River',\n",
       " 'C Kkompany',\n",
       " 'D.P.',\n",
       " 'Deadly Sins',\n",
       " 'EMI: Liya Hai To Chukana Padega',\n",
       " \"He's All That\",\n",
       " 'I Heart Arlo',\n",
       " 'King of Boys: The Return of the King',\n",
       " 'Koi Aap Sa',\n",
       " 'Krishna Cottage',\n",
       " 'Kucch To Hai',\n",
       " 'Kyaa Kool Hai Hum',\n",
       " 'Kyaa Kool Hain Hum 3',\n",
       " 'Kyaa Super Kool Hain Hum',\n",
       " 'Kyo Kii... Main Jhuth Nahin Bolta',\n",
       " 'LSD: Love, Sex Aur Dhokha',\n",
       " 'Mission Istaanbul: Darr Ke Aagey Jeet Hai',\n",
       " 'Once Upon a Time in Mumbaai',\n",
       " 'Once Upon a Time in Mumbai Dobaara!',\n",
       " 'Ragini MMS',\n",
       " 'Ragini MMS 2',\n",
       " 'Rebellion',\n",
       " 'RIDE ON TIME',\n",
       " 'SAS: Rise of the Black Swan',\n",
       " 'Shootout at Lokhandwala',\n",
       " 'Shor In the City',\n",
       " 'The Dirty Picture',\n",
       " 'Titletown High',\n",
       " 'EDENS ZERO',\n",
       " 'Family Reunion',\n",
       " 'Bob Ross: Happy Accidents, Betrayal & Greed',\n",
       " 'Clickbait',\n",
       " 'John of God: The Crimes of a Spiritual Healer',\n",
       " 'Motel Makeover',\n",
       " 'Open Your Eyes',\n",
       " 'Post Mortem: No One Dies in Skarnes',\n",
       " 'Really Love',\n",
       " 'The November Man',\n",
       " 'The Old Ways',\n",
       " 'The River Runner',\n",
       " 'The Water Man',\n",
       " 'Wheel of Fortune',\n",
       " 'Count Me In',\n",
       " 'Oggy Oggy',\n",
       " 'Untold: Caitlyn Jenner',\n",
       " 'Boomika',\n",
       " 'Boomika (Hindi)',\n",
       " 'Boomika (Malayalam)',\n",
       " 'Boomika (Telugu)',\n",
       " 'The Witcher: Nightmare of the Wolf',\n",
       " 'Manifest',\n",
       " 'Comedy Premium League',\n",
       " 'Everything Will Be Fine',\n",
       " 'Gunshot',\n",
       " 'Korean Cold Noodle Rhapsody',\n",
       " 'Man in Love',\n",
       " 'Sweet Girl',\n",
       " 'The Chair',\n",
       " 'The Loud House Movie',\n",
       " 'A Faraway Land',\n",
       " 'Like Crazy',\n",
       " 'Black Island',\n",
       " 'Bombay',\n",
       " 'Go! Go! Cory Carson',\n",
       " 'Memories of a Murderer: The Nilsen Tapes',\n",
       " 'Nneka The Pretty Serpent',\n",
       " 'O Kadhal Kanmani',\n",
       " 'Out of my league',\n",
       " 'Pahuna',\n",
       " 'The Defeated',\n",
       " 'The Secret Diary of an Exchange Student',\n",
       " 'Untold: Deal With the Devil',\n",
       " 'Mother Goose Club',\n",
       " 'Walk of Shame',\n",
       " 'Rascal Does Not Dream of Bunny Girl Senpai',\n",
       " 'The Creative Indians',\n",
       " 'The Piano',\n",
       " 'Unroyal',\n",
       " 'Winx Club',\n",
       " 'Beckett',\n",
       " 'Brand New Cherry Flavor',\n",
       " 'Fast & Furious Spy Racers',\n",
       " 'Gone for Good',\n",
       " 'Grace and Frankie',\n",
       " 'The Kingdom',\n",
       " 'Valeria',\n",
       " 'AlRawabi School for Girls',\n",
       " \"Lokillo: Nothing's the Same\",\n",
       " 'Monster Hunter: Legends of the Guild',\n",
       " 'Bake Squad',\n",
       " 'Brother Jekwu',\n",
       " 'La diosa del asfalto',\n",
       " 'Misha and the Wolves',\n",
       " 'The Kissing Booth 3',\n",
       " 'The Railway Man',\n",
       " \"Gabby's Dollhouse\",\n",
       " 'I Need Romance',\n",
       " 'Las muñecas de la mafia',\n",
       " 'The Crowned Clown',\n",
       " 'Untold: Malice at the Palace',\n",
       " 'SHAMAN KING',\n",
       " 'Quartet',\n",
       " 'Slay',\n",
       " 'Takizawa Kabuki ZERO 2020 The Movie',\n",
       " 'The Paper Tigers',\n",
       " 'Hit & Run',\n",
       " 'Navarasa',\n",
       " \"Quam's Money\",\n",
       " 'The Swarm',\n",
       " 'Vivo',\n",
       " 'Chennai Express',\n",
       " 'City of God: 10 Years Later',\n",
       " 'Esperando la carroza',\n",
       " 'Lady Boss: The Jackie Collins Story',\n",
       " 'Tango Feroz',\n",
       " \"'76\",\n",
       " 'Aftermath',\n",
       " 'American Masters: Inventing David Geffen',\n",
       " 'Car Masters: Rust to Riches',\n",
       " 'Cocaine Cowboys: The Kings of Miami',\n",
       " 'Control Z',\n",
       " 'Cooking With Paris',\n",
       " \"Autumn's Concerto\",\n",
       " 'Heavy',\n",
       " 'Ije: The Journey',\n",
       " 'Office Girls',\n",
       " 'Pray Away',\n",
       " 'Shiny_Flakes: The Teenage Drug Lord',\n",
       " 'The Prince Who Turns into a Frog',\n",
       " 'Top Secret UFO Projects: Declassified',\n",
       " 'Two Fathers',\n",
       " \"You're My Destiny\",\n",
       " '30 Rock',\n",
       " '44 Cats',\n",
       " 'Beethoven',\n",
       " \"Beethoven's 2nd\",\n",
       " 'Beowulf',\n",
       " 'Boyka: Undisputed',\n",
       " 'Catch Me If You Can',\n",
       " 'Cloudy with a Chance of Meatballs',\n",
       " 'Darwin’s Game',\n",
       " 'Deep Blue Sea',\n",
       " \"Ferris Bueller's Day Off\",\n",
       " 'Five Feet Apart',\n",
       " 'Freedomland',\n",
       " 'Friday Night Lights',\n",
       " 'Good Luck Chuck',\n",
       " 'Hunter X Hunter (2011)',\n",
       " \"I missed you: Director's Cut\",\n",
       " 'Inception',\n",
       " 'Magnolia',\n",
       " 'Major Payne',\n",
       " 'My Girl',\n",
       " 'My Girl 2',\n",
       " 'Open Season: Scared Silly',\n",
       " 'Pineapple Express',\n",
       " 'Planet 51',\n",
       " 'Poms',\n",
       " 'Seabiscuit',\n",
       " 'Space Cowboys',\n",
       " 'Team America: World Police',\n",
       " 'The Edge of Seventeen',\n",
       " 'The Haunting in Connecticut 2: Ghosts of Georgia',\n",
       " 'The Last Boy Scout',\n",
       " 'The Lincoln Lawyer',\n",
       " 'The Losers',\n",
       " 'The Machinist',\n",
       " 'The Net',\n",
       " 'The Original Kings of Comedy',\n",
       " \"Valentine's Day\",\n",
       " 'Charmed',\n",
       " 'The Lost Café',\n",
       " 'The Vault',\n",
       " 'Centaurworld',\n",
       " 'Eyes of a Thief',\n",
       " 'Glow Up',\n",
       " \"I'm Glad I Did\",\n",
       " 'Khawatir',\n",
       " 'Myth & Mogul: John DeLorean',\n",
       " 'Outer Banks',\n",
       " 'Pomegranates and Myrrh',\n",
       " 'Rurouni Kenshin: The Beginning',\n",
       " 'The Last Mercenary',\n",
       " 'Flower Girl',\n",
       " 'Resort to Love',\n",
       " 'Transformers: War for Cybertron: Kingdom',\n",
       " 'Bartkowiak',\n",
       " 'Fantastic Fungi',\n",
       " 'Tattoo Redo',\n",
       " 'The Flash',\n",
       " 'The Snitch Cartel: Origins',\n",
       " 'All American',\n",
       " 'Department',\n",
       " 'Hostage House',\n",
       " 'How to Sell Drugs Online (Fast)',\n",
       " 'Mighty Express',\n",
       " 'Mimi',\n",
       " 'Plastic Cup Boyz: Laughing My Mask Off!',\n",
       " 'The Operative',\n",
       " 'The Walking Dead',\n",
       " 'Wynonna Earp',\n",
       " 'Django Unchained',\n",
       " 'A Second Chance:  Rivals!',\n",
       " 'African America',\n",
       " 'Bankrolled',\n",
       " 'Blood Red Sky',\n",
       " 'Feels Like Ishq',\n",
       " 'Kingdom: Ashin of the North',\n",
       " 'Masters of the Universe: Revelation',\n",
       " 'Revelations: The Masters of the Universe: Revelation Aftershow',\n",
       " 'Sky Rojo',\n",
       " 'The Last Letter From Your Lover',\n",
       " 'The Movies That Made Us',\n",
       " '9to5: The Story of a Movement',\n",
       " 'Chhota Bheem - Dinosaur World',\n",
       " 'Chhota Bheem - Neeli Pahaadi',\n",
       " 'Chhota Bheem & Ganesh',\n",
       " 'Chhota Bheem & Krishna: Mayanagari',\n",
       " 'Chhota Bheem & Krishna: Pataliputra- City of the Dead',\n",
       " 'Chhota Bheem And The Broken Amulet',\n",
       " 'Chhota Bheem And The Crown of Valhalla',\n",
       " 'Chhota Bheem and the Incan Adventure',\n",
       " 'Chhota Bheem and The ShiNobi Secret',\n",
       " 'Chhota Bheem Aur Hanuman',\n",
       " 'Chhota Bheem aur Krishna',\n",
       " 'Chhota Bheem aur Krishna vs Zimbara',\n",
       " 'Chhota Bheem in African Safari',\n",
       " 'Chhota Bheem Ka Roosi Romanch',\n",
       " 'Chhota Bheem: Bheem vs Aliens',\n",
       " 'Chhota Bheem: Dholakpur to Kathmandu',\n",
       " 'Chhota Bheem: Dus Pe Dus',\n",
       " 'Chhota Bheem: Journey to Petra',\n",
       " 'Chhota Bheem: Master of Shaolin',\n",
       " 'Chhota Bheem: The Rise of Kirmada',\n",
       " 'Chicago Med',\n",
       " 'Cousins',\n",
       " 'Wannabe Courageous',\n",
       " 'Words Bubble Up Like Soda Pop',\n",
       " 'Sanitation Day',\n",
       " 'Sexy Beasts',\n",
       " 'Too Hot to Handle: Brazil',\n",
       " 'Trollhunters: Rise of the Titans',\n",
       " 'Milkwater',\n",
       " 'Okupas',\n",
       " 'Touch Your Heart',\n",
       " 'The Tambour of Retribution',\n",
       " 'Cosmic Sin',\n",
       " '2 Weeks in Lagos',\n",
       " 'Deep',\n",
       " 'Explained',\n",
       " 'Fear Street Part 3: 1666',\n",
       " 'Johnny Test',\n",
       " 'La ley de Herodes',\n",
       " 'Naomi Osaka',\n",
       " 'The Beguiled',\n",
       " 'The Book of Henry',\n",
       " 'The Twilight Saga: Breaking Dawn: Part 1',\n",
       " 'The Twilight Saga: Breaking Dawn: Part 2',\n",
       " 'The Twilight Saga: Eclipse',\n",
       " 'The Twilight Saga: New Moon',\n",
       " 'Twilight',\n",
       " 'A Perfect Fit',\n",
       " 'BEASTARS',\n",
       " \"Cheech & Chong's Still Smokin\",\n",
       " 'Emicida: AmarElo - Live in São Paulo',\n",
       " 'Her Private Life',\n",
       " 'Lift Like a Girl',\n",
       " 'My Amanda',\n",
       " 'Never Have I Ever',\n",
       " \"Surf's Up\",\n",
       " 'The Unknown Saint',\n",
       " 'This Changes Everything',\n",
       " 'A Classic Horror Story',\n",
       " 'Gunpowder Milkshake',\n",
       " 'Heist',\n",
       " 'My Unorthodox Life',\n",
       " 'Private Network: Who Killed Manuel Buendía?',\n",
       " 'The Guide to the Perfect Family',\n",
       " 'American Woman',\n",
       " 'Bridgerton - The Afterparty',\n",
       " 'Day of Destiny',\n",
       " 'Ridley Jones',\n",
       " 'Born to Play',\n",
       " 'American Ultra',\n",
       " 'The Stand-Up',\n",
       " 'The Tour',\n",
       " 'Atypical',\n",
       " 'Biohackers',\n",
       " 'Fear Street Part 2: 1978',\n",
       " 'Finding Hubby',\n",
       " 'How I Became a Superhero',\n",
       " 'How to Become a Tyrant',\n",
       " 'Last Summer',\n",
       " 'Lee Su-geun: The Sense Coach',\n",
       " 'Lethal Love',\n",
       " 'Ratchet and Clank',\n",
       " 'The Cook of Castamar',\n",
       " 'Virgin River',\n",
       " 'Back to Q82',\n",
       " 'Elize Matsunaga: Once Upon a Crime',\n",
       " 'Home Again',\n",
       " 'Midnight Sun',\n",
       " 'RESIDENT EVIL: Infinite Darkness',\n",
       " 'Rock the Kasbah',\n",
       " 'Awon Boyz',\n",
       " 'Brick Mansions',\n",
       " 'Cat People',\n",
       " 'Clash',\n",
       " 'Dogs',\n",
       " 'Major Grom: Plague Doctor',\n",
       " 'Mama Drama',\n",
       " 'Tango With Me',\n",
       " 'The Mire',\n",
       " 'The War Next-door',\n",
       " 'Therapy',\n",
       " 'This Little Love Of Mine',\n",
       " 'Three Thieves',\n",
       " 'A Land Imagined',\n",
       " 'Ask the StoryBots',\n",
       " 'Between',\n",
       " 'Chelsea',\n",
       " 'Code Lyoko',\n",
       " 'Colony',\n",
       " 'Cuckoo',\n",
       " 'Derry Girls',\n",
       " 'Girl from Nowhere',\n",
       " 'Good Morning Call',\n",
       " 'Har Kisse Ke Hisse: Kaamyaab',\n",
       " 'I AM A KILLER',\n",
       " 'I Think You Should Leave with Tim Robinson',\n",
       " \"Kim's Convenience\",\n",
       " 'Larva',\n",
       " 'Marcella',\n",
       " 'Midnight Diner: Tokyo Stories',\n",
       " 'My Little Pony: Friendship Is Magic',\n",
       " 'Orange Is the New Black',\n",
       " 'Puffin Rock',\n",
       " 'Rehmataan',\n",
       " 'Return of the Prodigal Son',\n",
       " 'Richie Rich',\n",
       " 'Rise: Ini Kalilah',\n",
       " 'Scream',\n",
       " 'Shtisel',\n",
       " 'Si Doel the Movie 2',\n",
       " 'Some Assembly Required',\n",
       " 'Tales by Light',\n",
       " 'Terrace House: Opening New Doors',\n",
       " 'The A List',\n",
       " 'The New Legends of Monkey',\n",
       " 'The Worst Witch',\n",
       " 'Truckbhar Swapna',\n",
       " 'Ujala',\n",
       " 'Undercover',\n",
       " \"Workin' Moms\",\n",
       " 'YooHoo to the Rescue',\n",
       " 'You Are My Spring',\n",
       " 'We the People',\n",
       " \"Grey's Anatomy\",\n",
       " 'Big Timber',\n",
       " 'Fear Street Part 1: 1994',\n",
       " 'Haseen Dillruba',\n",
       " 'Holiday on Mars',\n",
       " 'Mortel',\n",
       " 'RattleSnake - The Ahanna Story',\n",
       " 'Snowpiercer',\n",
       " 'The 8th Night',\n",
       " 'Winchester',\n",
       " '6 Bullets',\n",
       " 'Air Force One',\n",
       " 'Audible',\n",
       " 'Austin Powers in Goldmember',\n",
       " 'Austin Powers: International Man of Mystery',\n",
       " 'Austin Powers: The Spy Who Shagged Me',\n",
       " 'Boogie Nights',\n",
       " 'Bureau of Magical Things',\n",
       " \"Charlie's Angels\",\n",
       " 'Congo',\n",
       " 'Dennis the Menace',\n",
       " 'Dreamy Eyes',\n",
       " 'Dynasty Warriors',\n",
       " 'Generation 56k',\n",
       " 'Hampstead',\n",
       " 'Kung Fu Panda',\n",
       " 'Kung Fu Panda 2',\n",
       " 'Life as We Know It',\n",
       " 'Mary Magdalene',\n",
       " 'Masameer County',\n",
       " 'Memoirs of a Geisha',\n",
       " 'Midnight Run',\n",
       " 'Mobile Suit Gundam Hathaway',\n",
       " 'Mortal Kombat',\n",
       " \"Mother's Day\",\n",
       " 'No Strings Attached',\n",
       " 'Not Another Teen Movie',\n",
       " 'Ophelia',\n",
       " 'Pet Sematary 2',\n",
       " 'Quarantine Tales',\n",
       " 'Rainbow Rangers',\n",
       " 'Red Joan',\n",
       " 'Sailor Moon Crystal',\n",
       " 'Seven Pounds',\n",
       " \"She's Out of My League\",\n",
       " 'Snow Day',\n",
       " 'Star Trek',\n",
       " 'Stuart Little',\n",
       " 'Sword of Trust',\n",
       " 'Talladega Nights: The Ballad of Ricky Bobby',\n",
       " 'The American',\n",
       " 'The Best of Enemies',\n",
       " 'The Game',\n",
       " 'The Karate Kid',\n",
       " 'The Karate Kid Part II',\n",
       " 'The Karate Kid Part III',\n",
       " 'The Life of David Gale',\n",
       " 'The Long Riders',\n",
       " 'The Queen',\n",
       " 'The Strangers',\n",
       " 'The Sum of All Fears',\n",
       " 'The Tourist',\n",
       " 'Underworld',\n",
       " 'Underworld: Awakening',\n",
       " 'Underworld: Rise of the Lycans',\n",
       " 'Voiceless',\n",
       " 'What Dreams May Come',\n",
       " 'Why Do Fools Fall in Love',\n",
       " 'Working Title',\n",
       " 'Young Royals',\n",
       " 'America: The Motion Picture',\n",
       " 'Deranged',\n",
       " \"Droppin' Cash: Los Angeles\",\n",
       " 'Legend\\xa0of\\xa0Exorcism',\n",
       " 'Lying and Stealing',\n",
       " 'Mommy Issues',\n",
       " 'Prime Time',\n",
       " 'Somos.',\n",
       " 'Sophie: A Murder in West Cork',\n",
       " 'The Daily Life of the Immortal King',\n",
       " 'StarBeam',\n",
       " 'A Way Back Home',\n",
       " 'Killing Them Softly',\n",
       " 'The Seven Deadly Sins',\n",
       " 'Wanted',\n",
       " 'Into the Wind',\n",
       " 'Wonder Boy',\n",
       " 'Here Comes the Rain',\n",
       " 'The Ice Road',\n",
       " 'Ray',\n",
       " 'Sex/Life',\n",
       " 'Godzilla Singular Point',\n",
       " 'Jiva!',\n",
       " 'Sisters on Track',\n",
       " 'The Naked Director',\n",
       " 'The Seventh Day',\n",
       " 'Good on Paper',\n",
       " 'Murder by the Coast',\n",
       " 'The House of Flowers: The Movie',\n",
       " 'The Parisian Agency: Exclusive Properties',\n",
       " 'Too Hot to Handle',\n",
       " 'Broken',\n",
       " 'O Vendedor de Sonhos',\n",
       " 'Osuofia in London',\n",
       " 'Osuofia in London II',\n",
       " 'This Is Pop',\n",
       " '#Selfie',\n",
       " '#Selfie 69',\n",
       " 'Love Is a Story',\n",
       " 'The Mole',\n",
       " 'Nevertheless,',\n",
       " 'Bangkok Love Stories: Innocence',\n",
       " 'Black Lightning',\n",
       " 'Call My Agent!',\n",
       " 'Champions',\n",
       " 'Charité at War',\n",
       " 'Cleo & Cuquin',\n",
       " 'Deadwind',\n",
       " 'Gameboys Level-Up Edition',\n",
       " 'Glee',\n",
       " 'Hap and Leonard',\n",
       " 'Locked Up',\n",
       " 'Mobile Suit Gundam II: Soldiers of Sorrow',\n",
       " 'Mobile Suit Gundam III: Encounters in Space',\n",
       " \"Mobile Suit Gundam: Char's Counterattack\",\n",
       " 'No Time for Shame',\n",
       " 'Pose',\n",
       " 'REA(L)OVE',\n",
       " 'Riverdale',\n",
       " \"Schitt's Creek\",\n",
       " 'The Assassination of Gianni Versace',\n",
       " 'The Judgement',\n",
       " 'The Last Dance',\n",
       " \"They've Gotta Have Us\",\n",
       " 'Why Are You Like This',\n",
       " 'A Family',\n",
       " 'Elite',\n",
       " 'Fatherhood',\n",
       " 'Hospital Playlist',\n",
       " 'Jagame Thandhiram',\n",
       " 'Kambili: The Whole 30 Yards',\n",
       " 'Mobile Suit Gundam I',\n",
       " 'Rurouni Kenshin: The Final',\n",
       " 'So Not Worth It',\n",
       " 'The Rational Life',\n",
       " 'Ali & Ratu Ratu Queens',\n",
       " 'Aziza',\n",
       " 'Besieged Bread',\n",
       " 'Black Summer',\n",
       " 'Elite Short Stories: Carla Samuel',\n",
       " 'Fan Girl',\n",
       " 'Katla',\n",
       " 'Record of Ragnarok',\n",
       " 'Red Snow',\n",
       " 'Silver Linings Playbook',\n",
       " 'The Gift',\n",
       " 'A Man For The Week End',\n",
       " 'Biking Borders',\n",
       " 'Elite Short Stories: Omar Ander Alexis',\n",
       " \"Let's Eat\",\n",
       " 'Lowriders',\n",
       " 'Millennials',\n",
       " 'Penguin Town',\n",
       " 'Security',\n",
       " 'Silver Skates',\n",
       " 'Avengers Climate Conundrum',\n",
       " 'Beyond Evil',\n",
       " 'Elite Short Stories: Nadia Guzmán',\n",
       " 'FTA',\n",
       " 'Headspace: Unwind Your Mind',\n",
       " 'Life of Crime',\n",
       " 'Power Rangers Dino Fury',\n",
       " 'Rhyme Time Town',\n",
       " 'Rogue Warfare: Death of a Nation',\n",
       " 'Sir! No Sir!',\n",
       " 'The American Bible Challenge',\n",
       " 'The Reason I Jump',\n",
       " 'Elite Short Stories: Guzmán Caye Rebe',\n",
       " 'Metallica: Some Kind of Monster',\n",
       " 'Picture a Scientist',\n",
       " 'The Devil Below',\n",
       " 'Bling Empire - The Afterparty',\n",
       " 'Cobra Kai - The Afterparty',\n",
       " 'Love (ft. Marriage and Divorce)',\n",
       " 'To All the Boys: Always and Forever - The Afterparty',\n",
       " 'LEGO Friends: The Power of Friendship',\n",
       " 'Lupin',\n",
       " 'Sarbath',\n",
       " 'Skater Girl',\n",
       " 'Trese',\n",
       " 'Trese After Dark',\n",
       " 'Wish Dragon',\n",
       " 'A Haunted House 2',\n",
       " 'Blind Intersections',\n",
       " 'Camellia Sisters',\n",
       " 'Copenhagen',\n",
       " 'Locombianos',\n",
       " 'Until Midnight',\n",
       " 'Awake',\n",
       " 'Confusion Na Wa',\n",
       " 'Fresh, Fried & Crispy',\n",
       " 'L.A.’s Finest',\n",
       " 'Tragic Jungle',\n",
       " 'Guru Aur Bhole',\n",
       " 'Vampire Academy',\n",
       " 'Newly Rich, Newly Poor',\n",
       " 'A Private War',\n",
       " 'Kitty Love: An Homage to Cats',\n",
       " 'Small Chops',\n",
       " 'Breaking Boundaries: The Science Of Our Planet',\n",
       " 'Feel Good',\n",
       " 'Fireplace 4K: Classic Crackling Fireplace from Fireplace for Your Home',\n",
       " 'Fireplace 4K: Crackling Birchwood from Fireplace for Your Home',\n",
       " 'Human: The World Within',\n",
       " 'Sweet & Sour',\n",
       " 'Sweet Tooth',\n",
       " \"Trippin' with the Kandasamys\",\n",
       " 'Xtreme',\n",
       " 'Alan Saldaña: Locked Up',\n",
       " \"Creator's File: GOLD\",\n",
       " 'Dancing Queens',\n",
       " 'From Stress to Happiness',\n",
       " 'Myriam Fares: The Journey',\n",
       " 'Pretty Guardian Sailor Moon Eternal The Movie',\n",
       " 'Summertime',\n",
       " 'The Girl and the Gun',\n",
       " '2 Hearts',\n",
       " 'A Perfect Ending',\n",
       " 'American Outlaws',\n",
       " 'And Then Came Lola',\n",
       " 'Attack on Titan',\n",
       " 'Battlefield Earth',\n",
       " \"Ben & Holly's Little Kingdom\",\n",
       " 'Black Holes | The Edge of All We Know',\n",
       " 'Bliss',\n",
       " 'Carnaval',\n",
       " 'Cloudburst',\n",
       " 'Cocomelon',\n",
       " 'Company of Heroes',\n",
       " 'Cradle 2 the Grave',\n",
       " 'Domestic Disturbance',\n",
       " 'Downton Abbey',\n",
       " 'Dream/Killer',\n",
       " 'Felon',\n",
       " 'Flipped',\n",
       " 'Fools Rush In',\n",
       " 'Gold Statue',\n",
       " 'Happy Endings',\n",
       " 'Hostel: Part III',\n",
       " 'I Am Sam',\n",
       " 'Love Jones',\n",
       " 'Million Dollar Baby',\n",
       " 'Mosquita y Mari',\n",
       " 'Never Back Down 2: The Beatdown',\n",
       " 'Ninja Assassin',\n",
       " 'Ouran High School Host Club',\n",
       " 'Population 436',\n",
       " 'Racket Boys',\n",
       " 'Seven Souls in the Skull Castle: Season Moon Jogen',\n",
       " 'Seven Souls in the Skull Castle: Season Moon Kagen',\n",
       " 'Sniper: Legacy',\n",
       " 'Starsky & Hutch',\n",
       " 'Streets of Fire',\n",
       " 'Super Monsters: Once Upon a Rhyme',\n",
       " 'Swordfish',\n",
       " 'The Adventures of Sonic the Hedgehog',\n",
       " 'The Four Seasons',\n",
       " 'The Girl King',\n",
       " 'The Interpreter',\n",
       " 'The Meddler',\n",
       " 'The Mirror Has Two Faces',\n",
       " 'The Outlaw Josey Wales',\n",
       " 'The Platform',\n",
       " 'The Wedding Guest',\n",
       " 'The Wind',\n",
       " 'Then Came You',\n",
       " 'Welcome Home',\n",
       " 'Dirty John',\n",
       " 'Bo Burnham: Inside',\n",
       " 'One Lagos Night',\n",
       " 'Collateral Beauty',\n",
       " 'Dog Gone Trouble',\n",
       " 'The Kominsky Method',\n",
       " 'The Least Expected Day: Inside the Movistar Team 2019',\n",
       " 'Word of Honor',\n",
       " 'Black Space',\n",
       " 'Blue Miracle',\n",
       " 'Eden',\n",
       " 'Ghost Lab',\n",
       " 'Ragnarok',\n",
       " 'Soy Rada: Serendipity',\n",
       " 'The Day I lost My Shadow',\n",
       " 'Baggio: The Divine Ponytail',\n",
       " 'Gatao - The Last Stray',\n",
       " 'High on the Hog: How African American Cuisine Transformed America',\n",
       " \"JoJo's Bizarre Adventure\",\n",
       " 'Nail Bomber: Manhunt',\n",
       " 'A Place in the Stars',\n",
       " 'Home',\n",
       " 'Mad for Each Other',\n",
       " 'Master of None',\n",
       " 'Sam Smith: Love Goes - Live at Abbey Road Studios',\n",
       " '99 Songs',\n",
       " '99 Songs (Tamil)',\n",
       " '99 Songs (Telugu)',\n",
       " 'Army of the Dead',\n",
       " 'Creating an Army of the Dead',\n",
       " 'Jurassic World Camp Cretaceous',\n",
       " 'Strain',\n",
       " 'The Neighbor',\n",
       " '678',\n",
       " 'Asmaa',\n",
       " 'Hating Peter Tatchell',\n",
       " 'Little Singham Future mein Satakli',\n",
       " 'Special',\n",
       " 'Spy Kids: All the Time in the World',\n",
       " 'Taxi No. 9211',\n",
       " 'Sabotage',\n",
       " 'Small Town Crime',\n",
       " 'The Last Days',\n",
       " 'The Magic School Bus',\n",
       " 'Who Killed Sara?',\n",
       " 'Amy Tan: Unintended Memoir',\n",
       " 'Sardar Ka Grandson',\n",
       " 'Sleight',\n",
       " 'Ahaan',\n",
       " 'Booba: Food Puzzle',\n",
       " 'Love or Money',\n",
       " 'Alma Matters',\n",
       " 'Cinema Bandi',\n",
       " 'Ferry',\n",
       " 'Halston',\n",
       " 'Haunted',\n",
       " 'I Am All Girls',\n",
       " 'Jungle Beat: The Movie',\n",
       " 'Love, Death & Robots',\n",
       " 'Move to Heaven',\n",
       " 'Table Manners',\n",
       " 'The Mystic River',\n",
       " 'The Strange House',\n",
       " 'The Upshaws - The Afterparty',\n",
       " 'The Woman in the Window',\n",
       " 'Castlevania',\n",
       " 'Layer Cake',\n",
       " 'Tottaa Pataaka Item Maal',\n",
       " 'Wave of Cinema: Filosofi Kopi',\n",
       " 'Dance of the Forty One',\n",
       " 'Oxygen',\n",
       " 'The Upshaws',\n",
       " 'Use For My Talent',\n",
       " 'Dear Affy',\n",
       " 'Illegal Woman',\n",
       " 'Money, Explained',\n",
       " 'Deadly Switch',\n",
       " 'Mine',\n",
       " 'Nayattu',\n",
       " 'Sleepless',\n",
       " 'Super Me',\n",
       " 'Have You Ever Seen Fireflies? - Theatre Play',\n",
       " \"In Our Mothers' Gardens\",\n",
       " \"Jupiter's Legacy\",\n",
       " 'Milestone',\n",
       " 'Monster',\n",
       " 'Sab Jholmaal Hai',\n",
       " 'The Circle - The Afterparty',\n",
       " 'Time to Dance',\n",
       " 'Unrest',\n",
       " 'And Tomorrow the Entire World',\n",
       " 'Dead Man Down',\n",
       " 'Framing John DeLorean',\n",
       " 'Lava Ka Dhaava',\n",
       " 'The Sons of Sam: A Descent into Darkness',\n",
       " 'Selena: The Series',\n",
       " 'StartUp',\n",
       " 'The Clovehitch Killer',\n",
       " 'Trash Truck',\n",
       " 'Aliens Stole My Body',\n",
       " 'Angelina Ballerina',\n",
       " 'Au coeur des gangs',\n",
       " 'Barney and Friends',\n",
       " 'Best of the Best',\n",
       " 'Dead Again in Tombstone',\n",
       " 'Due Date',\n",
       " 'Fun with Dick & Jane',\n",
       " 'Green Zone',\n",
       " \"Hachi: A Dog's Tale\",\n",
       " 'JT LeRoy',\n",
       " \"Madagascar 3: Europe's Most Wanted\",\n",
       " 'Miniforce: Super Dino Power',\n",
       " \"Motu Patlu in Dragon's World\",\n",
       " 'Motu Patlu in the Game of Zones',\n",
       " 'Motu Patlu in Wonderland',\n",
       " 'Motu Patlu: Deep Sea Adventure',\n",
       " 'Motu Patlu: Mission Moon',\n",
       " 'Mystic River',\n",
       " 'Never Back Down',\n",
       " 'S.M.A.R.T Chase',\n",
       " 'Sitting in Limbo',\n",
       " 'Stargate',\n",
       " 'State of Play',\n",
       " 'Swiped',\n",
       " 'The Darkest Hour',\n",
       " 'The Lovely Bones',\n",
       " 'The Sweetest Thing',\n",
       " 'The Whole Nine Yards',\n",
       " 'The Whole Truth',\n",
       " 'The Yeti Adventures',\n",
       " 'Under Siege',\n",
       " 'Zack and Miri Make a Porno',\n",
       " 'Pet Stars',\n",
       " 'Seven',\n",
       " 'The Disciple',\n",
       " 'The Innocent',\n",
       " 'The Mitchells vs. The Machines',\n",
       " 'The Strangers: Prey at Night',\n",
       " 'The Unremarkable Juanquini',\n",
       " 'Things Heard & Seen',\n",
       " 'Yasuke',\n",
       " 'Get the Grift',\n",
       " 'Headspace Guide to Sleep',\n",
       " 'Sexify',\n",
       " 'August: Osage County',\n",
       " 'Battle: Los Angeles',\n",
       " 'Between Worlds',\n",
       " 'Fatma',\n",
       " 'One',\n",
       " 'Ram Prasad Ki Tehrvi',\n",
       " 'Shadow and Bone - The Afterparty',\n",
       " 'Among Family',\n",
       " 'Dedemin Fisi',\n",
       " 'Deliha',\n",
       " 'Düğün Dernek',\n",
       " 'Dügün Dernek 2: Sünnet',\n",
       " 'G.O.R.A',\n",
       " 'Hayat Öpücügü',\n",
       " 'Heroes: Silence and Rock & Roll',\n",
       " 'Kara Bela',\n",
       " 'Kocan Kadar Konus',\n",
       " 'Kocan Kadar Konus 2: Dirilis',\n",
       " 'Legal Hash',\n",
       " \"Let's Fight Ghost\",\n",
       " 'My Travel Buddy',\n",
       " 'Niyazi Gül Dörtnala',\n",
       " 'One Like It',\n",
       " 'Perfume Imaginary Museum “Time Warp”',\n",
       " 'Shadow and Bone',\n",
       " 'This Lady Called Life',\n",
       " 'Vizontele',\n",
       " 'HOMUNCULUS',\n",
       " 'Life in Color with David Attenborough',\n",
       " 'Searching For Sheela',\n",
       " 'Stowaway',\n",
       " ...]"
      ]
     },
     "execution_count": 44,
     "metadata": {},
     "output_type": "execute_result"
    }
   ],
   "source": [
    "programme_list=df['title'].to_list()\n",
    "programme_list"
   ]
  },
  {
   "cell_type": "markdown",
   "metadata": {},
   "source": [
    "membuat fungsi baru bernama reccomend "
   ]
  },
  {
   "cell_type": "code",
   "execution_count": 45,
   "metadata": {},
   "outputs": [],
   "source": [
    "def recommend(title, cosine_similarity=cosine_sim): # membuat fungsi dengan 2 parameter title (Judul film yang ingin direkomendasikan), cosine_similarity (cosine similarity antar film)\n",
    "    index = programme_list.index(title)\n",
    "    sim_score = list(enumerate(cosine_sim[index]))\n",
    "    sim_score = sorted(sim_score, key= lambda x: x[1], reverse=True)[1:11] \n",
    "    recommend_index = [i[0] for i in sim_score]\n",
    "    rec_movie = df['title'].iloc[recommend_index]\n",
    "    rec_score = [round(i[1],4) for i in sim_score]\n",
    "    rec_table = pd.DataFrame(list(zip(rec_movie,rec_score)), columns=['Recommend','Similarity(0-1)'])\n",
    "    return rec_table"
   ]
  },
  {
   "cell_type": "markdown",
   "metadata": {},
   "source": [
    "pengujian model"
   ]
  },
  {
   "cell_type": "code",
   "execution_count": 46,
   "metadata": {},
   "outputs": [
    {
     "data": {
      "text/html": [
       "<div>\n",
       "<style scoped>\n",
       "    .dataframe tbody tr th:only-of-type {\n",
       "        vertical-align: middle;\n",
       "    }\n",
       "\n",
       "    .dataframe tbody tr th {\n",
       "        vertical-align: top;\n",
       "    }\n",
       "\n",
       "    .dataframe thead th {\n",
       "        text-align: right;\n",
       "    }\n",
       "</style>\n",
       "<table border=\"1\" class=\"dataframe\">\n",
       "  <thead>\n",
       "    <tr style=\"text-align: right;\">\n",
       "      <th></th>\n",
       "      <th>Recommend</th>\n",
       "      <th>Similarity(0-1)</th>\n",
       "    </tr>\n",
       "  </thead>\n",
       "  <tbody>\n",
       "    <tr>\n",
       "      <th>0</th>\n",
       "      <td>The Least Expected Day: Inside the Movistar Te...</td>\n",
       "      <td>0.1629</td>\n",
       "    </tr>\n",
       "    <tr>\n",
       "      <th>1</th>\n",
       "      <td>Accomplice</td>\n",
       "      <td>0.1383</td>\n",
       "    </tr>\n",
       "    <tr>\n",
       "      <th>2</th>\n",
       "      <td>Pedal the World</td>\n",
       "      <td>0.1272</td>\n",
       "    </tr>\n",
       "    <tr>\n",
       "      <th>3</th>\n",
       "      <td>A Flying Jatt</td>\n",
       "      <td>0.0685</td>\n",
       "    </tr>\n",
       "    <tr>\n",
       "      <th>4</th>\n",
       "      <td>Isa Pa with Feelings</td>\n",
       "      <td>0.0534</td>\n",
       "    </tr>\n",
       "    <tr>\n",
       "      <th>5</th>\n",
       "      <td>My Mister</td>\n",
       "      <td>0.0530</td>\n",
       "    </tr>\n",
       "    <tr>\n",
       "      <th>6</th>\n",
       "      <td>Daughter From Another Mother</td>\n",
       "      <td>0.0515</td>\n",
       "    </tr>\n",
       "    <tr>\n",
       "      <th>7</th>\n",
       "      <td>Hasmukh</td>\n",
       "      <td>0.0509</td>\n",
       "    </tr>\n",
       "    <tr>\n",
       "      <th>8</th>\n",
       "      <td>She</td>\n",
       "      <td>0.0498</td>\n",
       "    </tr>\n",
       "    <tr>\n",
       "      <th>9</th>\n",
       "      <td>I Don't Feel at Home in This World Anymore</td>\n",
       "      <td>0.0474</td>\n",
       "    </tr>\n",
       "  </tbody>\n",
       "</table>\n",
       "</div>"
      ],
      "text/plain": [
       "                                           Recommend  Similarity(0-1)\n",
       "0  The Least Expected Day: Inside the Movistar Te...           0.1629\n",
       "1                                         Accomplice           0.1383\n",
       "2                                    Pedal the World           0.1272\n",
       "3                                      A Flying Jatt           0.0685\n",
       "4                               Isa Pa with Feelings           0.0534\n",
       "5                                          My Mister           0.0530\n",
       "6                       Daughter From Another Mother           0.0515\n",
       "7                                            Hasmukh           0.0509\n",
       "8                                                She           0.0498\n",
       "9         I Don't Feel at Home in This World Anymore           0.0474"
      ]
     },
     "execution_count": 46,
     "metadata": {},
     "output_type": "execute_result"
    }
   ],
   "source": [
    "recommend('Yowamushi Pedal')"
   ]
  },
  {
   "cell_type": "code",
   "execution_count": 47,
   "metadata": {},
   "outputs": [
    {
     "data": {
      "text/html": [
       "<div>\n",
       "<style scoped>\n",
       "    .dataframe tbody tr th:only-of-type {\n",
       "        vertical-align: middle;\n",
       "    }\n",
       "\n",
       "    .dataframe tbody tr th {\n",
       "        vertical-align: top;\n",
       "    }\n",
       "\n",
       "    .dataframe thead th {\n",
       "        text-align: right;\n",
       "    }\n",
       "</style>\n",
       "<table border=\"1\" class=\"dataframe\">\n",
       "  <thead>\n",
       "    <tr style=\"text-align: right;\">\n",
       "      <th></th>\n",
       "      <th>Recommend</th>\n",
       "      <th>Similarity(0-1)</th>\n",
       "    </tr>\n",
       "  </thead>\n",
       "  <tbody>\n",
       "    <tr>\n",
       "      <th>0</th>\n",
       "      <td>Indiana Jones and the Temple of Doom</td>\n",
       "      <td>0.2204</td>\n",
       "    </tr>\n",
       "    <tr>\n",
       "      <th>1</th>\n",
       "      <td>Indiana Jones and the Raiders of the Lost Ark</td>\n",
       "      <td>0.1975</td>\n",
       "    </tr>\n",
       "    <tr>\n",
       "      <th>2</th>\n",
       "      <td>Cradle 2 the Grave</td>\n",
       "      <td>0.1860</td>\n",
       "    </tr>\n",
       "    <tr>\n",
       "      <th>3</th>\n",
       "      <td>Monty Python and the Holy Grail</td>\n",
       "      <td>0.1789</td>\n",
       "    </tr>\n",
       "    <tr>\n",
       "      <th>4</th>\n",
       "      <td>Painted Faces</td>\n",
       "      <td>0.1593</td>\n",
       "    </tr>\n",
       "    <tr>\n",
       "      <th>5</th>\n",
       "      <td>Indiana Jones and the Kingdom of the Crystal S...</td>\n",
       "      <td>0.1529</td>\n",
       "    </tr>\n",
       "    <tr>\n",
       "      <th>6</th>\n",
       "      <td>Pajanimals</td>\n",
       "      <td>0.1458</td>\n",
       "    </tr>\n",
       "    <tr>\n",
       "      <th>7</th>\n",
       "      <td>The Signal</td>\n",
       "      <td>0.1271</td>\n",
       "    </tr>\n",
       "    <tr>\n",
       "      <th>8</th>\n",
       "      <td>Django Unchained</td>\n",
       "      <td>0.1228</td>\n",
       "    </tr>\n",
       "    <tr>\n",
       "      <th>9</th>\n",
       "      <td>Green Zone</td>\n",
       "      <td>0.1191</td>\n",
       "    </tr>\n",
       "  </tbody>\n",
       "</table>\n",
       "</div>"
      ],
      "text/plain": [
       "                                           Recommend  Similarity(0-1)\n",
       "0               Indiana Jones and the Temple of Doom           0.2204\n",
       "1      Indiana Jones and the Raiders of the Lost Ark           0.1975\n",
       "2                                 Cradle 2 the Grave           0.1860\n",
       "3                    Monty Python and the Holy Grail           0.1789\n",
       "4                                      Painted Faces           0.1593\n",
       "5  Indiana Jones and the Kingdom of the Crystal S...           0.1529\n",
       "6                                         Pajanimals           0.1458\n",
       "7                                         The Signal           0.1271\n",
       "8                                   Django Unchained           0.1228\n",
       "9                                         Green Zone           0.1191"
      ]
     },
     "execution_count": 47,
     "metadata": {},
     "output_type": "execute_result"
    }
   ],
   "source": [
    "recommend('Indiana Jones and the Last Crusade')"
   ]
  },
  {
   "cell_type": "code",
   "execution_count": 48,
   "metadata": {},
   "outputs": [
    {
     "data": {
      "text/html": [
       "<div>\n",
       "<style scoped>\n",
       "    .dataframe tbody tr th:only-of-type {\n",
       "        vertical-align: middle;\n",
       "    }\n",
       "\n",
       "    .dataframe tbody tr th {\n",
       "        vertical-align: top;\n",
       "    }\n",
       "\n",
       "    .dataframe thead th {\n",
       "        text-align: right;\n",
       "    }\n",
       "</style>\n",
       "<table border=\"1\" class=\"dataframe\">\n",
       "  <thead>\n",
       "    <tr style=\"text-align: right;\">\n",
       "      <th></th>\n",
       "      <th>Recommend</th>\n",
       "      <th>Similarity(0-1)</th>\n",
       "    </tr>\n",
       "  </thead>\n",
       "  <tbody>\n",
       "    <tr>\n",
       "      <th>0</th>\n",
       "      <td>Naruto Shippuden : Blood Prison</td>\n",
       "      <td>0.9999</td>\n",
       "    </tr>\n",
       "    <tr>\n",
       "      <th>1</th>\n",
       "      <td>Naruto Shippuden: The Movie: The Lost Tower</td>\n",
       "      <td>0.3182</td>\n",
       "    </tr>\n",
       "    <tr>\n",
       "      <th>2</th>\n",
       "      <td>Naruto Shippûden the Movie: The Will of Fire</td>\n",
       "      <td>0.1896</td>\n",
       "    </tr>\n",
       "    <tr>\n",
       "      <th>3</th>\n",
       "      <td>Ghost Pain</td>\n",
       "      <td>0.1301</td>\n",
       "    </tr>\n",
       "    <tr>\n",
       "      <th>4</th>\n",
       "      <td>Naruto Shippuden: The Movie</td>\n",
       "      <td>0.1296</td>\n",
       "    </tr>\n",
       "    <tr>\n",
       "      <th>5</th>\n",
       "      <td>Tremors 4: The Legend Begins</td>\n",
       "      <td>0.1252</td>\n",
       "    </tr>\n",
       "    <tr>\n",
       "      <th>6</th>\n",
       "      <td>InuYasha the Movie: Affections Touching Across...</td>\n",
       "      <td>0.0966</td>\n",
       "    </tr>\n",
       "    <tr>\n",
       "      <th>7</th>\n",
       "      <td>Den of Thieves</td>\n",
       "      <td>0.0936</td>\n",
       "    </tr>\n",
       "    <tr>\n",
       "      <th>8</th>\n",
       "      <td>Deuces</td>\n",
       "      <td>0.0890</td>\n",
       "    </tr>\n",
       "    <tr>\n",
       "      <th>9</th>\n",
       "      <td>The Seven Deadly Sins the Movie: Prisoners of ...</td>\n",
       "      <td>0.0752</td>\n",
       "    </tr>\n",
       "  </tbody>\n",
       "</table>\n",
       "</div>"
      ],
      "text/plain": [
       "                                           Recommend  Similarity(0-1)\n",
       "0                    Naruto Shippuden : Blood Prison           0.9999\n",
       "1        Naruto Shippuden: The Movie: The Lost Tower           0.3182\n",
       "2       Naruto Shippûden the Movie: The Will of Fire           0.1896\n",
       "3                                         Ghost Pain           0.1301\n",
       "4                        Naruto Shippuden: The Movie           0.1296\n",
       "5                       Tremors 4: The Legend Begins           0.1252\n",
       "6  InuYasha the Movie: Affections Touching Across...           0.0966\n",
       "7                                     Den of Thieves           0.0936\n",
       "8                                             Deuces           0.0890\n",
       "9  The Seven Deadly Sins the Movie: Prisoners of ...           0.0752"
      ]
     },
     "execution_count": 48,
     "metadata": {},
     "output_type": "execute_result"
    }
   ],
   "source": [
    "recommend('Naruto Shippuden the Movie: Blood Prison')"
   ]
  },
  {
   "cell_type": "code",
   "execution_count": 49,
   "metadata": {},
   "outputs": [],
   "source": [
    "pickle.dump(df,open('netflix.pkl', 'wb'))"
   ]
  },
  {
   "cell_type": "code",
   "execution_count": 50,
   "metadata": {},
   "outputs": [],
   "source": [
    "pickle.dump(cosine_sim,open('cosine_sim.pkl', 'wb'))"
   ]
  },
  {
   "cell_type": "code",
   "execution_count": 51,
   "metadata": {},
   "outputs": [
    {
     "data": {
      "text/html": [
       "<div>\n",
       "<style scoped>\n",
       "    .dataframe tbody tr th:only-of-type {\n",
       "        vertical-align: middle;\n",
       "    }\n",
       "\n",
       "    .dataframe tbody tr th {\n",
       "        vertical-align: top;\n",
       "    }\n",
       "\n",
       "    .dataframe thead th {\n",
       "        text-align: right;\n",
       "    }\n",
       "</style>\n",
       "<table border=\"1\" class=\"dataframe\">\n",
       "  <thead>\n",
       "    <tr style=\"text-align: right;\">\n",
       "      <th></th>\n",
       "      <th>show_id</th>\n",
       "      <th>type</th>\n",
       "      <th>title</th>\n",
       "      <th>director</th>\n",
       "      <th>cast</th>\n",
       "      <th>country</th>\n",
       "      <th>date_added</th>\n",
       "      <th>release_year</th>\n",
       "      <th>rating</th>\n",
       "      <th>duration</th>\n",
       "      <th>listed_in</th>\n",
       "      <th>description</th>\n",
       "    </tr>\n",
       "  </thead>\n",
       "  <tbody>\n",
       "    <tr>\n",
       "      <th>0</th>\n",
       "      <td>s1</td>\n",
       "      <td>Movie</td>\n",
       "      <td>Dick Johnson Is Dead</td>\n",
       "      <td>Kirsten Johnson</td>\n",
       "      <td>David Attenborough</td>\n",
       "      <td>United States</td>\n",
       "      <td>2021-09-25</td>\n",
       "      <td>2020</td>\n",
       "      <td>PG-13</td>\n",
       "      <td>90 min</td>\n",
       "      <td>Documentaries</td>\n",
       "      <td>As her father nears the end of his life, filmm...</td>\n",
       "    </tr>\n",
       "    <tr>\n",
       "      <th>1</th>\n",
       "      <td>s2</td>\n",
       "      <td>TV Show</td>\n",
       "      <td>Blood &amp; Water</td>\n",
       "      <td>Rajiv Chilaka</td>\n",
       "      <td>Ama Qamata, Khosi Ngema, Gail Mabalane, Thaban...</td>\n",
       "      <td>South Africa</td>\n",
       "      <td>2021-09-24</td>\n",
       "      <td>2021</td>\n",
       "      <td>TV-MA</td>\n",
       "      <td>2 Seasons</td>\n",
       "      <td>International TV Shows, TV Dramas, TV Mysteries</td>\n",
       "      <td>After crossing paths at a party, a Cape Town t...</td>\n",
       "    </tr>\n",
       "    <tr>\n",
       "      <th>2</th>\n",
       "      <td>s3</td>\n",
       "      <td>TV Show</td>\n",
       "      <td>Ganglands</td>\n",
       "      <td>Julien Leclercq</td>\n",
       "      <td>Sami Bouajila, Tracy Gotoas, Samuel Jouy, Nabi...</td>\n",
       "      <td>United States</td>\n",
       "      <td>2021-09-24</td>\n",
       "      <td>2021</td>\n",
       "      <td>TV-MA</td>\n",
       "      <td>1 Season</td>\n",
       "      <td>Crime TV Shows, International TV Shows, TV Act...</td>\n",
       "      <td>To protect his family from a powerful drug lor...</td>\n",
       "    </tr>\n",
       "    <tr>\n",
       "      <th>3</th>\n",
       "      <td>s4</td>\n",
       "      <td>TV Show</td>\n",
       "      <td>Jailbirds New Orleans</td>\n",
       "      <td>Rajiv Chilaka</td>\n",
       "      <td>David Attenborough</td>\n",
       "      <td>United States</td>\n",
       "      <td>2021-09-24</td>\n",
       "      <td>2021</td>\n",
       "      <td>TV-MA</td>\n",
       "      <td>1 Season</td>\n",
       "      <td>Docuseries, Reality TV</td>\n",
       "      <td>Feuds, flirtations and toilet talk go down amo...</td>\n",
       "    </tr>\n",
       "    <tr>\n",
       "      <th>4</th>\n",
       "      <td>s5</td>\n",
       "      <td>TV Show</td>\n",
       "      <td>Kota Factory</td>\n",
       "      <td>Rajiv Chilaka</td>\n",
       "      <td>Mayur More, Jitendra Kumar, Ranjan Raj, Alam K...</td>\n",
       "      <td>India</td>\n",
       "      <td>2021-09-24</td>\n",
       "      <td>2021</td>\n",
       "      <td>TV-MA</td>\n",
       "      <td>2 Seasons</td>\n",
       "      <td>International TV Shows, Romantic TV Shows, TV ...</td>\n",
       "      <td>In a city of coaching centers known to train I...</td>\n",
       "    </tr>\n",
       "    <tr>\n",
       "      <th>...</th>\n",
       "      <td>...</td>\n",
       "      <td>...</td>\n",
       "      <td>...</td>\n",
       "      <td>...</td>\n",
       "      <td>...</td>\n",
       "      <td>...</td>\n",
       "      <td>...</td>\n",
       "      <td>...</td>\n",
       "      <td>...</td>\n",
       "      <td>...</td>\n",
       "      <td>...</td>\n",
       "      <td>...</td>\n",
       "    </tr>\n",
       "    <tr>\n",
       "      <th>8802</th>\n",
       "      <td>s8803</td>\n",
       "      <td>Movie</td>\n",
       "      <td>Zodiac</td>\n",
       "      <td>David Fincher</td>\n",
       "      <td>Mark Ruffalo, Jake Gyllenhaal, Robert Downey J...</td>\n",
       "      <td>United States</td>\n",
       "      <td>2019-11-20</td>\n",
       "      <td>2007</td>\n",
       "      <td>R</td>\n",
       "      <td>158 min</td>\n",
       "      <td>Cult Movies, Dramas, Thrillers</td>\n",
       "      <td>A political cartoonist, a crime reporter and a...</td>\n",
       "    </tr>\n",
       "    <tr>\n",
       "      <th>8803</th>\n",
       "      <td>s8804</td>\n",
       "      <td>TV Show</td>\n",
       "      <td>Zombie Dumb</td>\n",
       "      <td>Rajiv Chilaka</td>\n",
       "      <td>David Attenborough</td>\n",
       "      <td>United States</td>\n",
       "      <td>2019-07-01</td>\n",
       "      <td>2018</td>\n",
       "      <td>TV-Y7</td>\n",
       "      <td>2 Seasons</td>\n",
       "      <td>Kids' TV, Korean TV Shows, TV Comedies</td>\n",
       "      <td>While living alone in a spooky town, a young g...</td>\n",
       "    </tr>\n",
       "    <tr>\n",
       "      <th>8804</th>\n",
       "      <td>s8805</td>\n",
       "      <td>Movie</td>\n",
       "      <td>Zombieland</td>\n",
       "      <td>Ruben Fleischer</td>\n",
       "      <td>Jesse Eisenberg, Woody Harrelson, Emma Stone, ...</td>\n",
       "      <td>United States</td>\n",
       "      <td>2019-11-01</td>\n",
       "      <td>2009</td>\n",
       "      <td>R</td>\n",
       "      <td>88 min</td>\n",
       "      <td>Comedies, Horror Movies</td>\n",
       "      <td>Looking to survive in a world taken over by zo...</td>\n",
       "    </tr>\n",
       "    <tr>\n",
       "      <th>8805</th>\n",
       "      <td>s8806</td>\n",
       "      <td>Movie</td>\n",
       "      <td>Zoom</td>\n",
       "      <td>Peter Hewitt</td>\n",
       "      <td>Tim Allen, Courteney Cox, Chevy Chase, Kate Ma...</td>\n",
       "      <td>United States</td>\n",
       "      <td>2020-01-11</td>\n",
       "      <td>2006</td>\n",
       "      <td>PG</td>\n",
       "      <td>88 min</td>\n",
       "      <td>Children &amp; Family Movies, Comedies</td>\n",
       "      <td>Dragged from civilian life, a former superhero...</td>\n",
       "    </tr>\n",
       "    <tr>\n",
       "      <th>8806</th>\n",
       "      <td>s8807</td>\n",
       "      <td>Movie</td>\n",
       "      <td>Zubaan</td>\n",
       "      <td>Mozez Singh</td>\n",
       "      <td>Vicky Kaushal, Sarah-Jane Dias, Raaghav Chanan...</td>\n",
       "      <td>India</td>\n",
       "      <td>2019-03-02</td>\n",
       "      <td>2015</td>\n",
       "      <td>TV-14</td>\n",
       "      <td>111 min</td>\n",
       "      <td>Dramas, International Movies, Music &amp; Musicals</td>\n",
       "      <td>A scrappy but poor boy worms his way into a ty...</td>\n",
       "    </tr>\n",
       "  </tbody>\n",
       "</table>\n",
       "<p>8790 rows × 12 columns</p>\n",
       "</div>"
      ],
      "text/plain": [
       "     show_id     type                  title         director  \\\n",
       "0         s1    Movie   Dick Johnson Is Dead  Kirsten Johnson   \n",
       "1         s2  TV Show          Blood & Water    Rajiv Chilaka   \n",
       "2         s3  TV Show              Ganglands  Julien Leclercq   \n",
       "3         s4  TV Show  Jailbirds New Orleans    Rajiv Chilaka   \n",
       "4         s5  TV Show           Kota Factory    Rajiv Chilaka   \n",
       "...      ...      ...                    ...              ...   \n",
       "8802   s8803    Movie                 Zodiac    David Fincher   \n",
       "8803   s8804  TV Show            Zombie Dumb    Rajiv Chilaka   \n",
       "8804   s8805    Movie             Zombieland  Ruben Fleischer   \n",
       "8805   s8806    Movie                   Zoom     Peter Hewitt   \n",
       "8806   s8807    Movie                 Zubaan      Mozez Singh   \n",
       "\n",
       "                                                   cast        country  \\\n",
       "0                                    David Attenborough  United States   \n",
       "1     Ama Qamata, Khosi Ngema, Gail Mabalane, Thaban...   South Africa   \n",
       "2     Sami Bouajila, Tracy Gotoas, Samuel Jouy, Nabi...  United States   \n",
       "3                                    David Attenborough  United States   \n",
       "4     Mayur More, Jitendra Kumar, Ranjan Raj, Alam K...          India   \n",
       "...                                                 ...            ...   \n",
       "8802  Mark Ruffalo, Jake Gyllenhaal, Robert Downey J...  United States   \n",
       "8803                                 David Attenborough  United States   \n",
       "8804  Jesse Eisenberg, Woody Harrelson, Emma Stone, ...  United States   \n",
       "8805  Tim Allen, Courteney Cox, Chevy Chase, Kate Ma...  United States   \n",
       "8806  Vicky Kaushal, Sarah-Jane Dias, Raaghav Chanan...          India   \n",
       "\n",
       "     date_added  release_year rating   duration  \\\n",
       "0    2021-09-25          2020  PG-13     90 min   \n",
       "1    2021-09-24          2021  TV-MA  2 Seasons   \n",
       "2    2021-09-24          2021  TV-MA   1 Season   \n",
       "3    2021-09-24          2021  TV-MA   1 Season   \n",
       "4    2021-09-24          2021  TV-MA  2 Seasons   \n",
       "...         ...           ...    ...        ...   \n",
       "8802 2019-11-20          2007      R    158 min   \n",
       "8803 2019-07-01          2018  TV-Y7  2 Seasons   \n",
       "8804 2019-11-01          2009      R     88 min   \n",
       "8805 2020-01-11          2006     PG     88 min   \n",
       "8806 2019-03-02          2015  TV-14    111 min   \n",
       "\n",
       "                                              listed_in  \\\n",
       "0                                         Documentaries   \n",
       "1       International TV Shows, TV Dramas, TV Mysteries   \n",
       "2     Crime TV Shows, International TV Shows, TV Act...   \n",
       "3                                Docuseries, Reality TV   \n",
       "4     International TV Shows, Romantic TV Shows, TV ...   \n",
       "...                                                 ...   \n",
       "8802                     Cult Movies, Dramas, Thrillers   \n",
       "8803             Kids' TV, Korean TV Shows, TV Comedies   \n",
       "8804                            Comedies, Horror Movies   \n",
       "8805                 Children & Family Movies, Comedies   \n",
       "8806     Dramas, International Movies, Music & Musicals   \n",
       "\n",
       "                                            description  \n",
       "0     As her father nears the end of his life, filmm...  \n",
       "1     After crossing paths at a party, a Cape Town t...  \n",
       "2     To protect his family from a powerful drug lor...  \n",
       "3     Feuds, flirtations and toilet talk go down amo...  \n",
       "4     In a city of coaching centers known to train I...  \n",
       "...                                                 ...  \n",
       "8802  A political cartoonist, a crime reporter and a...  \n",
       "8803  While living alone in a spooky town, a young g...  \n",
       "8804  Looking to survive in a world taken over by zo...  \n",
       "8805  Dragged from civilian life, a former superhero...  \n",
       "8806  A scrappy but poor boy worms his way into a ty...  \n",
       "\n",
       "[8790 rows x 12 columns]"
      ]
     },
     "execution_count": 51,
     "metadata": {},
     "output_type": "execute_result"
    }
   ],
   "source": [
    "pickle.load(open('netflix.pkl','rb'))"
   ]
  },
  {
   "cell_type": "code",
   "execution_count": 52,
   "metadata": {},
   "outputs": [
    {
     "data": {
      "text/plain": [
       "array([[1.00000000e+00, 0.00000000e+00, 0.00000000e+00, ...,\n",
       "        1.43681498e-04, 5.42608522e-04, 1.87111356e-04],\n",
       "       [0.00000000e+00, 1.00000000e+00, 1.21039410e-03, ...,\n",
       "        0.00000000e+00, 0.00000000e+00, 6.26544479e-04],\n",
       "       [0.00000000e+00, 1.21039410e-03, 1.00000000e+00, ...,\n",
       "        0.00000000e+00, 2.72151024e-04, 4.88255231e-04],\n",
       "       ...,\n",
       "       [1.43681498e-04, 0.00000000e+00, 0.00000000e+00, ...,\n",
       "        1.00000000e+00, 3.28378673e-04, 2.03568796e-04],\n",
       "       [5.42608522e-04, 0.00000000e+00, 2.72151024e-04, ...,\n",
       "        3.28378673e-04, 1.00000000e+00, 4.86354977e-04],\n",
       "       [1.87111356e-04, 6.26544479e-04, 4.88255231e-04, ...,\n",
       "        2.03568796e-04, 4.86354977e-04, 1.00000000e+00]])"
      ]
     },
     "execution_count": 52,
     "metadata": {},
     "output_type": "execute_result"
    }
   ],
   "source": [
    "pickle.load(open('cosine_sim.pkl', 'rb'))"
   ]
  },
  {
   "cell_type": "code",
   "execution_count": null,
   "metadata": {},
   "outputs": [],
   "source": []
  }
 ],
 "metadata": {
  "kernelspec": {
   "display_name": "Python 3",
   "language": "python",
   "name": "python3"
  },
  "language_info": {
   "codemirror_mode": {
    "name": "ipython",
    "version": 3
   },
   "file_extension": ".py",
   "mimetype": "text/x-python",
   "name": "python",
   "nbconvert_exporter": "python",
   "pygments_lexer": "ipython3",
   "version": "3.11.4"
  }
 },
 "nbformat": 4,
 "nbformat_minor": 2
}
